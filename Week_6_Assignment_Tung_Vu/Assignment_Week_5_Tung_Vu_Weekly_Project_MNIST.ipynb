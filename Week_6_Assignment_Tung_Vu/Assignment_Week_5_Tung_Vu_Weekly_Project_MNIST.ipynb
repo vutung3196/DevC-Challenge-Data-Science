{
  "nbformat": 4,
  "nbformat_minor": 0,
  "metadata": {
    "colab": {
      "name": "Assignment-Week-5-Tung-Vu-Weekly-Project-MNIST.ipynb",
      "provenance": [],
      "collapsed_sections": []
    },
    "kernelspec": {
      "display_name": "Python 3",
      "language": "python",
      "name": "python3"
    },
    "language_info": {
      "codemirror_mode": {
        "name": "ipython",
        "version": 3
      },
      "file_extension": ".py",
      "mimetype": "text/x-python",
      "name": "python",
      "nbconvert_exporter": "python",
      "pygments_lexer": "ipython3",
      "version": "3.7.6"
    }
  },
  "cells": [
    {
      "cell_type": "markdown",
      "metadata": {
        "colab_type": "text",
        "id": "Ps5x-gYUCf9_"
      },
      "source": [
        "# Handwritten Digits Classification"
      ]
    },
    {
      "cell_type": "markdown",
      "metadata": {
        "colab_type": "text",
        "id": "0glR10XBCxNy"
      },
      "source": [
        "## Overview\n",
        "\n",
        "The MNIST database (Modified National Institute of Standards and Technology database) is a large database of handwritten digits that is commonly used for training various image processing systems. MNIST is like the \"Hello World\" of machine learning with which you can try out a few machine learning algorithms.\n",
        "\n",
        "![](https://upload.wikimedia.org/wikipedia/commons/2/27/MnistExamples.png)\n",
        "\n",
        "Each image is 28 pixels in height and 28 pixels in width, for a total of 784 pixels in total. Each pixel has a single pixel-value associated with it, indicating the lightness or darkness of that pixel, with higher numbers meaning lighter. This pixel-value is an integer between 0 and 255, inclusive.\n",
        "\n",
        "Visually, if we omit the \"pixel\" prefix, the pixels make up the image like this:\n",
        "```\n",
        "000 001 002 003 ... 026 027\n",
        "028 029 030 031 ... 054 055\n",
        "056 057 058 059 ... 082 083\n",
        " |   |   |   |  ...  |   |\n",
        "728 729 730 731 ... 754 755\n",
        "756 757 758 759 ... 782 783 \n",
        "```"
      ]
    },
    {
      "cell_type": "markdown",
      "metadata": {
        "colab_type": "text",
        "id": "-3hGXfqVDRna"
      },
      "source": [
        "## Get Data"
      ]
    },
    {
      "cell_type": "code",
      "metadata": {
        "colab_type": "code",
        "id": "4IWx_-bBEYAT",
        "colab": {
          "base_uri": "https://localhost:8080/",
          "height": 70
        },
        "outputId": "473f7bc9-9028-45fe-8490-4c0211478ab9"
      },
      "source": [
        "import numpy as np\n",
        "import pandas as pd\n",
        "import seaborn as sns\n",
        "import matplotlib.pyplot as plt\n",
        "%matplotlib inline\n",
        "\n",
        "import warnings\n",
        "warnings.filterwarnings('ignore')\n",
        "\n",
        "sns.set_style(\"whitegrid\")"
      ],
      "execution_count": 1,
      "outputs": [
        {
          "output_type": "stream",
          "text": [
            "/usr/local/lib/python3.6/dist-packages/statsmodels/tools/_testing.py:19: FutureWarning: pandas.util.testing is deprecated. Use the functions in the public API at pandas.testing instead.\n",
            "  import pandas.util.testing as tm\n"
          ],
          "name": "stderr"
        }
      ]
    },
    {
      "cell_type": "code",
      "metadata": {
        "colab_type": "code",
        "id": "BNhUbXb9CSbh",
        "colab": {
          "base_uri": "https://localhost:8080/",
          "height": 84
        },
        "outputId": "96f0b2e5-1fc7-415c-b46f-5531ff638d6a"
      },
      "source": [
        "from tensorflow.keras.datasets import mnist\n",
        "\n",
        "(X_train, y_train), (X_test, y_test) = mnist.load_data()\n",
        "\n",
        "print('Training data:', X_train.shape, y_train.shape)\n",
        "print('Test data:', X_test.shape, y_test.shape)"
      ],
      "execution_count": 2,
      "outputs": [
        {
          "output_type": "stream",
          "text": [
            "Downloading data from https://storage.googleapis.com/tensorflow/tf-keras-datasets/mnist.npz\n",
            "11493376/11490434 [==============================] - 0s 0us/step\n",
            "Training data: (60000, 28, 28) (60000,)\n",
            "Test data: (10000, 28, 28) (10000,)\n"
          ],
          "name": "stdout"
        }
      ]
    },
    {
      "cell_type": "markdown",
      "metadata": {
        "colab_type": "text",
        "id": "VYTtM9VlGs31"
      },
      "source": [
        "## EDA"
      ]
    },
    {
      "cell_type": "code",
      "metadata": {
        "colab_type": "code",
        "id": "xcZURSKuDcvm",
        "colab": {}
      },
      "source": [
        "def plot_images(images, labels):\n",
        "    '''Plot images with their labels. Ten each row'''\n",
        "    plt.figure(figsize=(20, 10))\n",
        "    columns = 10\n",
        "    for i, image in enumerate(images):\n",
        "        ax = plt.subplot(len(images) / columns + 1, columns, i + 1)\n",
        "        ax.set_title(f\"{labels[i]}\", fontsize=16)\n",
        "        plt.axis('off')\n",
        "        plt.subplots_adjust(bottom=0.1)\n",
        "        plt.imshow(image, cmap='gray')\n",
        "\n",
        "def get_samples(n_samples, X, y):\n",
        "    '''Get n_samples images randomly'''\n",
        "    samples = np.random.choice(np.arange(len(y)), n_samples, replace=False)\n",
        "    return X[samples], y[samples]\n",
        "\n",
        "def get_digit(digit, n_samples, X, y):\n",
        "    '''Get n_samples images of the class digit randomly'''\n",
        "    y_digit = y[y == digit]\n",
        "    samples = np.random.choice(np.arange(len(y_digit)), n_samples, replace=False)\n",
        "    return X[y == digit][samples], y_digit[samples]"
      ],
      "execution_count": 4,
      "outputs": []
    },
    {
      "cell_type": "code",
      "metadata": {
        "colab_type": "code",
        "id": "OpMe7EMCEF01",
        "colab": {
          "base_uri": "https://localhost:8080/",
          "height": 436
        },
        "outputId": "30e0009c-a296-4ec2-b34e-9cb960f595b6"
      },
      "source": [
        "n_samples = 30\n",
        "images, labels = get_samples(n_samples, X_train, y_train)\n",
        "# images, labels = get_digit(4, n_samples)\n",
        "plot_images(images, labels)"
      ],
      "execution_count": 5,
      "outputs": [
        {
          "output_type": "display_data",
          "data": {
            "image/png": "[encoded data removed]",
            "text/plain": [
              "<Figure size 1440x720 with 30 Axes>"
            ]
          },
          "metadata": {
            "tags": [],
            "needs_background": "light"
          }
        }
      ]
    },
    {
      "cell_type": "markdown",
      "metadata": {
        "id": "Mh5Jukj4AIa8",
        "colab_type": "text"
      },
      "source": [
        "**Plot the barplot of number of images of each class (0 to 9)**"
      ]
    },
    {
      "cell_type": "code",
      "metadata": {
        "colab_type": "code",
        "id": "xjVYEat8EJTd",
        "colab": {
          "base_uri": "https://localhost:8080/",
          "height": 281
        },
        "outputId": "4603aa97-7d25-458c-90e3-611729c7d087"
      },
      "source": [
        "# Your code here\n",
        "sns.countplot(y_test)"
      ],
      "execution_count": 25,
      "outputs": [
        {
          "output_type": "execute_result",
          "data": {
            "text/plain": [
              "<matplotlib.axes._subplots.AxesSubplot at 0x7fd909415198>"
            ]
          },
          "metadata": {
            "tags": []
          },
          "execution_count": 25
        },
        {
          "output_type": "display_data",
          "data": {
            "image/png": "[encoded data removed]",
            "text/plain": [
              "<Figure size 432x288 with 1 Axes>"
            ]
          },
          "metadata": {
            "tags": [],
            "needs_background": "light"
          }
        }
      ]
    },
    {
      "cell_type": "markdown",
      "metadata": {
        "id": "yRxFLQZjAIbA",
        "colab_type": "text"
      },
      "source": [
        "**Print out the range of pixel values (min, max)**"
      ]
    },
    {
      "cell_type": "code",
      "metadata": {
        "colab_type": "code",
        "id": "d0rZBlU8FmtE",
        "colab": {
          "base_uri": "https://localhost:8080/",
          "height": 33
        },
        "outputId": "52ba0f9a-4850-48fd-85fd-24e42f5d1215"
      },
      "source": [
        "# Your code here\n",
        "print('Pixel value range: ', X_train.min(), X_train.max())"
      ],
      "execution_count": 8,
      "outputs": [
        {
          "output_type": "stream",
          "text": [
            "Pixel value range:  0 255\n"
          ],
          "name": "stdout"
        }
      ]
    },
    {
      "cell_type": "markdown",
      "metadata": {
        "colab_type": "text",
        "id": "XC2sFqfcJjQ1"
      },
      "source": [
        "## Transform data for training"
      ]
    },
    {
      "cell_type": "markdown",
      "metadata": {
        "id": "HtTutiwqAIbE",
        "colab_type": "text"
      },
      "source": [
        "**Get the first `n_samples` images randomly from training set and test set. Then reshape them into long vectors**"
      ]
    },
    {
      "cell_type": "code",
      "metadata": {
        "colab_type": "code",
        "id": "XF1XGXrvJlri",
        "colab": {}
      },
      "source": [
        "n_samples = 1000\n",
        "n_test_samples = 200\n",
        "# Fill the blanks\n",
        "X_train_flat, y_train_flat = get_samples(n_samples, X_train, y_train)\n",
        "X_test_flat, y_test_flat = get_samples(n_test_samples, X_test, y_test)\n",
        "\n",
        "# Normalization\n",
        "X_train_flat = X_train_flat.reshape((n_samples, -1))/255\n",
        "X_test_flat = X_test_flat.reshape((n_test_samples, -1))/255"
      ],
      "execution_count": 10,
      "outputs": []
    },
    {
      "cell_type": "code",
      "metadata": {
        "colab_type": "code",
        "id": "66rNQGgnK1MX",
        "colab": {
          "base_uri": "https://localhost:8080/",
          "height": 51
        },
        "outputId": "2fa94b44-a17e-4a45-d6bc-b6d8779a85f7"
      },
      "source": [
        "print('Training data', X_train_flat.shape)\n",
        "print('Test data', X_test_flat.shape)"
      ],
      "execution_count": null,
      "outputs": [
        {
          "output_type": "stream",
          "text": [
            "Training data (1000, 784)\n",
            "Test data (200, 784)\n"
          ],
          "name": "stdout"
        }
      ]
    },
    {
      "cell_type": "markdown",
      "metadata": {
        "colab_type": "text",
        "id": "bmxGMEGGLaJI"
      },
      "source": [
        "## Train models"
      ]
    },
    {
      "cell_type": "code",
      "metadata": {
        "colab_type": "code",
        "id": "4tJcSPEbLRsh",
        "colab": {}
      },
      "source": [
        "from sklearn.svm import SVC\n",
        "from sklearn.metrics import confusion_matrix, accuracy_score\n",
        "from sklearn.model_selection import cross_val_score\n",
        "from sklearn.model_selection import GridSearchCV"
      ],
      "execution_count": 12,
      "outputs": []
    },
    {
      "cell_type": "markdown",
      "metadata": {
        "id": "8vHewJOQAIbL",
        "colab_type": "text"
      },
      "source": [
        "**Train a SVM model**: Set up the training process and train with the small samples of data first before you take the full training dataset to train."
      ]
    },
    {
      "cell_type": "code",
      "metadata": {
        "id": "Mo2qhFY_AIbL",
        "colab_type": "code",
        "colab": {
          "base_uri": "https://localhost:8080/",
          "height": 84
        },
        "outputId": "b46a7fa4-8d44-4638-cb04-0a6cf22a6b7a"
      },
      "source": [
        "# Your code here\n",
        "clf = SVC(kernel='linear')\n",
        "clf.fit(X_train_flat, y_train_flat)"
      ],
      "execution_count": 13,
      "outputs": [
        {
          "output_type": "execute_result",
          "data": {
            "text/plain": [
              "SVC(C=1.0, break_ties=False, cache_size=200, class_weight=None, coef0=0.0,\n",
              "    decision_function_shape='ovr', degree=3, gamma='scale', kernel='linear',\n",
              "    max_iter=-1, probability=False, random_state=None, shrinking=True,\n",
              "    tol=0.001, verbose=False)"
            ]
          },
          "metadata": {
            "tags": []
          },
          "execution_count": 13
        }
      ]
    },
    {
      "cell_type": "code",
      "metadata": {
        "id": "GNyvi5I3MRPo",
        "colab_type": "code",
        "colab": {
          "base_uri": "https://localhost:8080/",
          "height": 217
        },
        "outputId": "e2f59dd1-1364-4d1f-f255-3889fd84678c"
      },
      "source": [
        "parameters = {'gamma': [0.0001, 0.001, 0.01], 'C':[0.01, 0.1, 1, 10, 100]}\n",
        "model = SVC(kernel='rbf')\n",
        "gridsearch_models = GridSearchCV(estimator=model, param_grid=parameters, scoring='accuracy', cv=5, n_jobs=-1)\n",
        "gridsearch_models.fit(X_train_flat, y_train_flat)"
      ],
      "execution_count": 16,
      "outputs": [
        {
          "output_type": "execute_result",
          "data": {
            "text/plain": [
              "GridSearchCV(cv=5, error_score=nan,\n",
              "             estimator=SVC(C=1.0, break_ties=False, cache_size=200,\n",
              "                           class_weight=None, coef0=0.0,\n",
              "                           decision_function_shape='ovr', degree=3,\n",
              "                           gamma='scale', kernel='rbf', max_iter=-1,\n",
              "                           probability=False, random_state=None, shrinking=True,\n",
              "                           tol=0.001, verbose=False),\n",
              "             iid='deprecated', n_jobs=-1,\n",
              "             param_grid={'C': [0.01, 0.1, 1, 10, 100],\n",
              "                         'gamma': [0.0001, 0.001, 0.01]},\n",
              "             pre_dispatch='2*n_jobs', refit=True, return_train_score=False,\n",
              "             scoring='accuracy', verbose=0)"
            ]
          },
          "metadata": {
            "tags": []
          },
          "execution_count": 16
        }
      ]
    },
    {
      "cell_type": "code",
      "metadata": {
        "id": "LJ360f3jNETC",
        "colab_type": "code",
        "colab": {
          "base_uri": "https://localhost:8080/",
          "height": 1000
        },
        "outputId": "b61a995c-18e3-456c-ba58-798c8af29cda"
      },
      "source": [
        "pd.DataFrame(gridsearch_models.cv_results_)"
      ],
      "execution_count": 17,
      "outputs": [
        {
          "output_type": "execute_result",
          "data": {
            "text/html": [
              "<div>\n",
              "<style scoped>\n",
              "    .dataframe tbody tr th:only-of-type {\n",
              "        vertical-align: middle;\n",
              "    }\n",
              "\n",
              "    .dataframe tbody tr th {\n",
              "        vertical-align: top;\n",
              "    }\n",
              "\n",
              "    .dataframe thead th {\n",
              "        text-align: right;\n",
              "    }\n",
              "</style>\n",
              "<table border=\"1\" class=\"dataframe\">\n",
              "  <thead>\n",
              "    <tr style=\"text-align: right;\">\n",
              "      <th></th>\n",
              "      <th>mean_fit_time</th>\n",
              "      <th>std_fit_time</th>\n",
              "      <th>mean_score_time</th>\n",
              "      <th>std_score_time</th>\n",
              "      <th>param_C</th>\n",
              "      <th>param_gamma</th>\n",
              "      <th>params</th>\n",
              "      <th>split0_test_score</th>\n",
              "      <th>split1_test_score</th>\n",
              "      <th>split2_test_score</th>\n",
              "      <th>split3_test_score</th>\n",
              "      <th>split4_test_score</th>\n",
              "      <th>mean_test_score</th>\n",
              "      <th>std_test_score</th>\n",
              "      <th>rank_test_score</th>\n",
              "    </tr>\n",
              "  </thead>\n",
              "  <tbody>\n",
              "    <tr>\n",
              "      <th>0</th>\n",
              "      <td>1.377858</td>\n",
              "      <td>0.017238</td>\n",
              "      <td>0.198454</td>\n",
              "      <td>0.002343</td>\n",
              "      <td>0.01</td>\n",
              "      <td>0.0001</td>\n",
              "      <td>{'C': 0.01, 'gamma': 0.0001}</td>\n",
              "      <td>0.110</td>\n",
              "      <td>0.110</td>\n",
              "      <td>0.220</td>\n",
              "      <td>0.215</td>\n",
              "      <td>0.215</td>\n",
              "      <td>0.174</td>\n",
              "      <td>0.052288</td>\n",
              "      <td>11</td>\n",
              "    </tr>\n",
              "    <tr>\n",
              "      <th>1</th>\n",
              "      <td>1.380746</td>\n",
              "      <td>0.007369</td>\n",
              "      <td>0.210746</td>\n",
              "      <td>0.002959</td>\n",
              "      <td>0.01</td>\n",
              "      <td>0.001</td>\n",
              "      <td>{'C': 0.01, 'gamma': 0.001}</td>\n",
              "      <td>0.110</td>\n",
              "      <td>0.110</td>\n",
              "      <td>0.220</td>\n",
              "      <td>0.215</td>\n",
              "      <td>0.215</td>\n",
              "      <td>0.174</td>\n",
              "      <td>0.052288</td>\n",
              "      <td>11</td>\n",
              "    </tr>\n",
              "    <tr>\n",
              "      <th>2</th>\n",
              "      <td>1.400440</td>\n",
              "      <td>0.011289</td>\n",
              "      <td>0.198408</td>\n",
              "      <td>0.003956</td>\n",
              "      <td>0.01</td>\n",
              "      <td>0.01</td>\n",
              "      <td>{'C': 0.01, 'gamma': 0.01}</td>\n",
              "      <td>0.110</td>\n",
              "      <td>0.110</td>\n",
              "      <td>0.220</td>\n",
              "      <td>0.220</td>\n",
              "      <td>0.215</td>\n",
              "      <td>0.175</td>\n",
              "      <td>0.053104</td>\n",
              "      <td>10</td>\n",
              "    </tr>\n",
              "    <tr>\n",
              "      <th>3</th>\n",
              "      <td>1.396460</td>\n",
              "      <td>0.011557</td>\n",
              "      <td>0.202149</td>\n",
              "      <td>0.004497</td>\n",
              "      <td>0.1</td>\n",
              "      <td>0.0001</td>\n",
              "      <td>{'C': 0.1, 'gamma': 0.0001}</td>\n",
              "      <td>0.110</td>\n",
              "      <td>0.110</td>\n",
              "      <td>0.220</td>\n",
              "      <td>0.215</td>\n",
              "      <td>0.215</td>\n",
              "      <td>0.174</td>\n",
              "      <td>0.052288</td>\n",
              "      <td>11</td>\n",
              "    </tr>\n",
              "    <tr>\n",
              "      <th>4</th>\n",
              "      <td>1.393277</td>\n",
              "      <td>0.010118</td>\n",
              "      <td>0.204189</td>\n",
              "      <td>0.009405</td>\n",
              "      <td>0.1</td>\n",
              "      <td>0.001</td>\n",
              "      <td>{'C': 0.1, 'gamma': 0.001}</td>\n",
              "      <td>0.110</td>\n",
              "      <td>0.110</td>\n",
              "      <td>0.220</td>\n",
              "      <td>0.215</td>\n",
              "      <td>0.215</td>\n",
              "      <td>0.174</td>\n",
              "      <td>0.052288</td>\n",
              "      <td>11</td>\n",
              "    </tr>\n",
              "    <tr>\n",
              "      <th>5</th>\n",
              "      <td>1.280333</td>\n",
              "      <td>0.015714</td>\n",
              "      <td>0.192627</td>\n",
              "      <td>0.000979</td>\n",
              "      <td>0.1</td>\n",
              "      <td>0.01</td>\n",
              "      <td>{'C': 0.1, 'gamma': 0.01}</td>\n",
              "      <td>0.715</td>\n",
              "      <td>0.685</td>\n",
              "      <td>0.705</td>\n",
              "      <td>0.665</td>\n",
              "      <td>0.675</td>\n",
              "      <td>0.689</td>\n",
              "      <td>0.018547</td>\n",
              "      <td>9</td>\n",
              "    </tr>\n",
              "    <tr>\n",
              "      <th>6</th>\n",
              "      <td>1.390329</td>\n",
              "      <td>0.007799</td>\n",
              "      <td>0.196653</td>\n",
              "      <td>0.002086</td>\n",
              "      <td>1</td>\n",
              "      <td>0.0001</td>\n",
              "      <td>{'C': 1, 'gamma': 0.0001}</td>\n",
              "      <td>0.110</td>\n",
              "      <td>0.110</td>\n",
              "      <td>0.220</td>\n",
              "      <td>0.215</td>\n",
              "      <td>0.215</td>\n",
              "      <td>0.174</td>\n",
              "      <td>0.052288</td>\n",
              "      <td>11</td>\n",
              "    </tr>\n",
              "    <tr>\n",
              "      <th>7</th>\n",
              "      <td>1.019224</td>\n",
              "      <td>0.007144</td>\n",
              "      <td>0.185918</td>\n",
              "      <td>0.001479</td>\n",
              "      <td>1</td>\n",
              "      <td>0.001</td>\n",
              "      <td>{'C': 1, 'gamma': 0.001}</td>\n",
              "      <td>0.795</td>\n",
              "      <td>0.810</td>\n",
              "      <td>0.780</td>\n",
              "      <td>0.730</td>\n",
              "      <td>0.785</td>\n",
              "      <td>0.780</td>\n",
              "      <td>0.027019</td>\n",
              "      <td>8</td>\n",
              "    </tr>\n",
              "    <tr>\n",
              "      <th>8</th>\n",
              "      <td>0.692412</td>\n",
              "      <td>0.008508</td>\n",
              "      <td>0.157137</td>\n",
              "      <td>0.001089</td>\n",
              "      <td>1</td>\n",
              "      <td>0.01</td>\n",
              "      <td>{'C': 1, 'gamma': 0.01}</td>\n",
              "      <td>0.915</td>\n",
              "      <td>0.920</td>\n",
              "      <td>0.905</td>\n",
              "      <td>0.880</td>\n",
              "      <td>0.915</td>\n",
              "      <td>0.907</td>\n",
              "      <td>0.014353</td>\n",
              "      <td>3</td>\n",
              "    </tr>\n",
              "    <tr>\n",
              "      <th>9</th>\n",
              "      <td>0.992381</td>\n",
              "      <td>0.012156</td>\n",
              "      <td>0.187090</td>\n",
              "      <td>0.003732</td>\n",
              "      <td>10</td>\n",
              "      <td>0.0001</td>\n",
              "      <td>{'C': 10, 'gamma': 0.0001}</td>\n",
              "      <td>0.790</td>\n",
              "      <td>0.815</td>\n",
              "      <td>0.775</td>\n",
              "      <td>0.750</td>\n",
              "      <td>0.785</td>\n",
              "      <td>0.783</td>\n",
              "      <td>0.021119</td>\n",
              "      <td>7</td>\n",
              "    </tr>\n",
              "    <tr>\n",
              "      <th>10</th>\n",
              "      <td>0.512588</td>\n",
              "      <td>0.016602</td>\n",
              "      <td>0.143219</td>\n",
              "      <td>0.004897</td>\n",
              "      <td>10</td>\n",
              "      <td>0.001</td>\n",
              "      <td>{'C': 10, 'gamma': 0.001}</td>\n",
              "      <td>0.900</td>\n",
              "      <td>0.905</td>\n",
              "      <td>0.900</td>\n",
              "      <td>0.875</td>\n",
              "      <td>0.885</td>\n",
              "      <td>0.893</td>\n",
              "      <td>0.011225</td>\n",
              "      <td>5</td>\n",
              "    </tr>\n",
              "    <tr>\n",
              "      <th>11</th>\n",
              "      <td>0.696455</td>\n",
              "      <td>0.009597</td>\n",
              "      <td>0.153556</td>\n",
              "      <td>0.004371</td>\n",
              "      <td>10</td>\n",
              "      <td>0.01</td>\n",
              "      <td>{'C': 10, 'gamma': 0.01}</td>\n",
              "      <td>0.920</td>\n",
              "      <td>0.940</td>\n",
              "      <td>0.920</td>\n",
              "      <td>0.895</td>\n",
              "      <td>0.940</td>\n",
              "      <td>0.923</td>\n",
              "      <td>0.016613</td>\n",
              "      <td>1</td>\n",
              "    </tr>\n",
              "    <tr>\n",
              "      <th>12</th>\n",
              "      <td>0.492515</td>\n",
              "      <td>0.004323</td>\n",
              "      <td>0.140549</td>\n",
              "      <td>0.004437</td>\n",
              "      <td>100</td>\n",
              "      <td>0.0001</td>\n",
              "      <td>{'C': 100, 'gamma': 0.0001}</td>\n",
              "      <td>0.900</td>\n",
              "      <td>0.895</td>\n",
              "      <td>0.895</td>\n",
              "      <td>0.870</td>\n",
              "      <td>0.880</td>\n",
              "      <td>0.888</td>\n",
              "      <td>0.011225</td>\n",
              "      <td>6</td>\n",
              "    </tr>\n",
              "    <tr>\n",
              "      <th>13</th>\n",
              "      <td>0.442747</td>\n",
              "      <td>0.007572</td>\n",
              "      <td>0.132191</td>\n",
              "      <td>0.005282</td>\n",
              "      <td>100</td>\n",
              "      <td>0.001</td>\n",
              "      <td>{'C': 100, 'gamma': 0.001}</td>\n",
              "      <td>0.885</td>\n",
              "      <td>0.920</td>\n",
              "      <td>0.890</td>\n",
              "      <td>0.885</td>\n",
              "      <td>0.890</td>\n",
              "      <td>0.894</td>\n",
              "      <td>0.013191</td>\n",
              "      <td>4</td>\n",
              "    </tr>\n",
              "    <tr>\n",
              "      <th>14</th>\n",
              "      <td>0.697599</td>\n",
              "      <td>0.009902</td>\n",
              "      <td>0.151833</td>\n",
              "      <td>0.003974</td>\n",
              "      <td>100</td>\n",
              "      <td>0.01</td>\n",
              "      <td>{'C': 100, 'gamma': 0.01}</td>\n",
              "      <td>0.920</td>\n",
              "      <td>0.940</td>\n",
              "      <td>0.920</td>\n",
              "      <td>0.895</td>\n",
              "      <td>0.940</td>\n",
              "      <td>0.923</td>\n",
              "      <td>0.016613</td>\n",
              "      <td>1</td>\n",
              "    </tr>\n",
              "  </tbody>\n",
              "</table>\n",
              "</div>"
            ],
            "text/plain": [
              "    mean_fit_time  std_fit_time  ...  std_test_score  rank_test_score\n",
              "0        1.377858      0.017238  ...        0.052288               11\n",
              "1        1.380746      0.007369  ...        0.052288               11\n",
              "2        1.400440      0.011289  ...        0.053104               10\n",
              "3        1.396460      0.011557  ...        0.052288               11\n",
              "4        1.393277      0.010118  ...        0.052288               11\n",
              "5        1.280333      0.015714  ...        0.018547                9\n",
              "6        1.390329      0.007799  ...        0.052288               11\n",
              "7        1.019224      0.007144  ...        0.027019                8\n",
              "8        0.692412      0.008508  ...        0.014353                3\n",
              "9        0.992381      0.012156  ...        0.021119                7\n",
              "10       0.512588      0.016602  ...        0.011225                5\n",
              "11       0.696455      0.009597  ...        0.016613                1\n",
              "12       0.492515      0.004323  ...        0.011225                6\n",
              "13       0.442747      0.007572  ...        0.013191                4\n",
              "14       0.697599      0.009902  ...        0.016613                1\n",
              "\n",
              "[15 rows x 15 columns]"
            ]
          },
          "metadata": {
            "tags": []
          },
          "execution_count": 17
        }
      ]
    },
    {
      "cell_type": "code",
      "metadata": {
        "id": "GVtADi2-N3ic",
        "colab_type": "code",
        "colab": {
          "base_uri": "https://localhost:8080/",
          "height": 50
        },
        "outputId": "12cc4a28-9a56-423d-f987-fd8032c3a83f"
      },
      "source": [
        "print('Best params', gridsearch_models.best_params_)\n",
        "print('Best score', gridsearch_models.best_score_)"
      ],
      "execution_count": 18,
      "outputs": [
        {
          "output_type": "stream",
          "text": [
            "Best params {'C': 10, 'gamma': 0.01}\n",
            "Best score 0.923\n"
          ],
          "name": "stdout"
        }
      ]
    },
    {
      "cell_type": "code",
      "metadata": {
        "id": "QugwHl-LN58T",
        "colab_type": "code",
        "colab": {}
      },
      "source": [
        "best_model = gridsearch_models.best_estimator_"
      ],
      "execution_count": 19,
      "outputs": []
    },
    {
      "cell_type": "markdown",
      "metadata": {
        "colab_type": "text",
        "id": "rupa4m2jX5rm"
      },
      "source": [
        "## Evaluation"
      ]
    },
    {
      "cell_type": "markdown",
      "metadata": {
        "id": "2ncaF-JMAIbN",
        "colab_type": "text"
      },
      "source": [
        "**Get the predictions on test data**"
      ]
    },
    {
      "cell_type": "code",
      "metadata": {
        "colab_type": "code",
        "id": "1rwL5VCIX9qi",
        "colab": {
          "base_uri": "https://localhost:8080/",
          "height": 33
        },
        "outputId": "d9ccc90e-2ff5-45ec-acef-f7f9692cb57a"
      },
      "source": [
        "# Your code here\n",
        "predictions = best_model.predict(X_test_flat)\n",
        "print('Accuracy Score:', accuracy_score(y_test_flat, predictions))"
      ],
      "execution_count": 20,
      "outputs": [
        {
          "output_type": "stream",
          "text": [
            "Accuracy Score: 0.915\n"
          ],
          "name": "stdout"
        }
      ]
    },
    {
      "cell_type": "markdown",
      "metadata": {
        "id": "IGuF9RSNAIbQ",
        "colab_type": "text"
      },
      "source": [
        "**Plot the confusion matrix in form of a heatmap**"
      ]
    },
    {
      "cell_type": "code",
      "metadata": {
        "colab_type": "code",
        "id": "2RyKjfmHX7SN",
        "colab": {
          "base_uri": "https://localhost:8080/",
          "height": 612
        },
        "outputId": "4014446e-247d-4775-a6cb-d3d050edfb99"
      },
      "source": [
        "# Your code here\n",
        "plt.figure(figsize=(10,10))\n",
        "sns.heatmap(confusion_matrix(y_test_flat, predictions), cmap=\"YlGnBu\", annot=True, fmt=\"d\")\n",
        "plt.title(f'Accuracy score: {accuracy_score(y_test_flat, predictions)}', fontsize=20)\n",
        "plt.show()"
      ],
      "execution_count": 21,
      "outputs": [
        {
          "output_type": "display_data",
          "data": {
            "image/png": "[encoded data removed]",
            "text/plain": [
              "<Figure size 720x720 with 2 Axes>"
            ]
          },
          "metadata": {
            "tags": [],
            "needs_background": "light"
          }
        }
      ]
    },
    {
      "cell_type": "markdown",
      "metadata": {
        "id": "tSlYzbs9AIbS",
        "colab_type": "text"
      },
      "source": [
        "**Plot the samples that the model predicts incorrectly**"
      ]
    },
    {
      "cell_type": "code",
      "metadata": {
        "colab_type": "code",
        "id": "-_uUXSpazDLu",
        "colab": {
          "base_uri": "https://localhost:8080/",
          "height": 450
        },
        "outputId": "6cab8640-9862-408f-90cb-11a4aa0f1373"
      },
      "source": [
        "# Your code here\n",
        "wrong_predicted_images = X_test_flat[y_test_flat != predictions].reshape((-1, 28, 28))\n",
        "wrong_predictions = predictions[y_test_flat != predictions]\n",
        "\n",
        "plot_images(wrong_predicted_images, wrong_predictions)"
      ],
      "execution_count": 22,
      "outputs": [
        {
          "output_type": "display_data",
          "data": {
            "image/png": "[encoded data removed]",
            "text/plain": [
              "<Figure size 1440x720 with 17 Axes>"
            ]
          },
          "metadata": {
            "tags": [],
            "needs_background": "light"
          }
        }
      ]
    },
    {
      "cell_type": "markdown",
      "metadata": {
        "colab_type": "text",
        "id": "Y8O1Hh7LYNjP"
      },
      "source": [
        "## Save model"
      ]
    },
    {
      "cell_type": "code",
      "metadata": {
        "colab_type": "code",
        "id": "C7cNiWsLYPTE",
        "colab": {}
      },
      "source": [
        "import pickle\n",
        "\n",
        "pickle.dump(clf, open('svm_mnist.pkl', 'wb'))"
      ],
      "execution_count": 23,
      "outputs": []
    },
    {
      "cell_type": "markdown",
      "metadata": {
        "colab_type": "text",
        "id": "5B-g57XIYuH0"
      },
      "source": [
        "**Re-load model for testing**"
      ]
    },
    {
      "cell_type": "code",
      "metadata": {
        "colab_type": "code",
        "id": "WDsYcxfzYd8F",
        "colab": {
          "base_uri": "https://localhost:8080/",
          "height": 33
        },
        "outputId": "a0aeea70-9d9e-4ce6-c9ab-b4c140d191d2"
      },
      "source": [
        "# Your code here\n",
        "with open('svm_mnist.pkl', 'rb') as model:\n",
        "    reload_model = pickle.load(model)\n",
        "\n",
        "predictions = reload_model.predict(X_test_flat)\n",
        "print(f'Accuracy score: {accuracy_score(y_test_flat, predictions)}')"
      ],
      "execution_count": 24,
      "outputs": [
        {
          "output_type": "stream",
          "text": [
            "Accuracy score: 0.885\n"
          ],
          "name": "stdout"
        }
      ]
    },
    {
      "cell_type": "markdown",
      "metadata": {
        "colab_type": "text",
        "id": "1BVyCBz2m0Lz"
      },
      "source": [
        "## BONUS: Embedding the model into a web application"
      ]
    },
    {
      "cell_type": "markdown",
      "metadata": {
        "colab_type": "text",
        "id": "0Y2hes6WnfxV"
      },
      "source": [
        "### Project structure\n",
        "\n",
        "* Clone the files of the repository\n",
        "\n",
        "```bash\n",
        "git clone https://github.com/dhminh1024/flask_doc.git\n",
        "```\n",
        "\n",
        "* Change directory\n",
        "\n",
        "```bash\n",
        "cd flask_doc\n",
        "```\n",
        "\n",
        "* Create the following folders and files\n",
        "\n",
        "|-app/\n",
        "    |-templates/\n",
        "        |-base.html\n",
        "    |-static/\n",
        "        |-js/\n",
        "            |-index.js\n",
        "        |-css/\n",
        "            |-style.css\n",
        "        |-images/\n",
        "    |-blueprints/\n",
        "        |-__ init__.py\n",
        "    |-middlewares/\n",
        "    |-models/\n",
        "    |-main.py\n",
        "\n",
        "```bash\n",
        "mkdir app app/templates app/static app/static/js app/static/css app/static/images app/blueprints app/middlewares app/models\n",
        "touch app/main.py app/templates/base.html app/static/js/index.js app/static/css/style.css\n",
        "touch app/blueprints/__init__.py\n",
        "```\n",
        "\n",
        "* Add jquery (optional)\n",
        "\n",
        "```bash\n",
        "mv ./jquery-3.4.1.min.js app/static/js/\n",
        "```\n",
        "\n",
        "* Add Canvas (optional)\n",
        "\n",
        "```bash\n",
        "mv ./index.js app/static/js/index.js\n",
        "```\n",
        "\n",
        "* Add Coderschool logo (optional)\n",
        "\n",
        "```bash\n",
        "mv ./images/coderschool-logo.png app/static/images/\n",
        "rm -r images\n",
        "```\n",
        "\n",
        "* Add this code in **app/main.py**\n",
        "\n",
        "```python\n",
        "from flask import Flask, render_template\n",
        "from blueprints import *\n",
        "\n",
        "app = Flask(__name__)\n",
        "app.register_blueprint(home)\n",
        "\n",
        "if __name__ == '__main__':\n",
        "  app.run(host='127.0.0.1', port=5000, debug=True)\n",
        "```\n",
        "> *Hints: most of this code can be automaticaly generated with a VSCode Extension called flask-snippets by only writting \"fapp\"*\n",
        "> ![](https://i.imgur.com/npmdsha.png=500x)"
      ]
    },
    {
      "cell_type": "markdown",
      "metadata": {
        "colab_type": "text",
        "id": "4YcCs2nPAIbb"
      },
      "source": [
        "### Generating a new blueprint of our Flask app\n",
        "\n",
        "> A blueprint is a template for generating a \"section\" of our Flask app\n",
        "\n",
        "* In **flask_doc** directory, run this code in the **Terminal**\n",
        "\n",
        "```bash\n",
        "export NEW_BLUEPRINT=home\n",
        "mkdir app/blueprints/$NEW_BLUEPRINT\n",
        "touch app/blueprints/$NEW_BLUEPRINT/__init__.py app/blueprints/$NEW_BLUEPRINT/blueprint.py\n",
        "echo \"from .$NEW_BLUEPRINT import $NEW_BLUEPRINT\" >> app/blueprints/__init__.py\n",
        "echo \"from .blueprint import $NEW_BLUEPRINT\" > app/blueprints/$NEW_BLUEPRINT/__init__.py\n",
        "printf \\\n",
        "\"from flask import Blueprint, render_template, request\\n\\\n",
        "\\n\\\n",
        "$NEW_BLUEPRINT = Blueprint('$NEW_BLUEPRINT', __name__)\\\n",
        "\\n\\\n",
        "@$NEW_BLUEPRINT.route('/home')\\n\\\n",
        "def route_name():\\n\\\n",
        "    return render_template('$NEW_BLUEPRINT.html') \\n\\\n",
        "\" > app/blueprints/$NEW_BLUEPRINT/blueprint.py\n",
        "cp ./sample_page.html app/templates/$NEW_BLUEPRINT.html\n",
        "```\n",
        "> Hints: change 'home' to make a new blueprint (line 1 & 14)"
      ]
    },
    {
      "cell_type": "markdown",
      "metadata": {
        "colab_type": "text",
        "id": "9PH_skKCAIbb"
      },
      "source": [
        "### HTML Template\n",
        "\n",
        "* Add this code in **app/templates/base.html**\n",
        "\n",
        "```HTML\n",
        "<!doctype html>\n",
        "<html lang=\"en\">\n",
        "  <head>\n",
        "    <title>Title</title>\n",
        "    <!-- Required meta tags -->\n",
        "    <meta charset=\"utf-8\">\n",
        "    <meta name=\"viewport\" content=\"width=device-width, initial-scale=1, shrink-to-fit=no\">\n",
        "\n",
        "    <!-- Bootstrap CSS -->\n",
        "    <link rel=\"stylesheet\" href=\"https://stackpath.bootstrapcdn.com/bootstrap/4.3.1/css/bootstrap.min.css\" integrity=\"sha384-ggOyR0iXCbMQv3Xipma34MD+dH/1fQ784/j6cY/iJTQUOhcWr7x9JvoRxT2MZw1T\" crossorigin=\"anonymous\">\n",
        "    <!-- CSS -->\n",
        "    <link href=\"static/css/style.css\" rel=\"stylesheet\">\n",
        "</head>\n",
        "  <body class=\"text-center\">\n",
        "    {% block content%} {% endblock %} \n",
        "    \n",
        "    <script src=\"static/js/jquery-3.4.1.min.js\"></script>\n",
        "    <script src=\"static/js/index.js\"></script>\n",
        "    <!-- AJAX optional -->\n",
        "    <script type=\"text/javascript\">\n",
        "        $(\"#myButton\").click(function(){\n",
        "            $('#result').text('  Predicting...');\n",
        "            var $SCRIPT_ROOT = {{request.script_root|tojson|safe}};\n",
        "            var canvasObj = document.getElementById(\"canvas\");\n",
        "            var img = canvasObj.toDataURL('image/jpeg');\n",
        "            $.ajax({\n",
        "                type: \"POST\",\n",
        "                url: $SCRIPT_ROOT + \"/upload/\",\n",
        "                data: img,\n",
        "                success: function(data){\n",
        "                    $('#result').text('Predictions ' + data);\n",
        "                }\n",
        "            });\n",
        "        });\n",
        "    </script>\n",
        "  </body>\n",
        "</html>\n",
        "```\n",
        "\n",
        "> *Hints: most of this code can be automaticaly generated with VSCode Extensions called Bootstrap 4, Font awesome 4, Font Awesome 5 Free & Pro snippets by only writting \"b4-$\"*"
      ]
    },
    {
      "cell_type": "markdown",
      "metadata": {
        "colab_type": "text",
        "id": "gtAANFtOAIbc"
      },
      "source": [
        "### Run the app\n",
        "\n",
        "* Change directory\n",
        "\n",
        "```bash\n",
        "cd app\n",
        "```\n",
        "\n",
        "* Run the app\n",
        "\n",
        "```bash\n",
        "python main.py\n",
        "```\n",
        "\n",
        "Congratulation, you have just created your Flask app. Here is the link of your Flask app: http://127.0.0.1:5000/home\n",
        "\n",
        "### Html for MNIST example\n",
        "\n",
        "* Replace the code of **app/templates/home.html** by this code \n",
        "\n",
        "```HTML\n",
        "{% extends \"base.html\" %} {% block content %}\n",
        "<div style=\"margin-top:50px\">\n",
        "  <img class=\"mb-4\" src=\"static/images/coderschool-logo.png\" alt=\"\" />\n",
        "  <h1 class=\"h3 mb-3 font-weight-normal\">Please draw a number</h1>\n",
        "\n",
        "  <canvas id=\"canvas\" width=\"400\" height=\"400\"></canvas>\n",
        "\n",
        "  <h1 class=\"h3 mb-3 font-weight-normal\" id=\"result\">Predictions:</h1>\n",
        "\n",
        "  <button id=\"myButton\" class=\"btn  btn-primary \" type=\"submit\">\n",
        "    Predict\n",
        "  </button>\n",
        "  <button id=\"clearButton\" class=\"btn btn-success\" type=\"submit\">\n",
        "    Clear\n",
        "  </button>\n",
        "\n",
        "  <p class=\"mt-5 mb-3 text-muted\">&copy; CoderSchool</p>\n",
        "</div>\n",
        "{% endblock %}\n",
        "\n",
        "```\n",
        "\n",
        "### Python for MNIST example\n",
        "\n",
        "* In **flask_doc** directory, run this code to generate the blueprint related to upload\n",
        "\n",
        "```bash\n",
        "export NEW_BLUEPRINT=upload_api\n",
        "mkdir app/blueprints/$NEW_BLUEPRINT\n",
        "touch app/blueprints/$NEW_BLUEPRINT/__init__.py app/blueprints/$NEW_BLUEPRINT/blueprint.py\n",
        "echo \"from .$NEW_BLUEPRINT import $NEW_BLUEPRINT\" >> app/blueprints/__init__.py\n",
        "echo \"from .blueprint import $NEW_BLUEPRINT\" > app/blueprints/$NEW_BLUEPRINT/__init__.py\n",
        "printf \\\n",
        "\"from flask import Blueprint, render_template, request\\n\\\n",
        "\\n\\\n",
        "$NEW_BLUEPRINT = Blueprint('$NEW_BLUEPRINT', __name__)\\\n",
        "\\n\\\n",
        "@$NEW_BLUEPRINT.route('/upload_api')\\n\\\n",
        "def route_name():\\n\\\n",
        "    return render_template('$NEW_BLUEPRINT.html') \\n\\\n",
        "\" > app/blueprints/$NEW_BLUEPRINT/blueprint.py\n",
        "cp ./sample_page.html app/templates/$NEW_BLUEPRINT.html\n",
        "```\n",
        "\n",
        "\n",
        "* Replace the code of **app/blueprints/upload_api/blueprint.py** by this code\n",
        "\n",
        "```python\n",
        "from flask import Blueprint, render_template, request\n",
        "import re\n",
        "import base64\n",
        "import numpy as np\n",
        "\n",
        "def parse_image(imgData):\n",
        "    img_str = re.search(b\"base64,(.*)\", imgData).group(1)\n",
        "    img_decode = base64.decodebytes(img_str)\n",
        "    with open('output.png', \"wb\") as f:\n",
        "        f.write(img_decode)\n",
        "    return img_decode\n",
        "\n",
        "# Load your model here\n",
        "model = None\n",
        "\n",
        "upload_api = Blueprint('upload_api', __name__)\n",
        "\n",
        "\n",
        "@upload_api.route('/upload/', methods=['POST'])\n",
        "def upload():\n",
        "    image = parse_image(request.get_data())\n",
        "    # Your prediction here\n",
        "    prediction = 0\n",
        "    return str(prediction)\n",
        "\n",
        "```\n",
        "\n",
        "* Register the upload API in **app/main.py**:\n",
        "\n",
        "```python\n",
        "from flask import Flask, render_template\n",
        "from blueprints import *\n",
        "\n",
        "app = Flask(__name__)\n",
        "app.register_blueprint(home)\n",
        "app.register_blueprint(upload_api)\n",
        "\n",
        "if __name__ == '__main__':\n",
        "    app.run(host='127.0.0.1', port=5000, debug=True)\n",
        "```"
      ]
    },
    {
      "cell_type": "code",
      "metadata": {
        "colab_type": "code",
        "id": "32IcQ1Cpl3AS",
        "colab": {}
      },
      "source": [
        ""
      ],
      "execution_count": null,
      "outputs": []
    }
  ]
}