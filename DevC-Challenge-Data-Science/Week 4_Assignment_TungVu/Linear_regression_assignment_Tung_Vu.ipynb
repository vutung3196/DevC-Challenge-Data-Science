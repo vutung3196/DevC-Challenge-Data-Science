{
  "nbformat": 4,
  "nbformat_minor": 0,
  "metadata": {
    "kernelspec": {
      "display_name": "Python 3",
      "language": "python",
      "name": "python3"
    },
    "language_info": {
      "codemirror_mode": {
        "name": "ipython",
        "version": 3
      },
      "file_extension": ".py",
      "mimetype": "text/x-python",
      "name": "python",
      "nbconvert_exporter": "python",
      "pygments_lexer": "ipython3",
      "version": "3.7.3"
    },
    "colab": {
      "name": "Linear regression assignment-Tung Vu.ipynb",
      "provenance": [],
      "collapsed_sections": [
        "Gi0wQbEbz2VI",
        "SsGqZljQz2VP",
        "HXP1jsTez2VU",
        "LrbVVl3az2Vd",
        "TL-n5LXhz2Vi",
        "OJo5zUAhz2Vk",
        "YP9aGsJ8z2Vp",
        "kRef2Hr1z2Vt",
        "2ziT_3Lyz2Vx"
      ],
      "include_colab_link": true
    }
  },
  "cells": [
    {
      "cell_type": "markdown",
      "metadata": {
        "id": "view-in-github",
        "colab_type": "text"
      },
      "source": [
        "<a href=\"https://colab.research.google.com/github/vutung3196/DevC-Challenge-Data-Science/blob/master/DevC-Challenge-Data-Science/Week%204_Assignment_TungVu/Linear_regression_assignment_Tung_Vu.ipynb\" target=\"_parent\"><img src=\"https://colab.research.google.com/assets/colab-badge.svg\" alt=\"Open In Colab\"/></a>"
      ]
    },
    {
      "cell_type": "markdown",
      "metadata": {
        "id": "a4OoLOnPz2Uu",
        "colab_type": "text"
      },
      "source": [
        "# Regression Week 1: Simple Linear Regression"
      ]
    },
    {
      "cell_type": "markdown",
      "metadata": {
        "id": "7RZk5Btnz2Uw",
        "colab_type": "text"
      },
      "source": [
        "In this notebook we will use data on house sales in King County to predict house prices using simple (one input) linear regression. You will:\n",
        "* Compute important summary statistics\n",
        "* Write a function to compute the Simple Linear Regression weights using the closed form solution\n",
        "* Write a function to make predictions of the output given the input feature\n",
        "* Turn the regression around to predict the input given the output\n",
        "* Compare two different models for predicting house prices\n",
        "\n",
        "In this notebook you will be provided with some already complete code as well as some code that you should complete yourself in order to answer quiz questions. The code we provide to complte is optional and is there to assist you with solving the problems but feel free to ignore the helper code and write your own."
      ]
    },
    {
      "cell_type": "markdown",
      "metadata": {
        "id": "4niXU115z2Ux",
        "colab_type": "text"
      },
      "source": [
        "# Fire up Sklearn + Pandas + Numpy "
      ]
    },
    {
      "cell_type": "code",
      "metadata": {
        "id": "LBNLMkvKz2Uy",
        "colab_type": "code",
        "colab": {}
      },
      "source": [
        "import pandas as pd\n",
        "import numpy as np\n",
        "import sklearn\n",
        "import matplotlib.pyplot as plt\n",
        "from google.colab import files"
      ],
      "execution_count": null,
      "outputs": []
    },
    {
      "cell_type": "markdown",
      "metadata": {
        "id": "rEiBL3e5z2U1",
        "colab_type": "text"
      },
      "source": [
        "# Load house sales data\n",
        "\n",
        "Dataset is from house sales in King County, the region where the city of Seattle, WA is located."
      ]
    },
    {
      "cell_type": "code",
      "metadata": {
        "id": "a8IwBeOKz2U1",
        "colab_type": "code",
        "colab": {}
      },
      "source": [
        "# Data type format\n",
        "dtype_dict = {'bathrooms':float, 'waterfront':int, 'sqft_above':int, 'sqft_living15':float, 'grade':int, 'yr_renovated':int, 'price':float, 'bedrooms':float, 'zipcode':str, 'long':float, 'sqft_lot15':float, 'sqft_living':float, 'floors':str, 'condition':int, 'lat':float, 'date':str, 'sqft_basement':int, 'yr_built':int, 'id':str, 'sqft_lot':int, 'view':int}"
      ],
      "execution_count": null,
      "outputs": []
    },
    {
      "cell_type": "code",
      "metadata": {
        "id": "4cjMvBDGz2U3",
        "colab_type": "code",
        "colab": {
          "resources": {
            "http://localhost:8080/nbextensions/google.colab/files.js": {
              "data": "Ly8gQ29weXJpZ2h0IDIwMTcgR29vZ2xlIExMQwovLwovLyBMaWNlbnNlZCB1bmRlciB0aGUgQXBhY2hlIExpY2Vuc2UsIFZlcnNpb24gMi4wICh0aGUgIkxpY2Vuc2UiKTsKLy8geW91IG1heSBub3QgdXNlIHRoaXMgZmlsZSBleGNlcHQgaW4gY29tcGxpYW5jZSB3aXRoIHRoZSBMaWNlbnNlLgovLyBZb3UgbWF5IG9idGFpbiBhIGNvcHkgb2YgdGhlIExpY2Vuc2UgYXQKLy8KLy8gICAgICBodHRwOi8vd3d3LmFwYWNoZS5vcmcvbGljZW5zZXMvTElDRU5TRS0yLjAKLy8KLy8gVW5sZXNzIHJlcXVpcmVkIGJ5IGFwcGxpY2FibGUgbGF3IG9yIGFncmVlZCB0byBpbiB3cml0aW5nLCBzb2Z0d2FyZQovLyBkaXN0cmlidXRlZCB1bmRlciB0aGUgTGljZW5zZSBpcyBkaXN0cmlidXRlZCBvbiBhbiAiQVMgSVMiIEJBU0lTLAovLyBXSVRIT1VUIFdBUlJBTlRJRVMgT1IgQ09ORElUSU9OUyBPRiBBTlkgS0lORCwgZWl0aGVyIGV4cHJlc3Mgb3IgaW1wbGllZC4KLy8gU2VlIHRoZSBMaWNlbnNlIGZvciB0aGUgc3BlY2lmaWMgbGFuZ3VhZ2UgZ292ZXJuaW5nIHBlcm1pc3Npb25zIGFuZAovLyBsaW1pdGF0aW9ucyB1bmRlciB0aGUgTGljZW5zZS4KCi8qKgogKiBAZmlsZW92ZXJ2aWV3IEhlbHBlcnMgZm9yIGdvb2dsZS5jb2xhYiBQeXRob24gbW9kdWxlLgogKi8KKGZ1bmN0aW9uKHNjb3BlKSB7CmZ1bmN0aW9uIHNwYW4odGV4dCwgc3R5bGVBdHRyaWJ1dGVzID0ge30pIHsKICBjb25zdCBlbGVtZW50ID0gZG9jdW1lbnQuY3JlYXRlRWxlbWVudCgnc3BhbicpOwogIGVsZW1lbnQudGV4dENvbnRlbnQgPSB0ZXh0OwogIGZvciAoY29uc3Qga2V5IG9mIE9iamVjdC5rZXlzKHN0eWxlQXR0cmlidXRlcykpIHsKICAgIGVsZW1lbnQuc3R5bGVba2V5XSA9IHN0eWxlQXR0cmlidXRlc1trZXldOwogIH0KICByZXR1cm4gZWxlbWVudDsKfQoKLy8gTWF4IG51bWJlciBvZiBieXRlcyB3aGljaCB3aWxsIGJlIHVwbG9hZGVkIGF0IGEgdGltZS4KY29uc3QgTUFYX1BBWUxPQURfU0laRSA9IDEwMCAqIDEwMjQ7CgpmdW5jdGlvbiBfdXBsb2FkRmlsZXMoaW5wdXRJZCwgb3V0cHV0SWQpIHsKICBjb25zdCBzdGVwcyA9IHVwbG9hZEZpbGVzU3RlcChpbnB1dElkLCBvdXRwdXRJZCk7CiAgY29uc3Qgb3V0cHV0RWxlbWVudCA9IGRvY3VtZW50LmdldEVsZW1lbnRCeUlkKG91dHB1dElkKTsKICAvLyBDYWNoZSBzdGVwcyBvbiB0aGUgb3V0cHV0RWxlbWVudCB0byBtYWtlIGl0IGF2YWlsYWJsZSBmb3IgdGhlIG5leHQgY2FsbAogIC8vIHRvIHVwbG9hZEZpbGVzQ29udGludWUgZnJvbSBQeXRob24uCiAgb3V0cHV0RWxlbWVudC5zdGVwcyA9IHN0ZXBzOwoKICByZXR1cm4gX3VwbG9hZEZpbGVzQ29udGludWUob3V0cHV0SWQpOwp9CgovLyBUaGlzIGlzIHJvdWdobHkgYW4gYXN5bmMgZ2VuZXJhdG9yIChub3Qgc3VwcG9ydGVkIGluIHRoZSBicm93c2VyIHlldCksCi8vIHdoZXJlIHRoZXJlIGFyZSBtdWx0aXBsZSBhc3luY2hyb25vdXMgc3RlcHMgYW5kIHRoZSBQeXRob24gc2lkZSBpcyBnb2luZwovLyB0byBwb2xsIGZvciBjb21wbGV0aW9uIG9mIGVhY2ggc3RlcC4KLy8gVGhpcyB1c2VzIGEgUHJvbWlzZSB0byBibG9jayB0aGUgcHl0aG9uIHNpZGUgb24gY29tcGxldGlvbiBvZiBlYWNoIHN0ZXAsCi8vIHRoZW4gcGFzc2VzIHRoZSByZXN1bHQgb2YgdGhlIHByZXZpb3VzIHN0ZXAgYXMgdGhlIGlucHV0IHRvIHRoZSBuZXh0IHN0ZXAuCmZ1bmN0aW9uIF91cGxvYWRGaWxlc0NvbnRpbnVlKG91dHB1dElkKSB7CiAgY29uc3Qgb3V0cHV0RWxlbWVudCA9IGRvY3VtZW50LmdldEVsZW1lbnRCeUlkKG91dHB1dElkKTsKICBjb25zdCBzdGVwcyA9IG91dHB1dEVsZW1lbnQuc3RlcHM7CgogIGNvbnN0IG5leHQgPSBzdGVwcy5uZXh0KG91dHB1dEVsZW1lbnQubGFzdFByb21pc2VWYWx1ZSk7CiAgcmV0dXJuIFByb21pc2UucmVzb2x2ZShuZXh0LnZhbHVlLnByb21pc2UpLnRoZW4oKHZhbHVlKSA9PiB7CiAgICAvLyBDYWNoZSB0aGUgbGFzdCBwcm9taXNlIHZhbHVlIHRvIG1ha2UgaXQgYXZhaWxhYmxlIHRvIHRoZSBuZXh0CiAgICAvLyBzdGVwIG9mIHRoZSBnZW5lcmF0b3IuCiAgICBvdXRwdXRFbGVtZW50Lmxhc3RQcm9taXNlVmFsdWUgPSB2YWx1ZTsKICAgIHJldHVybiBuZXh0LnZhbHVlLnJlc3BvbnNlOwogIH0pOwp9CgovKioKICogR2VuZXJhdG9yIGZ1bmN0aW9uIHdoaWNoIGlzIGNhbGxlZCBiZXR3ZWVuIGVhY2ggYXN5bmMgc3RlcCBvZiB0aGUgdXBsb2FkCiAqIHByb2Nlc3MuCiAqIEBwYXJhbSB7c3RyaW5nfSBpbnB1dElkIEVsZW1lbnQgSUQgb2YgdGhlIGlucHV0IGZpbGUgcGlja2VyIGVsZW1lbnQuCiAqIEBwYXJhbSB7c3RyaW5nfSBvdXRwdXRJZCBFbGVtZW50IElEIG9mIHRoZSBvdXRwdXQgZGlzcGxheS4KICogQHJldHVybiB7IUl0ZXJhYmxlPCFPYmplY3Q+fSBJdGVyYWJsZSBvZiBuZXh0IHN0ZXBzLgogKi8KZnVuY3Rpb24qIHVwbG9hZEZpbGVzU3RlcChpbnB1dElkLCBvdXRwdXRJZCkgewogIGNvbnN0IGlucHV0RWxlbWVudCA9IGRvY3VtZW50LmdldEVsZW1lbnRCeUlkKGlucHV0SWQpOwogIGlucHV0RWxlbWVudC5kaXNhYmxlZCA9IGZhbHNlOwoKICBjb25zdCBvdXRwdXRFbGVtZW50ID0gZG9jdW1lbnQuZ2V0RWxlbWVudEJ5SWQob3V0cHV0SWQpOwogIG91dHB1dEVsZW1lbnQuaW5uZXJIVE1MID0gJyc7CgogIGNvbnN0IHBpY2tlZFByb21pc2UgPSBuZXcgUHJvbWlzZSgocmVzb2x2ZSkgPT4gewogICAgaW5wdXRFbGVtZW50LmFkZEV2ZW50TGlzdGVuZXIoJ2NoYW5nZScsIChlKSA9PiB7CiAgICAgIHJlc29sdmUoZS50YXJnZXQuZmlsZXMpOwogICAgfSk7CiAgfSk7CgogIGNvbnN0IGNhbmNlbCA9IGRvY3VtZW50LmNyZWF0ZUVsZW1lbnQoJ2J1dHRvbicpOwogIGlucHV0RWxlbWVudC5wYXJlbnRFbGVtZW50LmFwcGVuZENoaWxkKGNhbmNlbCk7CiAgY2FuY2VsLnRleHRDb250ZW50ID0gJ0NhbmNlbCB1cGxvYWQnOwogIGNvbnN0IGNhbmNlbFByb21pc2UgPSBuZXcgUHJvbWlzZSgocmVzb2x2ZSkgPT4gewogICAgY2FuY2VsLm9uY2xpY2sgPSAoKSA9PiB7CiAgICAgIHJlc29sdmUobnVsbCk7CiAgICB9OwogIH0pOwoKICAvLyBXYWl0IGZvciB0aGUgdXNlciB0byBwaWNrIHRoZSBmaWxlcy4KICBjb25zdCBmaWxlcyA9IHlpZWxkIHsKICAgIHByb21pc2U6IFByb21pc2UucmFjZShbcGlja2VkUHJvbWlzZSwgY2FuY2VsUHJvbWlzZV0pLAogICAgcmVzcG9uc2U6IHsKICAgICAgYWN0aW9uOiAnc3RhcnRpbmcnLAogICAgfQogIH07CgogIGNhbmNlbC5yZW1vdmUoKTsKCiAgLy8gRGlzYWJsZSB0aGUgaW5wdXQgZWxlbWVudCBzaW5jZSBmdXJ0aGVyIHBpY2tzIGFyZSBub3QgYWxsb3dlZC4KICBpbnB1dEVsZW1lbnQuZGlzYWJsZWQgPSB0cnVlOwoKICBpZiAoIWZpbGVzKSB7CiAgICByZXR1cm4gewogICAgICByZXNwb25zZTogewogICAgICAgIGFjdGlvbjogJ2NvbXBsZXRlJywKICAgICAgfQogICAgfTsKICB9CgogIGZvciAoY29uc3QgZmlsZSBvZiBmaWxlcykgewogICAgY29uc3QgbGkgPSBkb2N1bWVudC5jcmVhdGVFbGVtZW50KCdsaScpOwogICAgbGkuYXBwZW5kKHNwYW4oZmlsZS5uYW1lLCB7Zm9udFdlaWdodDogJ2JvbGQnfSkpOwogICAgbGkuYXBwZW5kKHNwYW4oCiAgICAgICAgYCgke2ZpbGUudHlwZSB8fCAnbi9hJ30pIC0gJHtmaWxlLnNpemV9IGJ5dGVzLCBgICsKICAgICAgICBgbGFzdCBtb2RpZmllZDogJHsKICAgICAgICAgICAgZmlsZS5sYXN0TW9kaWZpZWREYXRlID8gZmlsZS5sYXN0TW9kaWZpZWREYXRlLnRvTG9jYWxlRGF0ZVN0cmluZygpIDoKICAgICAgICAgICAgICAgICAgICAgICAgICAgICAgICAgICAgJ24vYSd9IC0gYCkpOwogICAgY29uc3QgcGVyY2VudCA9IHNwYW4oJzAlIGRvbmUnKTsKICAgIGxpLmFwcGVuZENoaWxkKHBlcmNlbnQpOwoKICAgIG91dHB1dEVsZW1lbnQuYXBwZW5kQ2hpbGQobGkpOwoKICAgIGNvbnN0IGZpbGVEYXRhUHJvbWlzZSA9IG5ldyBQcm9taXNlKChyZXNvbHZlKSA9PiB7CiAgICAgIGNvbnN0IHJlYWRlciA9IG5ldyBGaWxlUmVhZGVyKCk7CiAgICAgIHJlYWRlci5vbmxvYWQgPSAoZSkgPT4gewogICAgICAgIHJlc29sdmUoZS50YXJnZXQucmVzdWx0KTsKICAgICAgfTsKICAgICAgcmVhZGVyLnJlYWRBc0FycmF5QnVmZmVyKGZpbGUpOwogICAgfSk7CiAgICAvLyBXYWl0IGZvciB0aGUgZGF0YSB0byBiZSByZWFkeS4KICAgIGxldCBmaWxlRGF0YSA9IHlpZWxkIHsKICAgICAgcHJvbWlzZTogZmlsZURhdGFQcm9taXNlLAogICAgICByZXNwb25zZTogewogICAgICAgIGFjdGlvbjogJ2NvbnRpbnVlJywKICAgICAgfQogICAgfTsKCiAgICAvLyBVc2UgYSBjaHVua2VkIHNlbmRpbmcgdG8gYXZvaWQgbWVzc2FnZSBzaXplIGxpbWl0cy4gU2VlIGIvNjIxMTU2NjAuCiAgICBsZXQgcG9zaXRpb24gPSAwOwogICAgd2hpbGUgKHBvc2l0aW9uIDwgZmlsZURhdGEuYnl0ZUxlbmd0aCkgewogICAgICBjb25zdCBsZW5ndGggPSBNYXRoLm1pbihmaWxlRGF0YS5ieXRlTGVuZ3RoIC0gcG9zaXRpb24sIE1BWF9QQVlMT0FEX1NJWkUpOwogICAgICBjb25zdCBjaHVuayA9IG5ldyBVaW50OEFycmF5KGZpbGVEYXRhLCBwb3NpdGlvbiwgbGVuZ3RoKTsKICAgICAgcG9zaXRpb24gKz0gbGVuZ3RoOwoKICAgICAgY29uc3QgYmFzZTY0ID0gYnRvYShTdHJpbmcuZnJvbUNoYXJDb2RlLmFwcGx5KG51bGwsIGNodW5rKSk7CiAgICAgIHlpZWxkIHsKICAgICAgICByZXNwb25zZTogewogICAgICAgICAgYWN0aW9uOiAnYXBwZW5kJywKICAgICAgICAgIGZpbGU6IGZpbGUubmFtZSwKICAgICAgICAgIGRhdGE6IGJhc2U2NCwKICAgICAgICB9LAogICAgICB9OwogICAgICBwZXJjZW50LnRleHRDb250ZW50ID0KICAgICAgICAgIGAke01hdGgucm91bmQoKHBvc2l0aW9uIC8gZmlsZURhdGEuYnl0ZUxlbmd0aCkgKiAxMDApfSUgZG9uZWA7CiAgICB9CiAgfQoKICAvLyBBbGwgZG9uZS4KICB5aWVsZCB7CiAgICByZXNwb25zZTogewogICAgICBhY3Rpb246ICdjb21wbGV0ZScsCiAgICB9CiAgfTsKfQoKc2NvcGUuZ29vZ2xlID0gc2NvcGUuZ29vZ2xlIHx8IHt9OwpzY29wZS5nb29nbGUuY29sYWIgPSBzY29wZS5nb29nbGUuY29sYWIgfHwge307CnNjb3BlLmdvb2dsZS5jb2xhYi5fZmlsZXMgPSB7CiAgX3VwbG9hZEZpbGVzLAogIF91cGxvYWRGaWxlc0NvbnRpbnVlLAp9Owp9KShzZWxmKTsK",
              "ok": true,
              "headers": [
                [
                  "content-type",
                  "application/javascript"
                ]
              ],
              "status": 200,
              "status_text": ""
            }
          },
          "base_uri": "https://localhost:8080/",
          "height": 73
        },
        "outputId": "02aeeced-0e4a-46ae-a648-7b3093c73bde"
      },
      "source": [
        "data_to_load = files.upload()\n"
      ],
      "execution_count": null,
      "outputs": [
        {
          "output_type": "display_data",
          "data": {
            "text/html": [
              "\n",
              "     <input type=\"file\" id=\"files-bcf95b77-05c5-4eed-9e13-b94c2b7ed980\" name=\"files[]\" multiple disabled\n",
              "        style=\"border:none\" />\n",
              "     <output id=\"result-bcf95b77-05c5-4eed-9e13-b94c2b7ed980\">\n",
              "      Upload widget is only available when the cell has been executed in the\n",
              "      current browser session. Please rerun this cell to enable.\n",
              "      </output>\n",
              "      <script src=\"/nbextensions/google.colab/files.js\"></script> "
            ],
            "text/plain": [
              "<IPython.core.display.HTML object>"
            ]
          },
          "metadata": {
            "tags": []
          }
        },
        {
          "output_type": "stream",
          "text": [
            "Saving kc_house_data.csv to kc_house_data.csv\n"
          ],
          "name": "stdout"
        }
      ]
    },
    {
      "cell_type": "code",
      "metadata": {
        "id": "Oc5HNZdbvqQ7",
        "colab_type": "code",
        "colab": {}
      },
      "source": [
        "sales = pd.read_csv('kc_house_data.csv', dtype=dtype_dict)"
      ],
      "execution_count": null,
      "outputs": []
    },
    {
      "cell_type": "code",
      "metadata": {
        "id": "SpyZcijtz2U5",
        "colab_type": "code",
        "colab": {
          "base_uri": "https://localhost:8080/",
          "height": 422
        },
        "outputId": "dbe7c70e-0bab-4fe7-8fee-6ed4a94594c2"
      },
      "source": [
        "sales"
      ],
      "execution_count": null,
      "outputs": [
        {
          "output_type": "execute_result",
          "data": {
            "text/html": [
              "<div>\n",
              "<style scoped>\n",
              "    .dataframe tbody tr th:only-of-type {\n",
              "        vertical-align: middle;\n",
              "    }\n",
              "\n",
              "    .dataframe tbody tr th {\n",
              "        vertical-align: top;\n",
              "    }\n",
              "\n",
              "    .dataframe thead th {\n",
              "        text-align: right;\n",
              "    }\n",
              "</style>\n",
              "<table border=\"1\" class=\"dataframe\">\n",
              "  <thead>\n",
              "    <tr style=\"text-align: right;\">\n",
              "      <th></th>\n",
              "      <th>id</th>\n",
              "      <th>date</th>\n",
              "      <th>price</th>\n",
              "      <th>bedrooms</th>\n",
              "      <th>bathrooms</th>\n",
              "      <th>sqft_living</th>\n",
              "      <th>sqft_lot</th>\n",
              "      <th>floors</th>\n",
              "      <th>waterfront</th>\n",
              "      <th>view</th>\n",
              "      <th>condition</th>\n",
              "      <th>grade</th>\n",
              "      <th>sqft_above</th>\n",
              "      <th>sqft_basement</th>\n",
              "      <th>yr_built</th>\n",
              "      <th>yr_renovated</th>\n",
              "      <th>zipcode</th>\n",
              "      <th>lat</th>\n",
              "      <th>long</th>\n",
              "      <th>sqft_living15</th>\n",
              "      <th>sqft_lot15</th>\n",
              "    </tr>\n",
              "  </thead>\n",
              "  <tbody>\n",
              "    <tr>\n",
              "      <th>0</th>\n",
              "      <td>7129300520</td>\n",
              "      <td>20141013T000000</td>\n",
              "      <td>221900.0</td>\n",
              "      <td>3.0</td>\n",
              "      <td>1.00</td>\n",
              "      <td>1180.0</td>\n",
              "      <td>5650</td>\n",
              "      <td>1</td>\n",
              "      <td>0</td>\n",
              "      <td>0</td>\n",
              "      <td>3</td>\n",
              "      <td>7</td>\n",
              "      <td>1180</td>\n",
              "      <td>0</td>\n",
              "      <td>1955</td>\n",
              "      <td>0</td>\n",
              "      <td>98178</td>\n",
              "      <td>47.5112</td>\n",
              "      <td>-122.257</td>\n",
              "      <td>1340.0</td>\n",
              "      <td>5650.0</td>\n",
              "    </tr>\n",
              "    <tr>\n",
              "      <th>1</th>\n",
              "      <td>6414100192</td>\n",
              "      <td>20141209T000000</td>\n",
              "      <td>538000.0</td>\n",
              "      <td>3.0</td>\n",
              "      <td>2.25</td>\n",
              "      <td>2570.0</td>\n",
              "      <td>7242</td>\n",
              "      <td>2</td>\n",
              "      <td>0</td>\n",
              "      <td>0</td>\n",
              "      <td>3</td>\n",
              "      <td>7</td>\n",
              "      <td>2170</td>\n",
              "      <td>400</td>\n",
              "      <td>1951</td>\n",
              "      <td>1991</td>\n",
              "      <td>98125</td>\n",
              "      <td>47.7210</td>\n",
              "      <td>-122.319</td>\n",
              "      <td>1690.0</td>\n",
              "      <td>7639.0</td>\n",
              "    </tr>\n",
              "    <tr>\n",
              "      <th>2</th>\n",
              "      <td>5631500400</td>\n",
              "      <td>20150225T000000</td>\n",
              "      <td>180000.0</td>\n",
              "      <td>2.0</td>\n",
              "      <td>1.00</td>\n",
              "      <td>770.0</td>\n",
              "      <td>10000</td>\n",
              "      <td>1</td>\n",
              "      <td>0</td>\n",
              "      <td>0</td>\n",
              "      <td>3</td>\n",
              "      <td>6</td>\n",
              "      <td>770</td>\n",
              "      <td>0</td>\n",
              "      <td>1933</td>\n",
              "      <td>0</td>\n",
              "      <td>98028</td>\n",
              "      <td>47.7379</td>\n",
              "      <td>-122.233</td>\n",
              "      <td>2720.0</td>\n",
              "      <td>8062.0</td>\n",
              "    </tr>\n",
              "    <tr>\n",
              "      <th>3</th>\n",
              "      <td>2487200875</td>\n",
              "      <td>20141209T000000</td>\n",
              "      <td>604000.0</td>\n",
              "      <td>4.0</td>\n",
              "      <td>3.00</td>\n",
              "      <td>1960.0</td>\n",
              "      <td>5000</td>\n",
              "      <td>1</td>\n",
              "      <td>0</td>\n",
              "      <td>0</td>\n",
              "      <td>5</td>\n",
              "      <td>7</td>\n",
              "      <td>1050</td>\n",
              "      <td>910</td>\n",
              "      <td>1965</td>\n",
              "      <td>0</td>\n",
              "      <td>98136</td>\n",
              "      <td>47.5208</td>\n",
              "      <td>-122.393</td>\n",
              "      <td>1360.0</td>\n",
              "      <td>5000.0</td>\n",
              "    </tr>\n",
              "    <tr>\n",
              "      <th>4</th>\n",
              "      <td>1954400510</td>\n",
              "      <td>20150218T000000</td>\n",
              "      <td>510000.0</td>\n",
              "      <td>3.0</td>\n",
              "      <td>2.00</td>\n",
              "      <td>1680.0</td>\n",
              "      <td>8080</td>\n",
              "      <td>1</td>\n",
              "      <td>0</td>\n",
              "      <td>0</td>\n",
              "      <td>3</td>\n",
              "      <td>8</td>\n",
              "      <td>1680</td>\n",
              "      <td>0</td>\n",
              "      <td>1987</td>\n",
              "      <td>0</td>\n",
              "      <td>98074</td>\n",
              "      <td>47.6168</td>\n",
              "      <td>-122.045</td>\n",
              "      <td>1800.0</td>\n",
              "      <td>7503.0</td>\n",
              "    </tr>\n",
              "    <tr>\n",
              "      <th>...</th>\n",
              "      <td>...</td>\n",
              "      <td>...</td>\n",
              "      <td>...</td>\n",
              "      <td>...</td>\n",
              "      <td>...</td>\n",
              "      <td>...</td>\n",
              "      <td>...</td>\n",
              "      <td>...</td>\n",
              "      <td>...</td>\n",
              "      <td>...</td>\n",
              "      <td>...</td>\n",
              "      <td>...</td>\n",
              "      <td>...</td>\n",
              "      <td>...</td>\n",
              "      <td>...</td>\n",
              "      <td>...</td>\n",
              "      <td>...</td>\n",
              "      <td>...</td>\n",
              "      <td>...</td>\n",
              "      <td>...</td>\n",
              "      <td>...</td>\n",
              "    </tr>\n",
              "    <tr>\n",
              "      <th>21608</th>\n",
              "      <td>0263000018</td>\n",
              "      <td>20140521T000000</td>\n",
              "      <td>360000.0</td>\n",
              "      <td>3.0</td>\n",
              "      <td>2.50</td>\n",
              "      <td>1530.0</td>\n",
              "      <td>1131</td>\n",
              "      <td>3</td>\n",
              "      <td>0</td>\n",
              "      <td>0</td>\n",
              "      <td>3</td>\n",
              "      <td>8</td>\n",
              "      <td>1530</td>\n",
              "      <td>0</td>\n",
              "      <td>2009</td>\n",
              "      <td>0</td>\n",
              "      <td>98103</td>\n",
              "      <td>47.6993</td>\n",
              "      <td>-122.346</td>\n",
              "      <td>1530.0</td>\n",
              "      <td>1509.0</td>\n",
              "    </tr>\n",
              "    <tr>\n",
              "      <th>21609</th>\n",
              "      <td>6600060120</td>\n",
              "      <td>20150223T000000</td>\n",
              "      <td>400000.0</td>\n",
              "      <td>4.0</td>\n",
              "      <td>2.50</td>\n",
              "      <td>2310.0</td>\n",
              "      <td>5813</td>\n",
              "      <td>2</td>\n",
              "      <td>0</td>\n",
              "      <td>0</td>\n",
              "      <td>3</td>\n",
              "      <td>8</td>\n",
              "      <td>2310</td>\n",
              "      <td>0</td>\n",
              "      <td>2014</td>\n",
              "      <td>0</td>\n",
              "      <td>98146</td>\n",
              "      <td>47.5107</td>\n",
              "      <td>-122.362</td>\n",
              "      <td>1830.0</td>\n",
              "      <td>7200.0</td>\n",
              "    </tr>\n",
              "    <tr>\n",
              "      <th>21610</th>\n",
              "      <td>1523300141</td>\n",
              "      <td>20140623T000000</td>\n",
              "      <td>402101.0</td>\n",
              "      <td>2.0</td>\n",
              "      <td>0.75</td>\n",
              "      <td>1020.0</td>\n",
              "      <td>1350</td>\n",
              "      <td>2</td>\n",
              "      <td>0</td>\n",
              "      <td>0</td>\n",
              "      <td>3</td>\n",
              "      <td>7</td>\n",
              "      <td>1020</td>\n",
              "      <td>0</td>\n",
              "      <td>2009</td>\n",
              "      <td>0</td>\n",
              "      <td>98144</td>\n",
              "      <td>47.5944</td>\n",
              "      <td>-122.299</td>\n",
              "      <td>1020.0</td>\n",
              "      <td>2007.0</td>\n",
              "    </tr>\n",
              "    <tr>\n",
              "      <th>21611</th>\n",
              "      <td>0291310100</td>\n",
              "      <td>20150116T000000</td>\n",
              "      <td>400000.0</td>\n",
              "      <td>3.0</td>\n",
              "      <td>2.50</td>\n",
              "      <td>1600.0</td>\n",
              "      <td>2388</td>\n",
              "      <td>2</td>\n",
              "      <td>0</td>\n",
              "      <td>0</td>\n",
              "      <td>3</td>\n",
              "      <td>8</td>\n",
              "      <td>1600</td>\n",
              "      <td>0</td>\n",
              "      <td>2004</td>\n",
              "      <td>0</td>\n",
              "      <td>98027</td>\n",
              "      <td>47.5345</td>\n",
              "      <td>-122.069</td>\n",
              "      <td>1410.0</td>\n",
              "      <td>1287.0</td>\n",
              "    </tr>\n",
              "    <tr>\n",
              "      <th>21612</th>\n",
              "      <td>1523300157</td>\n",
              "      <td>20141015T000000</td>\n",
              "      <td>325000.0</td>\n",
              "      <td>2.0</td>\n",
              "      <td>0.75</td>\n",
              "      <td>1020.0</td>\n",
              "      <td>1076</td>\n",
              "      <td>2</td>\n",
              "      <td>0</td>\n",
              "      <td>0</td>\n",
              "      <td>3</td>\n",
              "      <td>7</td>\n",
              "      <td>1020</td>\n",
              "      <td>0</td>\n",
              "      <td>2008</td>\n",
              "      <td>0</td>\n",
              "      <td>98144</td>\n",
              "      <td>47.5941</td>\n",
              "      <td>-122.299</td>\n",
              "      <td>1020.0</td>\n",
              "      <td>1357.0</td>\n",
              "    </tr>\n",
              "  </tbody>\n",
              "</table>\n",
              "<p>21613 rows × 21 columns</p>\n",
              "</div>"
            ],
            "text/plain": [
              "               id             date  ...  sqft_living15  sqft_lot15\n",
              "0      7129300520  20141013T000000  ...         1340.0      5650.0\n",
              "1      6414100192  20141209T000000  ...         1690.0      7639.0\n",
              "2      5631500400  20150225T000000  ...         2720.0      8062.0\n",
              "3      2487200875  20141209T000000  ...         1360.0      5000.0\n",
              "4      1954400510  20150218T000000  ...         1800.0      7503.0\n",
              "...           ...              ...  ...            ...         ...\n",
              "21608  0263000018  20140521T000000  ...         1530.0      1509.0\n",
              "21609  6600060120  20150223T000000  ...         1830.0      7200.0\n",
              "21610  1523300141  20140623T000000  ...         1020.0      2007.0\n",
              "21611  0291310100  20150116T000000  ...         1410.0      1287.0\n",
              "21612  1523300157  20141015T000000  ...         1020.0      1357.0\n",
              "\n",
              "[21613 rows x 21 columns]"
            ]
          },
          "metadata": {
            "tags": []
          },
          "execution_count": 7
        }
      ]
    },
    {
      "cell_type": "code",
      "metadata": {
        "id": "R4obwXFhz2U7",
        "colab_type": "code",
        "colab": {
          "base_uri": "https://localhost:8080/",
          "height": 101
        },
        "outputId": "e47ef3b9-fde3-42df-b072-82fd4f47b717"
      },
      "source": [
        "# Show all columns\n",
        "print(sales.columns)"
      ],
      "execution_count": null,
      "outputs": [
        {
          "output_type": "stream",
          "text": [
            "Index(['id', 'date', 'price', 'bedrooms', 'bathrooms', 'sqft_living',\n",
            "       'sqft_lot', 'floors', 'waterfront', 'view', 'condition', 'grade',\n",
            "       'sqft_above', 'sqft_basement', 'yr_built', 'yr_renovated', 'zipcode',\n",
            "       'lat', 'long', 'sqft_living15', 'sqft_lot15'],\n",
            "      dtype='object')\n"
          ],
          "name": "stdout"
        }
      ]
    },
    {
      "cell_type": "code",
      "metadata": {
        "id": "PNJam4Pjz2U8",
        "colab_type": "code",
        "colab": {}
      },
      "source": [
        "# Select only sqft and price to train \n",
        "X = sales['sqft_living']\n",
        "y = sales['price']"
      ],
      "execution_count": null,
      "outputs": []
    },
    {
      "cell_type": "code",
      "metadata": {
        "id": "1tSD0DTyz2U-",
        "colab_type": "code",
        "colab": {
          "base_uri": "https://localhost:8080/",
          "height": 293
        },
        "outputId": "458eb60a-f147-4176-cedf-e60d835d3807"
      },
      "source": [
        "# Plot the data \n",
        "%matplotlib inline\n",
        "plt.plot(X, y, 'bo')"
      ],
      "execution_count": null,
      "outputs": [
        {
          "output_type": "execute_result",
          "data": {
            "text/plain": [
              "[<matplotlib.lines.Line2D at 0x7fd54a0ffb70>]"
            ]
          },
          "metadata": {
            "tags": []
          },
          "execution_count": 10
        },
        {
          "output_type": "display_data",
          "data": {
            "image/png": "[encoded data removed]",
            "text/plain": [
              "<Figure size 432x288 with 1 Axes>"
            ]
          },
          "metadata": {
            "tags": [],
            "needs_background": "light"
          }
        }
      ]
    },
    {
      "cell_type": "markdown",
      "metadata": {
        "id": "7Q8a7Fnzz2VA",
        "colab_type": "text"
      },
      "source": [
        "# Split data into training and testing"
      ]
    },
    {
      "cell_type": "markdown",
      "metadata": {
        "id": "cQo2A_X_z2VA",
        "colab_type": "text"
      },
      "source": [
        "We use random_state=42 so that everyone running this notebook gets the same results.  In practice, you may set a random_state.  "
      ]
    },
    {
      "cell_type": "code",
      "metadata": {
        "id": "HBjU8-xEz2VB",
        "colab_type": "code",
        "colab": {}
      },
      "source": [
        "# Note: Using train_test_split \n",
        "from sklearn.model_selection import train_test_split\n",
        "X_train, X_test, y_train, y_test = train_test_split(X, y, test_size=0.2, random_state=42)"
      ],
      "execution_count": null,
      "outputs": []
    },
    {
      "cell_type": "markdown",
      "metadata": {
        "id": "4-iq56jxz2VD",
        "colab_type": "text"
      },
      "source": [
        "# Summary data"
      ]
    },
    {
      "cell_type": "code",
      "metadata": {
        "id": "80O1t8kMz2VE",
        "colab_type": "code",
        "colab": {
          "base_uri": "https://localhost:8080/",
          "height": 50
        },
        "outputId": "7c74973e-7ebe-471d-d46f-94cd0f58c971"
      },
      "source": [
        "# Let's compute the mean of the House Prices in King County in 2 different ways.\n",
        "prices = sales['price'] \n",
        "\n",
        "# recall that the arithmetic average (the mean) is the sum of the prices divided by the total number of houses:\n",
        "# Use numpy \n",
        "sum_prices = np.sum(prices) # Or prices.sum()\n",
        "num_houses = len(prices)\n",
        "# There is two method to compute mean \n",
        "avg_price_1 = sum_prices/num_houses\n",
        "avg_price_2 = np.mean(prices)\n",
        "print(\"average price via method 1: \", str(avg_price_1))\n",
        "print(\"average price via method 2: \", str(avg_price_2))"
      ],
      "execution_count": null,
      "outputs": [
        {
          "output_type": "stream",
          "text": [
            "average price via method 1:  540088.1417665294\n",
            "average price via method 2:  540088.1417665294\n"
          ],
          "name": "stdout"
        }
      ]
    },
    {
      "cell_type": "markdown",
      "metadata": {
        "id": "gOVAbNXfz2VF",
        "colab_type": "text"
      },
      "source": [
        "As we see we get the same answer both ways"
      ]
    },
    {
      "cell_type": "code",
      "metadata": {
        "id": "D2iMrANxz2VG",
        "colab_type": "code",
        "colab": {
          "base_uri": "https://localhost:8080/",
          "height": 34
        },
        "outputId": "8f927dd7-011f-497b-a801-c3bd3087944c"
      },
      "source": [
        "# if we want to multiply every price by 0.5 it's a simple as:\n",
        "half_prices = 0.5*prices\n",
        "# Let's compute the sum of squares of price. We can multiply two Pandas array of the same length elementwise also with *\n",
        "prices_squared = prices*prices\n",
        "sum_prices_squared = prices_squared.sum() # price_squared is an Pandas array of the squares and we want to add them up.\n",
        "print(\"the sum of price squared is: \", str(sum_prices_squared))"
      ],
      "execution_count": null,
      "outputs": [
        {
          "output_type": "stream",
          "text": [
            "the sum of price squared is:  9217325138472070.0\n"
          ],
          "name": "stdout"
        }
      ]
    },
    {
      "cell_type": "markdown",
      "metadata": {
        "id": "nSeoa9pDz2VI",
        "colab_type": "text"
      },
      "source": [
        "Aside: The python notation x.xxe+yy means x.xx \\* 10^(yy). e.g 100 = 10^2 = 1*10^2 = 1e2 "
      ]
    },
    {
      "cell_type": "markdown",
      "metadata": {
        "id": "Gi0wQbEbz2VI",
        "colab_type": "text"
      },
      "source": [
        "# Build a generic simple linear regression function "
      ]
    },
    {
      "cell_type": "markdown",
      "metadata": {
        "id": "Dy19Kk4Jz2VJ",
        "colab_type": "text"
      },
      "source": [
        "Armed with these functions we can use the closed form solution found from lecture to compute the slope and intercept for a simple linear regression on observations: input_feature, output.\n",
        "\n",
        "Complete the following function (or write your own) to compute the simple linear regression slope and intercept:"
      ]
    },
    {
      "cell_type": "code",
      "metadata": {
        "id": "XPGY_JgFz2VJ",
        "colab_type": "code",
        "colab": {}
      },
      "source": [
        "def simple_linear_regression(input_feature, output):\n",
        "    # compute the sum of input_feature and output\n",
        "    sum = (input_feature + output).sum()\n",
        "    # compute the product of the output and the input_feature and its sum\n",
        "    product = (output * input_feature).sum()\n",
        "    # compute the squared value of the input_feature and its sum\n",
        "    square_input = (input_feature * input_feature).sum()\n",
        "    size = len(input_feature)\n",
        "    # use the formula for the slope\n",
        "    slope =  (size * product - output.sum() * input_feature.sum()) / (square_input * size - (input_feature.sum() * input_feature.sum()))  \n",
        "    # use the formula for the intercept\n",
        "    # intercept = (output.sum() * square_input - input_feature.sum() * product) / (square_input * size - (input_feature.sum() * input_feature.sum())) \n",
        "    intercept = np.mean(output) - np.mean(input_feature)*slope\n",
        "    return (intercept, slope)"
      ],
      "execution_count": null,
      "outputs": []
    },
    {
      "cell_type": "markdown",
      "metadata": {
        "id": "Ay5u4nuHz2VL",
        "colab_type": "text"
      },
      "source": [
        "We can test that our function works by passing it something where we know the answer. In particular we can generate a feature and then put the output exactly on a line: output = 1 + 1\\*input_feature then we know both our slope and intercept should be 1"
      ]
    },
    {
      "cell_type": "code",
      "metadata": {
        "scrolled": true,
        "id": "J2VgxCvfz2VL",
        "colab_type": "code",
        "colab": {
          "base_uri": "https://localhost:8080/",
          "height": 50
        },
        "outputId": "b1db8e16-41b5-4492-be18-b4d29ddd9503"
      },
      "source": [
        "test_feature = np.array(range(5))\n",
        "test_output = test_feature + 1 \n",
        "(test_intercept, test_slope) =  simple_linear_regression(test_feature, test_output)\n",
        "print(\"Intercept: \", str(test_intercept))\n",
        "print(\"Slope: \", str(test_slope))"
      ],
      "execution_count": null,
      "outputs": [
        {
          "output_type": "stream",
          "text": [
            "Intercept:  1.0\n",
            "Slope:  1.0\n"
          ],
          "name": "stdout"
        }
      ]
    },
    {
      "cell_type": "markdown",
      "metadata": {
        "id": "uprh6EECz2VN",
        "colab_type": "text"
      },
      "source": [
        "Now that we know it works let's build a regression model for predicting price based on sqft_living. Rembember that we train on train_data!"
      ]
    },
    {
      "cell_type": "code",
      "metadata": {
        "id": "L-iblN7iz2VN",
        "colab_type": "code",
        "colab": {
          "base_uri": "https://localhost:8080/",
          "height": 454
        },
        "outputId": "69790ff7-0f22-4c97-bb4f-b61c45c9e02f"
      },
      "source": [
        "print(\"X train: \", X_train)\n",
        "print(\"Y train: \", y_train)\n",
        "sqft_intercept, sqft_slope = simple_linear_regression(X_train, y_train)\n",
        "\n",
        "print(\"Intercept: \", str(sqft_intercept))\n",
        "print(\"Slope: \", str(sqft_slope))"
      ],
      "execution_count": null,
      "outputs": [
        {
          "output_type": "stream",
          "text": [
            "X train:  6325     1780.0\n",
            "13473    1000.0\n",
            "17614    1080.0\n",
            "16970    2090.0\n",
            "20868    1741.0\n",
            "          ...  \n",
            "11964    1000.0\n",
            "21575    3087.0\n",
            "5390     2120.0\n",
            "860       380.0\n",
            "15795    3130.0\n",
            "Name: sqft_living, Length: 17290, dtype: float64\n",
            "Y train:  6325     325000.0\n",
            "13473    257000.0\n",
            "17614    228500.0\n",
            "16970    288000.0\n",
            "20868    479000.0\n",
            "           ...   \n",
            "11964    378000.0\n",
            "21575    399950.0\n",
            "5390     575000.0\n",
            "860      245000.0\n",
            "15795    315000.0\n",
            "Name: price, Length: 17290, dtype: float64\n",
            "Intercept:  -41999.18603993708\n",
            "Slope:  279.5547793152637\n"
          ],
          "name": "stdout"
        }
      ]
    },
    {
      "cell_type": "markdown",
      "metadata": {
        "id": "SsGqZljQz2VP",
        "colab_type": "text"
      },
      "source": [
        "# Predicting Values"
      ]
    },
    {
      "cell_type": "markdown",
      "metadata": {
        "id": "d2VED6mAz2VQ",
        "colab_type": "text"
      },
      "source": [
        "Now that we have the model parameters: intercept & slope we can make predictions. Complete the following function to return the predicted output given the input_feature, slope and intercept:"
      ]
    },
    {
      "cell_type": "code",
      "metadata": {
        "id": "E4TgyyiTz2VQ",
        "colab_type": "code",
        "colab": {}
      },
      "source": [
        "def get_regression_predictions(input_feature, intercept, slope):\n",
        "    # calculate the predicted values:\n",
        "    predicted_values = input_feature*slope + intercept\n",
        "    return predicted_values"
      ],
      "execution_count": null,
      "outputs": []
    },
    {
      "cell_type": "markdown",
      "metadata": {
        "id": "XyXY3xr2z2VS",
        "colab_type": "text"
      },
      "source": [
        "Now that we can calculate a prediction given the slope and intercept let's make a prediction. Use (or alter) the following to find out the estimated price for a house with 2650 squarefeet according to the squarefeet model we estiamted above.\n",
        "\n",
        "**Quiz Question: Using your Slope and Intercept from (4), What is the predicted price for a house with 2650 sqft?**"
      ]
    },
    {
      "cell_type": "code",
      "metadata": {
        "id": "LqRn6VN1z2VS",
        "colab_type": "code",
        "colab": {
          "base_uri": "https://localhost:8080/",
          "height": 34
        },
        "outputId": "a40a4828-5bf2-4aa4-de74-cd732bfee2c3"
      },
      "source": [
        "my_house_sqft = 2650\n",
        "estimated_price = get_regression_predictions(my_house_sqft, sqft_intercept, sqft_slope)\n",
        "print(\"The estimated price for a house with %d squarefeet is $%.2f\" % (my_house_sqft, estimated_price))"
      ],
      "execution_count": null,
      "outputs": [
        {
          "output_type": "stream",
          "text": [
            "The estimated price for a house with 2650 squarefeet is $698820.98\n"
          ],
          "name": "stdout"
        }
      ]
    },
    {
      "cell_type": "markdown",
      "metadata": {
        "id": "HXP1jsTez2VU",
        "colab_type": "text"
      },
      "source": [
        "# Residual Sum of Squares"
      ]
    },
    {
      "cell_type": "markdown",
      "metadata": {
        "id": "alqFvhcrz2VV",
        "colab_type": "text"
      },
      "source": [
        "Now that we have a model and can make predictions let's evaluate our model using Residual Sum of Squares (RSS). Recall that RSS is the sum of the squares of the residuals and the residuals is just a fancy word for the difference between the predicted output and the true output. \n",
        "\n",
        "Complete the following (or write your own) function to compute the RSS of a simple linear regression model given the input_feature, output, intercept and slope:"
      ]
    },
    {
      "cell_type": "code",
      "metadata": {
        "id": "9kCh3O6Nz2VW",
        "colab_type": "code",
        "colab": {}
      },
      "source": [
        "def get_residual_sum_of_squares(input_feature, output, intercept, slope):\n",
        "    # First get the predictions\n",
        "    predictions = intercept*input_feature + slope\n",
        "\n",
        "    # then compute the residuals (since we are squaring it doesn't matter which order you subtract)\n",
        "    residuals = predictions - output\n",
        "    # square the residuals and add them up\n",
        "    RSS = (residuals * residuals).sum()\n",
        "    return(RSS)"
      ],
      "execution_count": null,
      "outputs": []
    },
    {
      "cell_type": "markdown",
      "metadata": {
        "id": "nVpt4Vr8z2VZ",
        "colab_type": "text"
      },
      "source": [
        "Let's test our get_residual_sum_of_squares function by applying it to the test model where the data lie exactly on a line. Since they lie exactly on a line the residual sum of squares should be zero!"
      ]
    },
    {
      "cell_type": "code",
      "metadata": {
        "id": "UOD1Ab7Lz2VZ",
        "colab_type": "code",
        "colab": {
          "base_uri": "https://localhost:8080/",
          "height": 34
        },
        "outputId": "f6effb0e-47e1-48bf-e455-63a3a27d2275"
      },
      "source": [
        "print(get_residual_sum_of_squares(test_feature, test_output, test_intercept, test_slope)) "
      ],
      "execution_count": null,
      "outputs": [
        {
          "output_type": "stream",
          "text": [
            "0.0\n"
          ],
          "name": "stdout"
        }
      ]
    },
    {
      "cell_type": "markdown",
      "metadata": {
        "id": "WJTfUtJRz2Vb",
        "colab_type": "text"
      },
      "source": [
        "Now use your function to calculate the RSS on training data from the squarefeet model calculated above.\n",
        "\n",
        "**Quiz Question: According to this function and the slope and intercept from the squarefeet model What is the RSS for the simple linear regression using squarefeet to predict prices on TRAINING data?**"
      ]
    },
    {
      "cell_type": "code",
      "metadata": {
        "id": "7-Glitrpz2Vc",
        "colab_type": "code",
        "colab": {
          "base_uri": "https://localhost:8080/",
          "height": 34
        },
        "outputId": "604681a5-089d-402f-81b3-5165241680a9"
      },
      "source": [
        "rss_prices_on_sqft = get_residual_sum_of_squares(X_train, y_train, sqft_intercept, sqft_slope)\n",
        "print('The RSS of predicting Prices based on Square Feet is : ' + str(rss_prices_on_sqft))"
      ],
      "execution_count": null,
      "outputs": [
        {
          "output_type": "stream",
          "text": [
            "The RSS of predicting Prices based on Square Feet is : 1.5823960260129885e+20\n"
          ],
          "name": "stdout"
        }
      ]
    },
    {
      "cell_type": "markdown",
      "metadata": {
        "id": "LrbVVl3az2Vd",
        "colab_type": "text"
      },
      "source": [
        "# Predict the squarefeet given price"
      ]
    },
    {
      "cell_type": "markdown",
      "metadata": {
        "id": "C3v6--IJz2Ve",
        "colab_type": "text"
      },
      "source": [
        "What if we want to predict the squarefoot given the price? Since we have an equation y = a + b\\*x we can solve the function for x. So that if we have the intercept (a) and the slope (b) and the price (y) we can solve for the estimated squarefeet (x).\n",
        "\n",
        "Complete the following function to compute the inverse regression estimate, i.e. predict the input_feature given the output."
      ]
    },
    {
      "cell_type": "code",
      "metadata": {
        "id": "dBgN025Sz2Ve",
        "colab_type": "code",
        "colab": {}
      },
      "source": [
        "def inverse_regression_predictions(output, intercept, slope):\n",
        "    # solve output = intercept + slope*input_feature for input_feature. Use this equation to compute the inverse predictions:\n",
        "\n",
        "    return estimated_feature"
      ],
      "execution_count": null,
      "outputs": []
    },
    {
      "cell_type": "markdown",
      "metadata": {
        "id": "V9QwBXmDz2Vg",
        "colab_type": "text"
      },
      "source": [
        "Now that we have a function to compute the squarefeet given the price from our simple regression model let's see how big we might expect a house that costs $800,000 to be.\n",
        "\n",
        "**Quiz Question: According to this function and the regression slope and intercept from (3) what is the estimated square-feet for a house costing $800,000?**"
      ]
    },
    {
      "cell_type": "code",
      "metadata": {
        "id": "RGcU9Vuzz2Vg",
        "colab_type": "code",
        "colab": {}
      },
      "source": [
        "my_house_price = 800000\n",
        "estimated_squarefeet = inverse_regression_predictions(my_house_price, sqft_intercept, sqft_slope)\n",
        "print \"The estimated squarefeet for a house worth $%.2f is %d\" % (my_house_price, estimated_squarefeet)"
      ],
      "execution_count": null,
      "outputs": []
    },
    {
      "cell_type": "markdown",
      "metadata": {
        "id": "TL-n5LXhz2Vi",
        "colab_type": "text"
      },
      "source": [
        "# New Model: estimate prices from bedrooms"
      ]
    },
    {
      "cell_type": "markdown",
      "metadata": {
        "id": "dsG7ehLBz2Vi",
        "colab_type": "text"
      },
      "source": [
        "We have made one model for predicting house prices using squarefeet, but there are many other features in the sales SFrame. \n",
        "Use your simple linear regression function to estimate the regression parameters from predicting Prices based on number of bedrooms. Use the training data!"
      ]
    },
    {
      "cell_type": "code",
      "metadata": {
        "id": "336VwVxHz2Vj",
        "colab_type": "code",
        "colab": {}
      },
      "source": [
        "# Estimate the slope and intercept for predicting 'price' based on 'bedrooms'\n",
        "\n"
      ],
      "execution_count": null,
      "outputs": []
    },
    {
      "cell_type": "markdown",
      "metadata": {
        "id": "OJo5zUAhz2Vk",
        "colab_type": "text"
      },
      "source": [
        "# Test your Linear Regression Algorithm"
      ]
    },
    {
      "cell_type": "markdown",
      "metadata": {
        "id": "kGxTNu9Gz2Vk",
        "colab_type": "text"
      },
      "source": [
        "Now we have two models for predicting the price of a house. How do we know which one is better? Calculate the RSS on the TEST data (remember this data wasn't involved in learning the model). Compute the RSS from predicting prices using bedrooms and from predicting prices using squarefeet.\n",
        "\n",
        "**Quiz Question: Which model (square feet or bedrooms) has lowest RSS on TEST data? Think about why this might be the case.**"
      ]
    },
    {
      "cell_type": "code",
      "metadata": {
        "id": "FGG3i-ngz2Vl",
        "colab_type": "code",
        "colab": {}
      },
      "source": [
        "# Compute RSS when using bedrooms on TEST data:\n"
      ],
      "execution_count": null,
      "outputs": []
    },
    {
      "cell_type": "code",
      "metadata": {
        "id": "vwvUjLXLz2Vn",
        "colab_type": "code",
        "colab": {}
      },
      "source": [
        "# Compute RSS when using squarefeet on TEST data:\n"
      ],
      "execution_count": null,
      "outputs": []
    },
    {
      "cell_type": "markdown",
      "metadata": {
        "id": "YP9aGsJ8z2Vp",
        "colab_type": "text"
      },
      "source": [
        "# Visual your linear model along with data "
      ]
    },
    {
      "cell_type": "markdown",
      "metadata": {
        "id": "no9yHGmRz2Vq",
        "colab_type": "text"
      },
      "source": [
        "Now it's the time to visual your model, using matplotlib "
      ]
    },
    {
      "cell_type": "code",
      "metadata": {
        "id": "OQeG230Pz2Vq",
        "colab_type": "code",
        "colab": {}
      },
      "source": [
        "# Your code here "
      ],
      "execution_count": null,
      "outputs": []
    },
    {
      "cell_type": "markdown",
      "metadata": {
        "id": "kRef2Hr1z2Vt",
        "colab_type": "text"
      },
      "source": [
        "# Using Sklearn's Linear Regression "
      ]
    },
    {
      "cell_type": "markdown",
      "metadata": {
        "id": "vRYrwVlHz2Vt",
        "colab_type": "text"
      },
      "source": [
        "Sklearn is a great Machine Learning Library, so you could use it for implement and compare with your model "
      ]
    },
    {
      "cell_type": "code",
      "metadata": {
        "id": "LNx0ms39z2Vu",
        "colab_type": "code",
        "colab": {}
      },
      "source": [
        "# Load model \n",
        "from sklearn import datasets, linear_model\n",
        "from sklearn.linear_model import LinearRegression"
      ],
      "execution_count": null,
      "outputs": []
    },
    {
      "cell_type": "code",
      "metadata": {
        "id": "_c5WYAB8z2Vv",
        "colab_type": "code",
        "colab": {}
      },
      "source": [
        "# Your code here "
      ],
      "execution_count": null,
      "outputs": []
    },
    {
      "cell_type": "markdown",
      "metadata": {
        "id": "2ziT_3Lyz2Vx",
        "colab_type": "text"
      },
      "source": [
        "# Compare your model with Sklearn"
      ]
    },
    {
      "cell_type": "code",
      "metadata": {
        "id": "-OKZJ2qPz2Vx",
        "colab_type": "code",
        "colab": {}
      },
      "source": [
        "# Print the RSS on test data "
      ],
      "execution_count": null,
      "outputs": []
    },
    {
      "cell_type": "code",
      "metadata": {
        "id": "ZtSnhE71z2Vy",
        "colab_type": "code",
        "colab": {}
      },
      "source": [
        "# Plot data and 2 models to compare "
      ],
      "execution_count": null,
      "outputs": []
    },
    {
      "cell_type": "markdown",
      "metadata": {
        "id": "Ae_NMT_Gz2V0",
        "colab_type": "text"
      },
      "source": [
        "# Least Square model "
      ]
    },
    {
      "cell_type": "markdown",
      "metadata": {
        "id": "aq3JZc0Lz2V1",
        "colab_type": "text"
      },
      "source": [
        "It's the time to use all variables to train, let's start with Least Squares  first, it could be better if you can compare between Least Squares of Linear Regression and LS of Ridge Regression. Remember, you must use all variables, checkout the formular of LS in LinearRegressionAndLogisticRegression.pdf and do it with numpy "
      ]
    },
    {
      "cell_type": "code",
      "metadata": {
        "id": "VAzTFILVz2V2",
        "colab_type": "code",
        "colab": {}
      },
      "source": [
        "# Your LS code here "
      ],
      "execution_count": null,
      "outputs": []
    },
    {
      "cell_type": "code",
      "metadata": {
        "id": "CdnhFe1kz2V4",
        "colab_type": "code",
        "colab": {}
      },
      "source": [
        "# Your RSS function here "
      ],
      "execution_count": null,
      "outputs": []
    },
    {
      "cell_type": "code",
      "metadata": {
        "id": "XXeJ0RfMz2V5",
        "colab_type": "code",
        "colab": {}
      },
      "source": [
        "# Print the RSS value "
      ],
      "execution_count": null,
      "outputs": []
    },
    {
      "cell_type": "markdown",
      "metadata": {
        "id": "-ivkuGchz2V7",
        "colab_type": "text"
      },
      "source": [
        "# Sklearn model "
      ]
    },
    {
      "cell_type": "markdown",
      "metadata": {
        "id": "jrnTjLtMz2V7",
        "colab_type": "text"
      },
      "source": [
        "Let's build a Sklearn model using Linear model above with all variables and compare with Least Square "
      ]
    },
    {
      "cell_type": "code",
      "metadata": {
        "id": "o5bhxQ1sz2V8",
        "colab_type": "code",
        "colab": {}
      },
      "source": [
        "# Your Sklearn code here "
      ],
      "execution_count": null,
      "outputs": []
    },
    {
      "cell_type": "code",
      "metadata": {
        "id": "W3gQlaYyz2V-",
        "colab_type": "code",
        "colab": {}
      },
      "source": [
        "# Your RSS show here "
      ],
      "execution_count": null,
      "outputs": []
    },
    {
      "cell_type": "markdown",
      "metadata": {
        "id": "dv4qunh-z2WC",
        "colab_type": "text"
      },
      "source": [
        "# Advanced: Can you build your own one? \n",
        "It's time to build a Linear Regression with Gradient Descent, Let's build LS model with and without Regularization, including all variables and make comparison, have fun!"
      ]
    },
    {
      "cell_type": "code",
      "metadata": {
        "id": "j5f0Cu8Wz2WC",
        "colab_type": "code",
        "colab": {}
      },
      "source": [
        "# Define your model here "
      ],
      "execution_count": null,
      "outputs": []
    },
    {
      "cell_type": "markdown",
      "metadata": {
        "id": "s5ySDfbdz2WD",
        "colab_type": "text"
      },
      "source": [
        "# Create some new features"
      ]
    },
    {
      "cell_type": "markdown",
      "metadata": {
        "id": "dqSdhqUdz2WE",
        "colab_type": "text"
      },
      "source": [
        "Although we often think of multiple regression as including multiple different features (e.g. # of bedrooms, squarefeet, and # of bathrooms) but we can also consider transformations of existing features e.g. the log of the squarefeet or even \"interaction\" features such as the product of bedrooms and bathrooms.\n",
        "You will use the logarithm function to create a new feature. so first you should import it from the math library."
      ]
    },
    {
      "cell_type": "markdown",
      "metadata": {
        "id": "pEoyinrGz2WE",
        "colab_type": "text"
      },
      "source": [
        "Next create the following 4 new features as column in both TEST and TRAIN data:\n",
        "* bedrooms_squared = bedrooms\\*bedrooms\n",
        "* bed_bath_rooms = bedrooms\\*bathrooms\n",
        "* log_sqft_living = log(sqft_living)\n",
        "* lat_plus_long = lat + long \n",
        "As an example here's the first one:"
      ]
    },
    {
      "cell_type": "code",
      "metadata": {
        "id": "SyXO2iBJz2WF",
        "colab_type": "code",
        "colab": {}
      },
      "source": [
        "# create the remaining 3 features in both TEST and TRAIN data\n",
        "\n"
      ],
      "execution_count": null,
      "outputs": []
    },
    {
      "cell_type": "markdown",
      "metadata": {
        "id": "T_nfk6Nzz2WG",
        "colab_type": "text"
      },
      "source": [
        "* Squaring bedrooms will increase the separation between not many bedrooms (e.g. 1) and lots of bedrooms (e.g. 4) since 1^2 = 1 but 4^2 = 16. Consequently this feature will mostly affect houses with many bedrooms.\n",
        "* bedrooms times bathrooms gives what's called an \"interaction\" feature. It is large when *both* of them are large.\n",
        "* Taking the log of squarefeet has the effect of bringing large values closer together and spreading out small values.\n",
        "* Adding latitude to longitude is totally non-sensical but we will do it anyway (you'll see why)"
      ]
    },
    {
      "cell_type": "code",
      "metadata": {
        "id": "9QT-AO0wz2WG",
        "colab_type": "code",
        "colab": {}
      },
      "source": [
        "# Build models with new features by your own above models"
      ],
      "execution_count": null,
      "outputs": []
    },
    {
      "cell_type": "code",
      "metadata": {
        "id": "519Y3hWGz2WI",
        "colab_type": "code",
        "colab": {}
      },
      "source": [
        ""
      ],
      "execution_count": null,
      "outputs": []
    }
  ]
}