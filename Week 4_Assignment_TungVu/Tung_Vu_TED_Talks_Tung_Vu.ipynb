{
  "nbformat": 4,
  "nbformat_minor": 0,
  "metadata": {
    "kernelspec": {
      "display_name": "Python 3",
      "language": "python",
      "name": "python3"
    },
    "language_info": {
      "codemirror_mode": {
        "name": "ipython",
        "version": 3
      },
      "file_extension": ".py",
      "mimetype": "text/x-python",
      "name": "python",
      "nbconvert_exporter": "python",
      "pygments_lexer": "ipython3",
      "version": "3.7.3"
    },
    "colab": {
      "name": "Tung Vu - TED Talks - Tung Vu.ipynb",
      "provenance": []
    }
  },
  "cells": [
    {
      "cell_type": "markdown",
      "metadata": {
        "id": "KkfvlBOcTM2Z",
        "colab_type": "text"
      },
      "source": [
        "# Team 4 - TED Talks\n",
        "\n",
        "![](https://psmarketingimages.s3.amazonaws.com/blog/wp-content/uploads/2017/04/23103819/TED-Talks-for-Small-Business-and-Entrepreneurs.jpg)\n",
        "\n",
        "_For more information about the dataset, read [here](https://www.kaggle.com/rounakbanik/ted-talks)._\n",
        "\n",
        "## Your tasks\n",
        "- Name your team!\n",
        "- Read the source and do some quick research to understand more about the dataset and its topic\n",
        "- Clean the data\n",
        "- Perform Exploratory Data Analysis on the dataset\n",
        "- Analyze the data more deeply and extract insights\n",
        "- Visualize your analysis on Google Data Studio\n",
        "- Present your works in front of the class and guests next Monday\n",
        "\n",
        "## Submission Guide\n",
        "- Create a Github repository for your project\n",
        "- Upload the dataset (.csv file) and the Jupyter Notebook to your Github repository. In the Jupyter Notebook, **include the link to your Google Data Studio report**.\n",
        "- Submit your works through this [Google Form](https://forms.gle/oxtXpGfS8JapVj3V8).\n",
        "\n",
        "## Tips for Data Cleaning, Manipulation & Visualization\n",
        "- Here are some of our tips for Data Cleaning, Manipulation & Visualization. [Click here](https://hackmd.io/cBNV7E6TT2WMliQC-GTw1A)\n",
        "\n",
        "_____________________________\n",
        "\n",
        "## Some Hints for This Dataset:\n",
        "- The `ratings` column is in dictionary format. How should we handle them?\n",
        "- Same for `related_talks` and `tags` column\n",
        "- Can you find the `year` of the talks?\n",
        "- And more..."
      ]
    },
    {
      "cell_type": "code",
      "metadata": {
        "id": "o2IkWwuhTM2a",
        "colab_type": "code",
        "colab": {
          "base_uri": "https://localhost:8080/",
          "height": 70
        },
        "outputId": "8cbe7322-0337-4c13-82c6-3bc33ac95171"
      },
      "source": [
        "import pandas as pd\n",
        "import numpy as np\n",
        "from scipy import stats\n",
        "import matplotlib.pyplot as plt\n",
        "import seaborn as sns\n",
        "import json \n",
        "from wordcloud import WordCloud, STOPWORDS\n",
        "from pandas.io.json import json_normalize\n",
        "from google.colab import files"
      ],
      "execution_count": 2,
      "outputs": [
        {
          "output_type": "stream",
          "text": [
            "/usr/local/lib/python3.6/dist-packages/statsmodels/tools/_testing.py:19: FutureWarning: pandas.util.testing is deprecated. Use the functions in the public API at pandas.testing instead.\n",
            "  import pandas.util.testing as tm\n"
          ],
          "name": "stderr"
        }
      ]
    },
    {
      "cell_type": "code",
      "metadata": {
        "id": "2s2L_PZrkiuV",
        "colab_type": "code",
        "colab": {}
      },
      "source": [
        "month_order = ['Jan', 'Feb', 'Mar', 'Apr', 'May', 'Jun', 'Jul', 'Aug', 'Sep', 'Oct', 'Nov', 'Dec']\n",
        "day_order = ['Mon', 'Tue', 'Wed', 'Thu', 'Fri', 'Sat', 'Sun']\n"
      ],
      "execution_count": 3,
      "outputs": []
    },
    {
      "cell_type": "markdown",
      "metadata": {
        "id": "ad4Z7_hYlHW-",
        "colab_type": "text"
      },
      "source": [
        "### Read data set"
      ]
    },
    {
      "cell_type": "code",
      "metadata": {
        "id": "7EAaEEuUlNSU",
        "colab_type": "code",
        "colab": {
          "resources": {
            "http://localhost:8080/nbextensions/google.colab/files.js": {
              "data": "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",
              "ok": true,
              "headers": [
                [
                  "content-type",
                  "application/javascript"
                ]
              ],
              "status": 200,
              "status_text": ""
            }
          },
          "base_uri": "https://localhost:8080/",
          "height": 73
        },
        "outputId": "727da597-7ec6-42a0-baae-e00c4ec1a3d3"
      },
      "source": [
        "# Load data from file\n",
        "data_to_load = files.upload()"
      ],
      "execution_count": 4,
      "outputs": [
        {
          "output_type": "display_data",
          "data": {
            "text/html": [
              "\n",
              "     <input type=\"file\" id=\"files-de7eb4fa-f651-40cd-9816-4f88e10bd8e1\" name=\"files[]\" multiple disabled\n",
              "        style=\"border:none\" />\n",
              "     <output id=\"result-de7eb4fa-f651-40cd-9816-4f88e10bd8e1\">\n",
              "      Upload widget is only available when the cell has been executed in the\n",
              "      current browser session. Please rerun this cell to enable.\n",
              "      </output>\n",
              "      <script src=\"/nbextensions/google.colab/files.js\"></script> "
            ],
            "text/plain": [
              "<IPython.core.display.HTML object>"
            ]
          },
          "metadata": {
            "tags": []
          }
        },
        {
          "output_type": "stream",
          "text": [
            "Saving ted.csv to ted.csv\n"
          ],
          "name": "stdout"
        }
      ]
    },
    {
      "cell_type": "code",
      "metadata": {
        "id": "1V3fPnsLCNIF",
        "colab_type": "code",
        "colab": {}
      },
      "source": [
        "# read ted_data as data frame\n",
        "ted_data = pd.read_csv('ted.csv')"
      ],
      "execution_count": 44,
      "outputs": []
    },
    {
      "cell_type": "code",
      "metadata": {
        "id": "-oE1HaeLDZCt",
        "colab_type": "code",
        "colab": {
          "base_uri": "https://localhost:8080/",
          "height": 100
        },
        "outputId": "cb71fc0d-522f-4510-b9c7-02fd0cd96211"
      },
      "source": [
        "# Show all columns\n",
        "ted_data.columns"
      ],
      "execution_count": null,
      "outputs": [
        {
          "output_type": "execute_result",
          "data": {
            "text/plain": [
              "Index(['comments', 'description', 'duration', 'event', 'film_date',\n",
              "       'languages', 'main_speaker', 'name', 'num_speaker', 'published_date',\n",
              "       'ratings', 'related_talks', 'speaker_occupation', 'tags', 'title',\n",
              "       'url', 'views'],\n",
              "      dtype='object')"
            ]
          },
          "metadata": {
            "tags": []
          },
          "execution_count": 8
        }
      ]
    },
    {
      "cell_type": "code",
      "metadata": {
        "id": "L11bPuQKEYwO",
        "colab_type": "code",
        "colab": {
          "base_uri": "https://localhost:8080/",
          "height": 1000
        },
        "outputId": "77e5ebb0-707c-49a5-b1ef-e625a1a6677f"
      },
      "source": [
        "# Show ted_data\n",
        "ted_data"
      ],
      "execution_count": null,
      "outputs": [
        {
          "output_type": "execute_result",
          "data": {
            "text/html": [
              "<div>\n",
              "<style scoped>\n",
              "    .dataframe tbody tr th:only-of-type {\n",
              "        vertical-align: middle;\n",
              "    }\n",
              "\n",
              "    .dataframe tbody tr th {\n",
              "        vertical-align: top;\n",
              "    }\n",
              "\n",
              "    .dataframe thead th {\n",
              "        text-align: right;\n",
              "    }\n",
              "</style>\n",
              "<table border=\"1\" class=\"dataframe\">\n",
              "  <thead>\n",
              "    <tr style=\"text-align: right;\">\n",
              "      <th></th>\n",
              "      <th>comments</th>\n",
              "      <th>description</th>\n",
              "      <th>duration</th>\n",
              "      <th>event</th>\n",
              "      <th>film_date</th>\n",
              "      <th>languages</th>\n",
              "      <th>main_speaker</th>\n",
              "      <th>name</th>\n",
              "      <th>num_speaker</th>\n",
              "      <th>published_date</th>\n",
              "      <th>ratings</th>\n",
              "      <th>related_talks</th>\n",
              "      <th>speaker_occupation</th>\n",
              "      <th>tags</th>\n",
              "      <th>title</th>\n",
              "      <th>url</th>\n",
              "      <th>views</th>\n",
              "    </tr>\n",
              "  </thead>\n",
              "  <tbody>\n",
              "    <tr>\n",
              "      <th>0</th>\n",
              "      <td>4553</td>\n",
              "      <td>Sir Ken Robinson makes an entertaining and pro...</td>\n",
              "      <td>1164</td>\n",
              "      <td>TED2006</td>\n",
              "      <td>1140825600</td>\n",
              "      <td>60</td>\n",
              "      <td>Ken Robinson</td>\n",
              "      <td>Ken Robinson: Do schools kill creativity?</td>\n",
              "      <td>1</td>\n",
              "      <td>1151367060</td>\n",
              "      <td>[{'id': 7, 'name': 'Funny', 'count': 19645}, {...</td>\n",
              "      <td>[{'id': 865, 'hero': 'https://pe.tedcdn.com/im...</td>\n",
              "      <td>Author/educator</td>\n",
              "      <td>['children', 'creativity', 'culture', 'dance',...</td>\n",
              "      <td>Do schools kill creativity?</td>\n",
              "      <td>https://www.ted.com/talks/ken_robinson_says_sc...</td>\n",
              "      <td>47227110</td>\n",
              "    </tr>\n",
              "    <tr>\n",
              "      <th>1</th>\n",
              "      <td>265</td>\n",
              "      <td>With the same humor and humanity he exuded in ...</td>\n",
              "      <td>977</td>\n",
              "      <td>TED2006</td>\n",
              "      <td>1140825600</td>\n",
              "      <td>43</td>\n",
              "      <td>Al Gore</td>\n",
              "      <td>Al Gore: Averting the climate crisis</td>\n",
              "      <td>1</td>\n",
              "      <td>1151367060</td>\n",
              "      <td>[{'id': 7, 'name': 'Funny', 'count': 544}, {'i...</td>\n",
              "      <td>[{'id': 243, 'hero': 'https://pe.tedcdn.com/im...</td>\n",
              "      <td>Climate advocate</td>\n",
              "      <td>['alternative energy', 'cars', 'climate change...</td>\n",
              "      <td>Averting the climate crisis</td>\n",
              "      <td>https://www.ted.com/talks/al_gore_on_averting_...</td>\n",
              "      <td>3200520</td>\n",
              "    </tr>\n",
              "    <tr>\n",
              "      <th>2</th>\n",
              "      <td>124</td>\n",
              "      <td>New York Times columnist David Pogue takes aim...</td>\n",
              "      <td>1286</td>\n",
              "      <td>TED2006</td>\n",
              "      <td>1140739200</td>\n",
              "      <td>26</td>\n",
              "      <td>David Pogue</td>\n",
              "      <td>David Pogue: Simplicity sells</td>\n",
              "      <td>1</td>\n",
              "      <td>1151367060</td>\n",
              "      <td>[{'id': 7, 'name': 'Funny', 'count': 964}, {'i...</td>\n",
              "      <td>[{'id': 1725, 'hero': 'https://pe.tedcdn.com/i...</td>\n",
              "      <td>Technology columnist</td>\n",
              "      <td>['computers', 'entertainment', 'interface desi...</td>\n",
              "      <td>Simplicity sells</td>\n",
              "      <td>https://www.ted.com/talks/david_pogue_says_sim...</td>\n",
              "      <td>1636292</td>\n",
              "    </tr>\n",
              "    <tr>\n",
              "      <th>3</th>\n",
              "      <td>200</td>\n",
              "      <td>In an emotionally charged talk, MacArthur-winn...</td>\n",
              "      <td>1116</td>\n",
              "      <td>TED2006</td>\n",
              "      <td>1140912000</td>\n",
              "      <td>35</td>\n",
              "      <td>Majora Carter</td>\n",
              "      <td>Majora Carter: Greening the ghetto</td>\n",
              "      <td>1</td>\n",
              "      <td>1151367060</td>\n",
              "      <td>[{'id': 3, 'name': 'Courageous', 'count': 760}...</td>\n",
              "      <td>[{'id': 1041, 'hero': 'https://pe.tedcdn.com/i...</td>\n",
              "      <td>Activist for environmental justice</td>\n",
              "      <td>['MacArthur grant', 'activism', 'business', 'c...</td>\n",
              "      <td>Greening the ghetto</td>\n",
              "      <td>https://www.ted.com/talks/majora_carter_s_tale...</td>\n",
              "      <td>1697550</td>\n",
              "    </tr>\n",
              "    <tr>\n",
              "      <th>4</th>\n",
              "      <td>593</td>\n",
              "      <td>You've never seen data presented like this. Wi...</td>\n",
              "      <td>1190</td>\n",
              "      <td>TED2006</td>\n",
              "      <td>1140566400</td>\n",
              "      <td>48</td>\n",
              "      <td>Hans Rosling</td>\n",
              "      <td>Hans Rosling: The best stats you've ever seen</td>\n",
              "      <td>1</td>\n",
              "      <td>1151440680</td>\n",
              "      <td>[{'id': 9, 'name': 'Ingenious', 'count': 3202}...</td>\n",
              "      <td>[{'id': 2056, 'hero': 'https://pe.tedcdn.com/i...</td>\n",
              "      <td>Global health expert; data visionary</td>\n",
              "      <td>['Africa', 'Asia', 'Google', 'demo', 'economic...</td>\n",
              "      <td>The best stats you've ever seen</td>\n",
              "      <td>https://www.ted.com/talks/hans_rosling_shows_t...</td>\n",
              "      <td>12005869</td>\n",
              "    </tr>\n",
              "    <tr>\n",
              "      <th>...</th>\n",
              "      <td>...</td>\n",
              "      <td>...</td>\n",
              "      <td>...</td>\n",
              "      <td>...</td>\n",
              "      <td>...</td>\n",
              "      <td>...</td>\n",
              "      <td>...</td>\n",
              "      <td>...</td>\n",
              "      <td>...</td>\n",
              "      <td>...</td>\n",
              "      <td>...</td>\n",
              "      <td>...</td>\n",
              "      <td>...</td>\n",
              "      <td>...</td>\n",
              "      <td>...</td>\n",
              "      <td>...</td>\n",
              "      <td>...</td>\n",
              "    </tr>\n",
              "    <tr>\n",
              "      <th>2545</th>\n",
              "      <td>17</td>\n",
              "      <td>Between 2008 and 2016, the United States depor...</td>\n",
              "      <td>476</td>\n",
              "      <td>TED2017</td>\n",
              "      <td>1496707200</td>\n",
              "      <td>4</td>\n",
              "      <td>Duarte Geraldino</td>\n",
              "      <td>Duarte Geraldino: What we're missing in the de...</td>\n",
              "      <td>1</td>\n",
              "      <td>1505851216</td>\n",
              "      <td>[{'id': 3, 'name': 'Courageous', 'count': 24},...</td>\n",
              "      <td>[{'id': 2596, 'hero': 'https://pe.tedcdn.com/i...</td>\n",
              "      <td>Journalist</td>\n",
              "      <td>['TED Residency', 'United States', 'community'...</td>\n",
              "      <td>What we're missing in the debate about immigra...</td>\n",
              "      <td>https://www.ted.com/talks/duarte_geraldino_wha...</td>\n",
              "      <td>450430</td>\n",
              "    </tr>\n",
              "    <tr>\n",
              "      <th>2546</th>\n",
              "      <td>6</td>\n",
              "      <td>How can you study Mars without a spaceship? He...</td>\n",
              "      <td>290</td>\n",
              "      <td>TED2017</td>\n",
              "      <td>1492992000</td>\n",
              "      <td>3</td>\n",
              "      <td>Armando Azua-Bustos</td>\n",
              "      <td>Armando Azua-Bustos: The most Martian place on...</td>\n",
              "      <td>1</td>\n",
              "      <td>1505919737</td>\n",
              "      <td>[{'id': 22, 'name': 'Fascinating', 'count': 32...</td>\n",
              "      <td>[{'id': 2491, 'hero': 'https://pe.tedcdn.com/i...</td>\n",
              "      <td>Astrobiologist</td>\n",
              "      <td>['Mars', 'South America', 'TED Fellows', 'astr...</td>\n",
              "      <td>The most Martian place on Earth</td>\n",
              "      <td>https://www.ted.com/talks/armando_azua_bustos_...</td>\n",
              "      <td>417470</td>\n",
              "    </tr>\n",
              "    <tr>\n",
              "      <th>2547</th>\n",
              "      <td>10</td>\n",
              "      <td>Science fiction visions of the future show us ...</td>\n",
              "      <td>651</td>\n",
              "      <td>TED2017</td>\n",
              "      <td>1492992000</td>\n",
              "      <td>1</td>\n",
              "      <td>Radhika Nagpal</td>\n",
              "      <td>Radhika Nagpal: What intelligent machines can ...</td>\n",
              "      <td>1</td>\n",
              "      <td>1506006095</td>\n",
              "      <td>[{'id': 1, 'name': 'Beautiful', 'count': 14}, ...</td>\n",
              "      <td>[{'id': 2346, 'hero': 'https://pe.tedcdn.com/i...</td>\n",
              "      <td>Robotics engineer</td>\n",
              "      <td>['AI', 'ants', 'fish', 'future', 'innovation',...</td>\n",
              "      <td>What intelligent machines can learn from a sch...</td>\n",
              "      <td>https://www.ted.com/talks/radhika_nagpal_what_...</td>\n",
              "      <td>375647</td>\n",
              "    </tr>\n",
              "    <tr>\n",
              "      <th>2548</th>\n",
              "      <td>32</td>\n",
              "      <td>In an unmissable talk about race and politics ...</td>\n",
              "      <td>1100</td>\n",
              "      <td>TEDxMileHigh</td>\n",
              "      <td>1499472000</td>\n",
              "      <td>1</td>\n",
              "      <td>Theo E.J. Wilson</td>\n",
              "      <td>Theo E.J. Wilson: A black man goes undercover ...</td>\n",
              "      <td>1</td>\n",
              "      <td>1506024042</td>\n",
              "      <td>[{'id': 11, 'name': 'Longwinded', 'count': 3},...</td>\n",
              "      <td>[{'id': 2512, 'hero': 'https://pe.tedcdn.com/i...</td>\n",
              "      <td>Public intellectual</td>\n",
              "      <td>['Internet', 'TEDx', 'United States', 'communi...</td>\n",
              "      <td>A black man goes undercover in the alt-right</td>\n",
              "      <td>https://www.ted.com/talks/theo_e_j_wilson_a_bl...</td>\n",
              "      <td>419309</td>\n",
              "    </tr>\n",
              "    <tr>\n",
              "      <th>2549</th>\n",
              "      <td>8</td>\n",
              "      <td>With more than half of the world population li...</td>\n",
              "      <td>519</td>\n",
              "      <td>TED2017</td>\n",
              "      <td>1492992000</td>\n",
              "      <td>1</td>\n",
              "      <td>Karoliina Korppoo</td>\n",
              "      <td>Karoliina Korppoo: How a video game might help...</td>\n",
              "      <td>1</td>\n",
              "      <td>1506092422</td>\n",
              "      <td>[{'id': 21, 'name': 'Unconvincing', 'count': 2...</td>\n",
              "      <td>[{'id': 2682, 'hero': 'https://pe.tedcdn.com/i...</td>\n",
              "      <td>Game designer</td>\n",
              "      <td>['cities', 'design', 'future', 'infrastructure...</td>\n",
              "      <td>How a video game might help us build better ci...</td>\n",
              "      <td>https://www.ted.com/talks/karoliina_korppoo_ho...</td>\n",
              "      <td>391721</td>\n",
              "    </tr>\n",
              "  </tbody>\n",
              "</table>\n",
              "<p>2550 rows × 17 columns</p>\n",
              "</div>"
            ],
            "text/plain": [
              "      comments  ...     views\n",
              "0         4553  ...  47227110\n",
              "1          265  ...   3200520\n",
              "2          124  ...   1636292\n",
              "3          200  ...   1697550\n",
              "4          593  ...  12005869\n",
              "...        ...  ...       ...\n",
              "2545        17  ...    450430\n",
              "2546         6  ...    417470\n",
              "2547        10  ...    375647\n",
              "2548        32  ...    419309\n",
              "2549         8  ...    391721\n",
              "\n",
              "[2550 rows x 17 columns]"
            ]
          },
          "metadata": {
            "tags": []
          },
          "execution_count": 9
        }
      ]
    },
    {
      "cell_type": "code",
      "metadata": {
        "id": "ASaJkJy6KxD5",
        "colab_type": "code",
        "colab": {
          "base_uri": "https://localhost:8080/",
          "height": 33
        },
        "outputId": "8fc7ddd8-6e97-42c4-a62f-ca39208cec4a"
      },
      "source": [
        "# Number of records\n",
        "len(ted_data)"
      ],
      "execution_count": null,
      "outputs": [
        {
          "output_type": "execute_result",
          "data": {
            "text/plain": [
              "2550"
            ]
          },
          "metadata": {
            "tags": []
          },
          "execution_count": 10
        }
      ]
    },
    {
      "cell_type": "markdown",
      "metadata": {
        "id": "pWHeVGx_E281",
        "colab_type": "text"
      },
      "source": [
        "# About the columns in Ted data \n",
        "\n",
        "1.   **comments**: The number of first level comments made on the talk\n",
        "2.   **description**: A blurb of what the talk is about\n",
        "3.   **event**: The TED/TEDx event where the talk took place\n",
        "4.   **film_date**: The Unix timestamp of the filming\n",
        "5.   **languages**: The number of languages in which the talk is available\n",
        "6.   **main_speaker**: The first named speaker of the talk\n",
        "7.   **name**: The official name of the TED Talk. Includes the title and the speaker.\n",
        "8.   **num_speaker**: The number of speakers in the talk\n",
        "9.   **published_date**: The Unix timestamp for the publication of the talk on TED.com\n",
        "10. **speaker_occupation**: The occupation of the main speaker.\n",
        "11. **duration**: The duration of the talk in seconds.\n",
        "12. **tags**: The themes associated with the talk.\n",
        "13. **ratings**: A stringified dictionary of the various ratings given to the talk (inspiring, fascinating, jaw dropping, etc.)\n",
        "14. **related_talks**: A list of dictionaries of recommended talks to watch next.\n",
        "15. **url**: The URL of the talk.\n",
        "16. **views**: The number of views on the talk.\n",
        "17. **title**: The title of the talk"
      ]
    },
    {
      "cell_type": "markdown",
      "metadata": {
        "id": "p7ny6pNcHjy-",
        "colab_type": "text"
      },
      "source": [
        "# Convert UNIX timestamp to common time"
      ]
    },
    {
      "cell_type": "code",
      "metadata": {
        "id": "gGBR1IjNEnxu",
        "colab_type": "code",
        "colab": {}
      },
      "source": [
        "import datetime\n",
        "ted_data['film_date'] = ted_data['film_date'].apply(lambda x: datetime.datetime.fromtimestamp(int(x)).strftime('%d-%m-%Y'))\n",
        "ted_data['published_date'] = ted_data['published_date'].apply(lambda x: datetime.datetime.fromtimestamp(int(x)).strftime('%d-%m-%Y'))"
      ],
      "execution_count": 45,
      "outputs": []
    },
    {
      "cell_type": "code",
      "metadata": {
        "id": "4Xq8LWqJKDWT",
        "colab_type": "code",
        "colab": {
          "base_uri": "https://localhost:8080/",
          "height": 1000
        },
        "outputId": "82f4f69e-6005-4e18-d19f-78ad1b0a9037"
      },
      "source": [
        "# show top 10 ted's data after converting datetime\n",
        "ted_data.head(10)"
      ],
      "execution_count": 19,
      "outputs": [
        {
          "output_type": "execute_result",
          "data": {
            "text/html": [
              "<div>\n",
              "<style scoped>\n",
              "    .dataframe tbody tr th:only-of-type {\n",
              "        vertical-align: middle;\n",
              "    }\n",
              "\n",
              "    .dataframe tbody tr th {\n",
              "        vertical-align: top;\n",
              "    }\n",
              "\n",
              "    .dataframe thead th {\n",
              "        text-align: right;\n",
              "    }\n",
              "</style>\n",
              "<table border=\"1\" class=\"dataframe\">\n",
              "  <thead>\n",
              "    <tr style=\"text-align: right;\">\n",
              "      <th></th>\n",
              "      <th>comments</th>\n",
              "      <th>description</th>\n",
              "      <th>duration</th>\n",
              "      <th>event</th>\n",
              "      <th>film_date</th>\n",
              "      <th>languages</th>\n",
              "      <th>main_speaker</th>\n",
              "      <th>name</th>\n",
              "      <th>num_speaker</th>\n",
              "      <th>published_date</th>\n",
              "      <th>ratings</th>\n",
              "      <th>related_talks</th>\n",
              "      <th>speaker_occupation</th>\n",
              "      <th>tags</th>\n",
              "      <th>title</th>\n",
              "      <th>url</th>\n",
              "      <th>views</th>\n",
              "    </tr>\n",
              "  </thead>\n",
              "  <tbody>\n",
              "    <tr>\n",
              "      <th>0</th>\n",
              "      <td>4553</td>\n",
              "      <td>Sir Ken Robinson makes an entertaining and pro...</td>\n",
              "      <td>1164</td>\n",
              "      <td>TED2006</td>\n",
              "      <td>25-02-2006</td>\n",
              "      <td>60</td>\n",
              "      <td>Ken Robinson</td>\n",
              "      <td>Ken Robinson: Do schools kill creativity?</td>\n",
              "      <td>1</td>\n",
              "      <td>27-06-2006</td>\n",
              "      <td>[{'id': 7, 'name': 'Funny', 'count': 19645}, {...</td>\n",
              "      <td>[{'id': 865, 'hero': 'https://pe.tedcdn.com/im...</td>\n",
              "      <td>Author/educator</td>\n",
              "      <td>['children', 'creativity', 'culture', 'dance',...</td>\n",
              "      <td>Do schools kill creativity?</td>\n",
              "      <td>https://www.ted.com/talks/ken_robinson_says_sc...</td>\n",
              "      <td>47227110</td>\n",
              "    </tr>\n",
              "    <tr>\n",
              "      <th>1</th>\n",
              "      <td>265</td>\n",
              "      <td>With the same humor and humanity he exuded in ...</td>\n",
              "      <td>977</td>\n",
              "      <td>TED2006</td>\n",
              "      <td>25-02-2006</td>\n",
              "      <td>43</td>\n",
              "      <td>Al Gore</td>\n",
              "      <td>Al Gore: Averting the climate crisis</td>\n",
              "      <td>1</td>\n",
              "      <td>27-06-2006</td>\n",
              "      <td>[{'id': 7, 'name': 'Funny', 'count': 544}, {'i...</td>\n",
              "      <td>[{'id': 243, 'hero': 'https://pe.tedcdn.com/im...</td>\n",
              "      <td>Climate advocate</td>\n",
              "      <td>['alternative energy', 'cars', 'climate change...</td>\n",
              "      <td>Averting the climate crisis</td>\n",
              "      <td>https://www.ted.com/talks/al_gore_on_averting_...</td>\n",
              "      <td>3200520</td>\n",
              "    </tr>\n",
              "    <tr>\n",
              "      <th>2</th>\n",
              "      <td>124</td>\n",
              "      <td>New York Times columnist David Pogue takes aim...</td>\n",
              "      <td>1286</td>\n",
              "      <td>TED2006</td>\n",
              "      <td>24-02-2006</td>\n",
              "      <td>26</td>\n",
              "      <td>David Pogue</td>\n",
              "      <td>David Pogue: Simplicity sells</td>\n",
              "      <td>1</td>\n",
              "      <td>27-06-2006</td>\n",
              "      <td>[{'id': 7, 'name': 'Funny', 'count': 964}, {'i...</td>\n",
              "      <td>[{'id': 1725, 'hero': 'https://pe.tedcdn.com/i...</td>\n",
              "      <td>Technology columnist</td>\n",
              "      <td>['computers', 'entertainment', 'interface desi...</td>\n",
              "      <td>Simplicity sells</td>\n",
              "      <td>https://www.ted.com/talks/david_pogue_says_sim...</td>\n",
              "      <td>1636292</td>\n",
              "    </tr>\n",
              "    <tr>\n",
              "      <th>3</th>\n",
              "      <td>200</td>\n",
              "      <td>In an emotionally charged talk, MacArthur-winn...</td>\n",
              "      <td>1116</td>\n",
              "      <td>TED2006</td>\n",
              "      <td>26-02-2006</td>\n",
              "      <td>35</td>\n",
              "      <td>Majora Carter</td>\n",
              "      <td>Majora Carter: Greening the ghetto</td>\n",
              "      <td>1</td>\n",
              "      <td>27-06-2006</td>\n",
              "      <td>[{'id': 3, 'name': 'Courageous', 'count': 760}...</td>\n",
              "      <td>[{'id': 1041, 'hero': 'https://pe.tedcdn.com/i...</td>\n",
              "      <td>Activist for environmental justice</td>\n",
              "      <td>['MacArthur grant', 'activism', 'business', 'c...</td>\n",
              "      <td>Greening the ghetto</td>\n",
              "      <td>https://www.ted.com/talks/majora_carter_s_tale...</td>\n",
              "      <td>1697550</td>\n",
              "    </tr>\n",
              "    <tr>\n",
              "      <th>4</th>\n",
              "      <td>593</td>\n",
              "      <td>You've never seen data presented like this. Wi...</td>\n",
              "      <td>1190</td>\n",
              "      <td>TED2006</td>\n",
              "      <td>22-02-2006</td>\n",
              "      <td>48</td>\n",
              "      <td>Hans Rosling</td>\n",
              "      <td>Hans Rosling: The best stats you've ever seen</td>\n",
              "      <td>1</td>\n",
              "      <td>27-06-2006</td>\n",
              "      <td>[{'id': 9, 'name': 'Ingenious', 'count': 3202}...</td>\n",
              "      <td>[{'id': 2056, 'hero': 'https://pe.tedcdn.com/i...</td>\n",
              "      <td>Global health expert; data visionary</td>\n",
              "      <td>['Africa', 'Asia', 'Google', 'demo', 'economic...</td>\n",
              "      <td>The best stats you've ever seen</td>\n",
              "      <td>https://www.ted.com/talks/hans_rosling_shows_t...</td>\n",
              "      <td>12005869</td>\n",
              "    </tr>\n",
              "    <tr>\n",
              "      <th>5</th>\n",
              "      <td>672</td>\n",
              "      <td>Tony Robbins discusses the \"invisible forces\" ...</td>\n",
              "      <td>1305</td>\n",
              "      <td>TED2006</td>\n",
              "      <td>02-02-2006</td>\n",
              "      <td>36</td>\n",
              "      <td>Tony Robbins</td>\n",
              "      <td>Tony Robbins: Why we do what we do</td>\n",
              "      <td>1</td>\n",
              "      <td>27-06-2006</td>\n",
              "      <td>[{'id': 7, 'name': 'Funny', 'count': 1102}, {'...</td>\n",
              "      <td>[{'id': 229, 'hero': 'https://pe.tedcdn.com/im...</td>\n",
              "      <td>Life coach; expert in leadership psychology</td>\n",
              "      <td>['business', 'culture', 'entertainment', 'goal...</td>\n",
              "      <td>Why we do what we do</td>\n",
              "      <td>https://www.ted.com/talks/tony_robbins_asks_wh...</td>\n",
              "      <td>20685401</td>\n",
              "    </tr>\n",
              "    <tr>\n",
              "      <th>6</th>\n",
              "      <td>919</td>\n",
              "      <td>When two young Mormon missionaries knock on Ju...</td>\n",
              "      <td>992</td>\n",
              "      <td>TED2006</td>\n",
              "      <td>24-02-2006</td>\n",
              "      <td>31</td>\n",
              "      <td>Julia Sweeney</td>\n",
              "      <td>Julia Sweeney: Letting go of God</td>\n",
              "      <td>1</td>\n",
              "      <td>10-07-2006</td>\n",
              "      <td>[{'id': 3, 'name': 'Courageous', 'count': 477}...</td>\n",
              "      <td>[{'id': 22, 'hero': 'https://pe.tedcdn.com/ima...</td>\n",
              "      <td>Actor, comedian, playwright</td>\n",
              "      <td>['Christianity', 'God', 'atheism', 'comedy', '...</td>\n",
              "      <td>Letting go of God</td>\n",
              "      <td>https://www.ted.com/talks/julia_sweeney_on_let...</td>\n",
              "      <td>3769987</td>\n",
              "    </tr>\n",
              "    <tr>\n",
              "      <th>7</th>\n",
              "      <td>46</td>\n",
              "      <td>Architect Joshua Prince-Ramus takes the audien...</td>\n",
              "      <td>1198</td>\n",
              "      <td>TED2006</td>\n",
              "      <td>23-02-2006</td>\n",
              "      <td>19</td>\n",
              "      <td>Joshua Prince-Ramus</td>\n",
              "      <td>Joshua Prince-Ramus: Behind the design of Seat...</td>\n",
              "      <td>1</td>\n",
              "      <td>10-07-2006</td>\n",
              "      <td>[{'id': 9, 'name': 'Ingenious', 'count': 195},...</td>\n",
              "      <td>[{'id': 750, 'hero': 'https://pe.tedcdn.com/im...</td>\n",
              "      <td>Architect</td>\n",
              "      <td>['architecture', 'collaboration', 'culture', '...</td>\n",
              "      <td>Behind the design of Seattle's library</td>\n",
              "      <td>https://www.ted.com/talks/joshua_prince_ramus_...</td>\n",
              "      <td>967741</td>\n",
              "    </tr>\n",
              "    <tr>\n",
              "      <th>8</th>\n",
              "      <td>852</td>\n",
              "      <td>Philosopher Dan Dennett calls for religion -- ...</td>\n",
              "      <td>1485</td>\n",
              "      <td>TED2006</td>\n",
              "      <td>02-02-2006</td>\n",
              "      <td>32</td>\n",
              "      <td>Dan Dennett</td>\n",
              "      <td>Dan Dennett: Let's teach religion -- all relig...</td>\n",
              "      <td>1</td>\n",
              "      <td>18-07-2006</td>\n",
              "      <td>[{'id': 3, 'name': 'Courageous', 'count': 562}...</td>\n",
              "      <td>[{'id': 71, 'hero': 'https://pe.tedcdn.com/ima...</td>\n",
              "      <td>Philosopher, cognitive scientist</td>\n",
              "      <td>['God', 'TED Brain Trust', 'atheism', 'brain',...</td>\n",
              "      <td>Let's teach religion -- all religion -- in sch...</td>\n",
              "      <td>https://www.ted.com/talks/dan_dennett_s_respon...</td>\n",
              "      <td>2567958</td>\n",
              "    </tr>\n",
              "    <tr>\n",
              "      <th>9</th>\n",
              "      <td>900</td>\n",
              "      <td>Pastor Rick Warren, author of \"The Purpose-Dri...</td>\n",
              "      <td>1262</td>\n",
              "      <td>TED2006</td>\n",
              "      <td>25-02-2006</td>\n",
              "      <td>31</td>\n",
              "      <td>Rick Warren</td>\n",
              "      <td>Rick Warren: A life of purpose</td>\n",
              "      <td>1</td>\n",
              "      <td>18-07-2006</td>\n",
              "      <td>[{'id': 21, 'name': 'Unconvincing', 'count': 8...</td>\n",
              "      <td>[{'id': 94, 'hero': 'https://pe.tedcdn.com/ima...</td>\n",
              "      <td>Pastor, author</td>\n",
              "      <td>['Christianity', 'God', 'culture', 'happiness'...</td>\n",
              "      <td>A life of purpose</td>\n",
              "      <td>https://www.ted.com/talks/rick_warren_on_a_lif...</td>\n",
              "      <td>3095993</td>\n",
              "    </tr>\n",
              "  </tbody>\n",
              "</table>\n",
              "</div>"
            ],
            "text/plain": [
              "   comments  ...     views\n",
              "0      4553  ...  47227110\n",
              "1       265  ...   3200520\n",
              "2       124  ...   1636292\n",
              "3       200  ...   1697550\n",
              "4       593  ...  12005869\n",
              "5       672  ...  20685401\n",
              "6       919  ...   3769987\n",
              "7        46  ...    967741\n",
              "8       852  ...   2567958\n",
              "9       900  ...   3095993\n",
              "\n",
              "[10 rows x 17 columns]"
            ]
          },
          "metadata": {
            "tags": []
          },
          "execution_count": 19
        }
      ]
    },
    {
      "cell_type": "markdown",
      "metadata": {
        "id": "gF7fGkw0K88c",
        "colab_type": "text"
      },
      "source": [
        ""
      ]
    },
    {
      "cell_type": "markdown",
      "metadata": {
        "id": "LC7Yr7JOLB1j",
        "colab_type": "text"
      },
      "source": [
        "# Show top 30 most unpopular and popular ted talks of all time"
      ]
    },
    {
      "cell_type": "code",
      "metadata": {
        "id": "0q7q3m-wKsa1",
        "colab_type": "code",
        "colab": {
          "base_uri": "https://localhost:8080/",
          "height": 942
        },
        "outputId": "678e4c3a-d5c7-4141-9383-564da7e192b3"
      },
      "source": [
        "pop_talks = ted_data[['title', 'main_speaker', 'views', 'film_date', 'tags']].sort_values('views', ascending=False)[:30]\n",
        "pop_talks"
      ],
      "execution_count": null,
      "outputs": [
        {
          "output_type": "execute_result",
          "data": {
            "text/html": [
              "<div>\n",
              "<style scoped>\n",
              "    .dataframe tbody tr th:only-of-type {\n",
              "        vertical-align: middle;\n",
              "    }\n",
              "\n",
              "    .dataframe tbody tr th {\n",
              "        vertical-align: top;\n",
              "    }\n",
              "\n",
              "    .dataframe thead th {\n",
              "        text-align: right;\n",
              "    }\n",
              "</style>\n",
              "<table border=\"1\" class=\"dataframe\">\n",
              "  <thead>\n",
              "    <tr style=\"text-align: right;\">\n",
              "      <th></th>\n",
              "      <th>title</th>\n",
              "      <th>main_speaker</th>\n",
              "      <th>views</th>\n",
              "      <th>film_date</th>\n",
              "      <th>tags</th>\n",
              "    </tr>\n",
              "  </thead>\n",
              "  <tbody>\n",
              "    <tr>\n",
              "      <th>0</th>\n",
              "      <td>Do schools kill creativity?</td>\n",
              "      <td>Ken Robinson</td>\n",
              "      <td>47227110</td>\n",
              "      <td>25-02-06</td>\n",
              "      <td>['children', 'creativity', 'culture', 'dance',...</td>\n",
              "    </tr>\n",
              "    <tr>\n",
              "      <th>1346</th>\n",
              "      <td>Your body language may shape who you are</td>\n",
              "      <td>Amy Cuddy</td>\n",
              "      <td>43155405</td>\n",
              "      <td>26-06-12</td>\n",
              "      <td>['body language', 'brain', 'business', 'psycho...</td>\n",
              "    </tr>\n",
              "    <tr>\n",
              "      <th>677</th>\n",
              "      <td>How great leaders inspire action</td>\n",
              "      <td>Simon Sinek</td>\n",
              "      <td>34309432</td>\n",
              "      <td>17-09-09</td>\n",
              "      <td>['TEDx', 'business', 'entrepreneur', 'leadersh...</td>\n",
              "    </tr>\n",
              "    <tr>\n",
              "      <th>837</th>\n",
              "      <td>The power of vulnerability</td>\n",
              "      <td>Brené Brown</td>\n",
              "      <td>31168150</td>\n",
              "      <td>06-06-10</td>\n",
              "      <td>['TEDx', 'communication', 'culture', 'depressi...</td>\n",
              "    </tr>\n",
              "    <tr>\n",
              "      <th>452</th>\n",
              "      <td>10 things you didn't know about orgasm</td>\n",
              "      <td>Mary Roach</td>\n",
              "      <td>22270883</td>\n",
              "      <td>06-02-09</td>\n",
              "      <td>['books', 'culture', 'history', 'humor', 'scie...</td>\n",
              "    </tr>\n",
              "    <tr>\n",
              "      <th>1776</th>\n",
              "      <td>How to speak so that people want to listen</td>\n",
              "      <td>Julian Treasure</td>\n",
              "      <td>21594632</td>\n",
              "      <td>10-06-13</td>\n",
              "      <td>['culture', 'sound', 'speech']</td>\n",
              "    </tr>\n",
              "    <tr>\n",
              "      <th>201</th>\n",
              "      <td>My stroke of insight</td>\n",
              "      <td>Jill Bolte Taylor</td>\n",
              "      <td>21190883</td>\n",
              "      <td>27-02-08</td>\n",
              "      <td>['biology', 'brain', 'consciousness', 'global ...</td>\n",
              "    </tr>\n",
              "    <tr>\n",
              "      <th>5</th>\n",
              "      <td>Why we do what we do</td>\n",
              "      <td>Tony Robbins</td>\n",
              "      <td>20685401</td>\n",
              "      <td>02-02-06</td>\n",
              "      <td>['business', 'culture', 'entertainment', 'goal...</td>\n",
              "    </tr>\n",
              "    <tr>\n",
              "      <th>2114</th>\n",
              "      <td>This is what happens when you reply to spam email</td>\n",
              "      <td>James Veitch</td>\n",
              "      <td>20475972</td>\n",
              "      <td>08-12-15</td>\n",
              "      <td>['comedy', 'communication', 'curiosity', 'humo...</td>\n",
              "    </tr>\n",
              "    <tr>\n",
              "      <th>1416</th>\n",
              "      <td>Looks aren't everything. Believe me, I'm a model.</td>\n",
              "      <td>Cameron Russell</td>\n",
              "      <td>19787465</td>\n",
              "      <td>27-10-12</td>\n",
              "      <td>['TEDx', 'beauty', 'culture', 'fashion', 'phot...</td>\n",
              "    </tr>\n",
              "    <tr>\n",
              "      <th>500</th>\n",
              "      <td>The puzzle of motivation</td>\n",
              "      <td>Dan Pink</td>\n",
              "      <td>18830983</td>\n",
              "      <td>24-07-09</td>\n",
              "      <td>['brain', 'business', 'creativity', 'motivatio...</td>\n",
              "    </tr>\n",
              "    <tr>\n",
              "      <th>1163</th>\n",
              "      <td>The power of introverts</td>\n",
              "      <td>Susan Cain</td>\n",
              "      <td>17629275</td>\n",
              "      <td>28-02-12</td>\n",
              "      <td>['business', 'culture', 'introvert', 'psycholo...</td>\n",
              "    </tr>\n",
              "    <tr>\n",
              "      <th>1036</th>\n",
              "      <td>How to spot a liar</td>\n",
              "      <td>Pamela Meyer</td>\n",
              "      <td>16861578</td>\n",
              "      <td>13-07-11</td>\n",
              "      <td>['culture', 'psychology', 'science', 'society']</td>\n",
              "    </tr>\n",
              "    <tr>\n",
              "      <th>2109</th>\n",
              "      <td>What makes a good life? Lessons from the longe...</td>\n",
              "      <td>Robert Waldinger</td>\n",
              "      <td>16601927</td>\n",
              "      <td>14-11-15</td>\n",
              "      <td>['TEDx', 'aging', 'data', 'friendship', 'happi...</td>\n",
              "    </tr>\n",
              "    <tr>\n",
              "      <th>1129</th>\n",
              "      <td>The happy secret to better work</td>\n",
              "      <td>Shawn Achor</td>\n",
              "      <td>16209727</td>\n",
              "      <td>11-05-11</td>\n",
              "      <td>['TEDx', 'brain', 'business', 'cognitive scien...</td>\n",
              "    </tr>\n",
              "    <tr>\n",
              "      <th>553</th>\n",
              "      <td>The thrilling potential of SixthSense technology</td>\n",
              "      <td>Pranav Mistry</td>\n",
              "      <td>16097077</td>\n",
              "      <td>05-11-09</td>\n",
              "      <td>['demo', 'design', 'open-source', 'technology']</td>\n",
              "    </tr>\n",
              "    <tr>\n",
              "      <th>596</th>\n",
              "      <td>How I held my breath for 17 minutes</td>\n",
              "      <td>David Blaine</td>\n",
              "      <td>15601385</td>\n",
              "      <td>27-10-09</td>\n",
              "      <td>['biology', 'magic', 'medicine', 'performance']</td>\n",
              "    </tr>\n",
              "    <tr>\n",
              "      <th>1579</th>\n",
              "      <td>The art of misdirection</td>\n",
              "      <td>Apollo Robbins</td>\n",
              "      <td>15283242</td>\n",
              "      <td>12-06-13</td>\n",
              "      <td>['crime', 'entertainment']</td>\n",
              "    </tr>\n",
              "    <tr>\n",
              "      <th>2161</th>\n",
              "      <td>Inside the mind of a master procrastinator</td>\n",
              "      <td>Tim Urban</td>\n",
              "      <td>14745406</td>\n",
              "      <td>16-02-16</td>\n",
              "      <td>['Internet', 'brain', 'choice', 'comedy', 'dec...</td>\n",
              "    </tr>\n",
              "    <tr>\n",
              "      <th>29</th>\n",
              "      <td>The surprising science of happiness</td>\n",
              "      <td>Dan Gilbert</td>\n",
              "      <td>14689301</td>\n",
              "      <td>02-02-04</td>\n",
              "      <td>['TED Brain Trust', 'brain', 'choice', 'cultur...</td>\n",
              "    </tr>\n",
              "    <tr>\n",
              "      <th>1572</th>\n",
              "      <td>How to make stress your friend</td>\n",
              "      <td>Kelly McGonigal</td>\n",
              "      <td>14566463</td>\n",
              "      <td>11-06-13</td>\n",
              "      <td>['body language', 'health', 'psychology']</td>\n",
              "    </tr>\n",
              "    <tr>\n",
              "      <th>176</th>\n",
              "      <td>Underwater astonishments</td>\n",
              "      <td>David Gallo</td>\n",
              "      <td>13926113</td>\n",
              "      <td>03-03-07</td>\n",
              "      <td>['animals', 'evolution', 'exploration', 'fish'...</td>\n",
              "    </tr>\n",
              "    <tr>\n",
              "      <th>262</th>\n",
              "      <td>Brain magic</td>\n",
              "      <td>Keith Barry</td>\n",
              "      <td>13327101</td>\n",
              "      <td>02-02-04</td>\n",
              "      <td>['brain', 'entertainment', 'illusion', 'magic']</td>\n",
              "    </tr>\n",
              "    <tr>\n",
              "      <th>530</th>\n",
              "      <td>The danger of a single story</td>\n",
              "      <td>Chimamanda Ngozi Adichie</td>\n",
              "      <td>13298341</td>\n",
              "      <td>23-07-09</td>\n",
              "      <td>['Africa', 'books', 'culture', 'identity', 'st...</td>\n",
              "    </tr>\n",
              "    <tr>\n",
              "      <th>381</th>\n",
              "      <td>Your elusive creative genius</td>\n",
              "      <td>Elizabeth Gilbert</td>\n",
              "      <td>13155478</td>\n",
              "      <td>05-02-09</td>\n",
              "      <td>['creativity', 'culture', 'entertainment', 'pe...</td>\n",
              "    </tr>\n",
              "    <tr>\n",
              "      <th>1501</th>\n",
              "      <td>Grit: The power of passion and perseverance</td>\n",
              "      <td>Angela Lee Duckworth</td>\n",
              "      <td>12039978</td>\n",
              "      <td>04-04-13</td>\n",
              "      <td>['business', 'education', 'psychology', 'succe...</td>\n",
              "    </tr>\n",
              "    <tr>\n",
              "      <th>4</th>\n",
              "      <td>The best stats you've ever seen</td>\n",
              "      <td>Hans Rosling</td>\n",
              "      <td>12005869</td>\n",
              "      <td>22-02-06</td>\n",
              "      <td>['Africa', 'Asia', 'Google', 'demo', 'economic...</td>\n",
              "    </tr>\n",
              "    <tr>\n",
              "      <th>1940</th>\n",
              "      <td>The price of shame</td>\n",
              "      <td>Monica Lewinsky</td>\n",
              "      <td>11443190</td>\n",
              "      <td>19-03-15</td>\n",
              "      <td>['communication', 'media', 'social media', 'su...</td>\n",
              "    </tr>\n",
              "    <tr>\n",
              "      <th>47</th>\n",
              "      <td>8 secrets of success</td>\n",
              "      <td>Richard St. John</td>\n",
              "      <td>10841210</td>\n",
              "      <td>23-02-05</td>\n",
              "      <td>['business', 'culture', 'entertainment', 'happ...</td>\n",
              "    </tr>\n",
              "    <tr>\n",
              "      <th>892</th>\n",
              "      <td>If I should have a daughter ...</td>\n",
              "      <td>Sarah Kay</td>\n",
              "      <td>10529854</td>\n",
              "      <td>03-03-11</td>\n",
              "      <td>['entertainment', 'performance', 'poetry', 'st...</td>\n",
              "    </tr>\n",
              "  </tbody>\n",
              "</table>\n",
              "</div>"
            ],
            "text/plain": [
              "                                                  title  ...                                               tags\n",
              "0                           Do schools kill creativity?  ...  ['children', 'creativity', 'culture', 'dance',...\n",
              "1346           Your body language may shape who you are  ...  ['body language', 'brain', 'business', 'psycho...\n",
              "677                    How great leaders inspire action  ...  ['TEDx', 'business', 'entrepreneur', 'leadersh...\n",
              "837                          The power of vulnerability  ...  ['TEDx', 'communication', 'culture', 'depressi...\n",
              "452              10 things you didn't know about orgasm  ...  ['books', 'culture', 'history', 'humor', 'scie...\n",
              "1776         How to speak so that people want to listen  ...                     ['culture', 'sound', 'speech']\n",
              "201                                My stroke of insight  ...  ['biology', 'brain', 'consciousness', 'global ...\n",
              "5                                  Why we do what we do  ...  ['business', 'culture', 'entertainment', 'goal...\n",
              "2114  This is what happens when you reply to spam email  ...  ['comedy', 'communication', 'curiosity', 'humo...\n",
              "1416  Looks aren't everything. Believe me, I'm a model.  ...  ['TEDx', 'beauty', 'culture', 'fashion', 'phot...\n",
              "500                            The puzzle of motivation  ...  ['brain', 'business', 'creativity', 'motivatio...\n",
              "1163                            The power of introverts  ...  ['business', 'culture', 'introvert', 'psycholo...\n",
              "1036                                 How to spot a liar  ...    ['culture', 'psychology', 'science', 'society']\n",
              "2109  What makes a good life? Lessons from the longe...  ...  ['TEDx', 'aging', 'data', 'friendship', 'happi...\n",
              "1129                    The happy secret to better work  ...  ['TEDx', 'brain', 'business', 'cognitive scien...\n",
              "553    The thrilling potential of SixthSense technology  ...    ['demo', 'design', 'open-source', 'technology']\n",
              "596                 How I held my breath for 17 minutes  ...    ['biology', 'magic', 'medicine', 'performance']\n",
              "1579                            The art of misdirection  ...                         ['crime', 'entertainment']\n",
              "2161         Inside the mind of a master procrastinator  ...  ['Internet', 'brain', 'choice', 'comedy', 'dec...\n",
              "29                  The surprising science of happiness  ...  ['TED Brain Trust', 'brain', 'choice', 'cultur...\n",
              "1572                     How to make stress your friend  ...          ['body language', 'health', 'psychology']\n",
              "176                            Underwater astonishments  ...  ['animals', 'evolution', 'exploration', 'fish'...\n",
              "262                                         Brain magic  ...    ['brain', 'entertainment', 'illusion', 'magic']\n",
              "530                        The danger of a single story  ...  ['Africa', 'books', 'culture', 'identity', 'st...\n",
              "381                        Your elusive creative genius  ...  ['creativity', 'culture', 'entertainment', 'pe...\n",
              "1501        Grit: The power of passion and perseverance  ...  ['business', 'education', 'psychology', 'succe...\n",
              "4                       The best stats you've ever seen  ...  ['Africa', 'Asia', 'Google', 'demo', 'economic...\n",
              "1940                                 The price of shame  ...  ['communication', 'media', 'social media', 'su...\n",
              "47                                 8 secrets of success  ...  ['business', 'culture', 'entertainment', 'happ...\n",
              "892                     If I should have a daughter ...  ...  ['entertainment', 'performance', 'poetry', 'st...\n",
              "\n",
              "[30 rows x 5 columns]"
            ]
          },
          "metadata": {
            "tags": []
          },
          "execution_count": 13
        }
      ]
    },
    {
      "cell_type": "code",
      "metadata": {
        "id": "30AFpr6sL-iE",
        "colab_type": "code",
        "colab": {
          "base_uri": "https://localhost:8080/",
          "height": 942
        },
        "outputId": "689805bc-6b28-4d07-d52e-f915e698d4cf"
      },
      "source": [
        "unpop_talks = ted_data[['title', 'main_speaker', 'views', 'film_date', 'tags']].sort_values('views', ascending=True)[:30]\n",
        "unpop_talks"
      ],
      "execution_count": null,
      "outputs": [
        {
          "output_type": "execute_result",
          "data": {
            "text/html": [
              "<div>\n",
              "<style scoped>\n",
              "    .dataframe tbody tr th:only-of-type {\n",
              "        vertical-align: middle;\n",
              "    }\n",
              "\n",
              "    .dataframe tbody tr th {\n",
              "        vertical-align: top;\n",
              "    }\n",
              "\n",
              "    .dataframe thead th {\n",
              "        text-align: right;\n",
              "    }\n",
              "</style>\n",
              "<table border=\"1\" class=\"dataframe\">\n",
              "  <thead>\n",
              "    <tr style=\"text-align: right;\">\n",
              "      <th></th>\n",
              "      <th>title</th>\n",
              "      <th>main_speaker</th>\n",
              "      <th>views</th>\n",
              "      <th>film_date</th>\n",
              "      <th>tags</th>\n",
              "    </tr>\n",
              "  </thead>\n",
              "  <tbody>\n",
              "    <tr>\n",
              "      <th>594</th>\n",
              "      <td>Stories of Haiti</td>\n",
              "      <td>Edwidge Danticat</td>\n",
              "      <td>50443</td>\n",
              "      <td>13-10-04</td>\n",
              "      <td>['books', 'disaster relief', 'novel', 'poetry'...</td>\n",
              "    </tr>\n",
              "    <tr>\n",
              "      <th>1112</th>\n",
              "      <td>The debut of the British Paraorchestra</td>\n",
              "      <td>Charles Hazlewood + British Paraorchestra</td>\n",
              "      <td>66668</td>\n",
              "      <td>22-11-11</td>\n",
              "      <td>['TEDx', 'disability', 'entertainment', 'globa...</td>\n",
              "    </tr>\n",
              "    <tr>\n",
              "      <th>237</th>\n",
              "      <td>\"Kounandi\"</td>\n",
              "      <td>Rokia Traore</td>\n",
              "      <td>82488</td>\n",
              "      <td>06-06-07</td>\n",
              "      <td>['Africa', 'guitar', 'live music', 'music', 's...</td>\n",
              "    </tr>\n",
              "    <tr>\n",
              "      <th>776</th>\n",
              "      <td>The early birdwatchers</td>\n",
              "      <td>Tim Birkhead</td>\n",
              "      <td>112321</td>\n",
              "      <td>18-09-09</td>\n",
              "      <td>['biology', 'birds', 'evolution', 'life']</td>\n",
              "    </tr>\n",
              "    <tr>\n",
              "      <th>1133</th>\n",
              "      <td>Let's bridge the digital divide!</td>\n",
              "      <td>Aleph Molinari</td>\n",
              "      <td>115346</td>\n",
              "      <td>06-08-11</td>\n",
              "      <td>['TEDx', 'global issues', 'poverty', 'technolo...</td>\n",
              "    </tr>\n",
              "    <tr>\n",
              "      <th>1229</th>\n",
              "      <td>Beethoven the businessman</td>\n",
              "      <td>José Bowen</td>\n",
              "      <td>117756</td>\n",
              "      <td>03-12-11</td>\n",
              "      <td>['TEDx', 'business', 'history', 'music']</td>\n",
              "    </tr>\n",
              "    <tr>\n",
              "      <th>1141</th>\n",
              "      <td>Deaf in the military</td>\n",
              "      <td>Keith Nolan</td>\n",
              "      <td>120274</td>\n",
              "      <td>23-04-11</td>\n",
              "      <td>['TEDx', 'disability', 'global issues', 'milit...</td>\n",
              "    </tr>\n",
              "    <tr>\n",
              "      <th>1079</th>\n",
              "      <td>Don't misrepresent Africa</td>\n",
              "      <td>Leslie Dodson</td>\n",
              "      <td>121186</td>\n",
              "      <td>24-09-11</td>\n",
              "      <td>['Africa', 'TEDx', 'journalism', 'media', 'pov...</td>\n",
              "    </tr>\n",
              "    <tr>\n",
              "      <th>1104</th>\n",
              "      <td>Change our culture, change our world</td>\n",
              "      <td>Nate Garvis</td>\n",
              "      <td>125050</td>\n",
              "      <td>13-10-10</td>\n",
              "      <td>['TEDx', 'culture', 'politics']</td>\n",
              "    </tr>\n",
              "    <tr>\n",
              "      <th>1178</th>\n",
              "      <td>Beautiful artificial limbs</td>\n",
              "      <td>Scott Summit</td>\n",
              "      <td>132199</td>\n",
              "      <td>19-11-11</td>\n",
              "      <td>['TEDx', 'beauty', 'design', 'industrial desig...</td>\n",
              "    </tr>\n",
              "    <tr>\n",
              "      <th>1061</th>\n",
              "      <td>Open science now!</td>\n",
              "      <td>Michael Nielsen</td>\n",
              "      <td>138812</td>\n",
              "      <td>03-03-11</td>\n",
              "      <td>['Internet', 'TEDx', 'collaboration', 'crowdso...</td>\n",
              "    </tr>\n",
              "    <tr>\n",
              "      <th>1179</th>\n",
              "      <td>Victims of the city</td>\n",
              "      <td>Mark Raymond</td>\n",
              "      <td>142164</td>\n",
              "      <td>11-11-11</td>\n",
              "      <td>['TEDx', 'architecture', 'cities', 'design', '...</td>\n",
              "    </tr>\n",
              "    <tr>\n",
              "      <th>1301</th>\n",
              "      <td>When a reporter becomes the story</td>\n",
              "      <td>Giles Duley</td>\n",
              "      <td>144044</td>\n",
              "      <td>10-03-12</td>\n",
              "      <td>['TEDx', 'culture', 'disability', 'journalism'...</td>\n",
              "    </tr>\n",
              "    <tr>\n",
              "      <th>1053</th>\n",
              "      <td>How mobile phones helped solve two murders</td>\n",
              "      <td>Paul Lewis</td>\n",
              "      <td>148971</td>\n",
              "      <td>02-04-11</td>\n",
              "      <td>['TEDx', 'cities', 'collaboration', 'culture',...</td>\n",
              "    </tr>\n",
              "    <tr>\n",
              "      <th>590</th>\n",
              "      <td>What Bernie Madoff couldn't steal from me</td>\n",
              "      <td>Matt Weinstein</td>\n",
              "      <td>149818</td>\n",
              "      <td>14-03-09</td>\n",
              "      <td>['business', 'life', 'money', 'presentation']</td>\n",
              "    </tr>\n",
              "    <tr>\n",
              "      <th>581</th>\n",
              "      <td>Engineering a better life for all</td>\n",
              "      <td>Cat Laine</td>\n",
              "      <td>154698</td>\n",
              "      <td>07-10-09</td>\n",
              "      <td>['business', 'creativity', 'engineering', 'glo...</td>\n",
              "    </tr>\n",
              "    <tr>\n",
              "      <th>1119</th>\n",
              "      <td>Plant fuels that could power a jet</td>\n",
              "      <td>Bilal Bomani</td>\n",
              "      <td>155895</td>\n",
              "      <td>17-08-11</td>\n",
              "      <td>['Natural resources', 'TEDx', 'alternative ene...</td>\n",
              "    </tr>\n",
              "    <tr>\n",
              "      <th>1105</th>\n",
              "      <td>Can astronomers help doctors?</td>\n",
              "      <td>Michelle Borkin</td>\n",
              "      <td>161462</td>\n",
              "      <td>28-06-11</td>\n",
              "      <td>['TEDx', 'astronomy', 'collaboration', 'medica...</td>\n",
              "    </tr>\n",
              "    <tr>\n",
              "      <th>1237</th>\n",
              "      <td>The sea we've hardly seen</td>\n",
              "      <td>Melissa Garren</td>\n",
              "      <td>166835</td>\n",
              "      <td>18-04-12</td>\n",
              "      <td>['TEDx', 'bacteria', 'biodiversity', 'biology'...</td>\n",
              "    </tr>\n",
              "    <tr>\n",
              "      <th>1223</th>\n",
              "      <td>From stigma to supermodel</td>\n",
              "      <td>Rick Guidotti</td>\n",
              "      <td>166959</td>\n",
              "      <td>11-11-11</td>\n",
              "      <td>['TEDx', 'beauty', 'fashion', 'global issues',...</td>\n",
              "    </tr>\n",
              "    <tr>\n",
              "      <th>1250</th>\n",
              "      <td>A new way to stop identity theft</td>\n",
              "      <td>David Birch</td>\n",
              "      <td>174326</td>\n",
              "      <td>27-04-12</td>\n",
              "      <td>['TEDx', 'security', 'self', 'technology']</td>\n",
              "    </tr>\n",
              "    <tr>\n",
              "      <th>1149</th>\n",
              "      <td>Look up for a change</td>\n",
              "      <td>Lucianne Walkowicz</td>\n",
              "      <td>175395</td>\n",
              "      <td>11-11-11</td>\n",
              "      <td>['NASA', 'Planets', 'TED Fellows', 'TEDx', 'ac...</td>\n",
              "    </tr>\n",
              "    <tr>\n",
              "      <th>323</th>\n",
              "      <td>The balancing act of compassion</td>\n",
              "      <td>Jackie Tabick</td>\n",
              "      <td>176245</td>\n",
              "      <td>01-10-09</td>\n",
              "      <td>['charter for compassion', 'compassion', 'glob...</td>\n",
              "    </tr>\n",
              "    <tr>\n",
              "      <th>649</th>\n",
              "      <td>Why I do theater</td>\n",
              "      <td>Patsy Rodenburg</td>\n",
              "      <td>176995</td>\n",
              "      <td>09-10-08</td>\n",
              "      <td>['humanity', 'psychology', 'theater']</td>\n",
              "    </tr>\n",
              "    <tr>\n",
              "      <th>1192</th>\n",
              "      <td>I am a pirate</td>\n",
              "      <td>Rick Falkvinge</td>\n",
              "      <td>181010</td>\n",
              "      <td>11-03-12</td>\n",
              "      <td>['Internet', 'TEDx', 'global issues', 'politic...</td>\n",
              "    </tr>\n",
              "    <tr>\n",
              "      <th>2507</th>\n",
              "      <td>A dance to honor Mother Earth</td>\n",
              "      <td>Jon Boogz and Lil Buck</td>\n",
              "      <td>182975</td>\n",
              "      <td>24-04-17</td>\n",
              "      <td>['art', 'creativity', 'dance', 'performance', ...</td>\n",
              "    </tr>\n",
              "    <tr>\n",
              "      <th>292</th>\n",
              "      <td>The camel's hump</td>\n",
              "      <td>Keith Bellows</td>\n",
              "      <td>185275</td>\n",
              "      <td>02-02-02</td>\n",
              "      <td>['animals', 'energy', 'entertainment', 'global...</td>\n",
              "    </tr>\n",
              "    <tr>\n",
              "      <th>1198</th>\n",
              "      <td>\"Put the financial aid in the bag\"</td>\n",
              "      <td>Carvens Lissaint</td>\n",
              "      <td>186308</td>\n",
              "      <td>11-11-11</td>\n",
              "      <td>['TED-Ed', 'TEDYouth', 'culture', 'entertainme...</td>\n",
              "    </tr>\n",
              "    <tr>\n",
              "      <th>1093</th>\n",
              "      <td>My subversive (garden) plot</td>\n",
              "      <td>Roger Doiron</td>\n",
              "      <td>191555</td>\n",
              "      <td>10-09-11</td>\n",
              "      <td>['TEDx', 'culture', 'food', 'garden', 'global ...</td>\n",
              "    </tr>\n",
              "    <tr>\n",
              "      <th>1486</th>\n",
              "      <td>How much does a video weigh?</td>\n",
              "      <td>Michael Stevens</td>\n",
              "      <td>195899</td>\n",
              "      <td>28-02-13</td>\n",
              "      <td>['Internet', 'TED-Ed', 'computers', 'humor', '...</td>\n",
              "    </tr>\n",
              "  </tbody>\n",
              "</table>\n",
              "</div>"
            ],
            "text/plain": [
              "                                           title  ...                                               tags\n",
              "594                             Stories of Haiti  ...  ['books', 'disaster relief', 'novel', 'poetry'...\n",
              "1112      The debut of the British Paraorchestra  ...  ['TEDx', 'disability', 'entertainment', 'globa...\n",
              "237                                   \"Kounandi\"  ...  ['Africa', 'guitar', 'live music', 'music', 's...\n",
              "776                       The early birdwatchers  ...          ['biology', 'birds', 'evolution', 'life']\n",
              "1133            Let's bridge the digital divide!  ...  ['TEDx', 'global issues', 'poverty', 'technolo...\n",
              "1229                   Beethoven the businessman  ...           ['TEDx', 'business', 'history', 'music']\n",
              "1141                        Deaf in the military  ...  ['TEDx', 'disability', 'global issues', 'milit...\n",
              "1079                   Don't misrepresent Africa  ...  ['Africa', 'TEDx', 'journalism', 'media', 'pov...\n",
              "1104        Change our culture, change our world  ...                    ['TEDx', 'culture', 'politics']\n",
              "1178                  Beautiful artificial limbs  ...  ['TEDx', 'beauty', 'design', 'industrial desig...\n",
              "1061                           Open science now!  ...  ['Internet', 'TEDx', 'collaboration', 'crowdso...\n",
              "1179                         Victims of the city  ...  ['TEDx', 'architecture', 'cities', 'design', '...\n",
              "1301           When a reporter becomes the story  ...  ['TEDx', 'culture', 'disability', 'journalism'...\n",
              "1053  How mobile phones helped solve two murders  ...  ['TEDx', 'cities', 'collaboration', 'culture',...\n",
              "590    What Bernie Madoff couldn't steal from me  ...      ['business', 'life', 'money', 'presentation']\n",
              "581            Engineering a better life for all  ...  ['business', 'creativity', 'engineering', 'glo...\n",
              "1119          Plant fuels that could power a jet  ...  ['Natural resources', 'TEDx', 'alternative ene...\n",
              "1105               Can astronomers help doctors?  ...  ['TEDx', 'astronomy', 'collaboration', 'medica...\n",
              "1237                   The sea we've hardly seen  ...  ['TEDx', 'bacteria', 'biodiversity', 'biology'...\n",
              "1223                   From stigma to supermodel  ...  ['TEDx', 'beauty', 'fashion', 'global issues',...\n",
              "1250            A new way to stop identity theft  ...         ['TEDx', 'security', 'self', 'technology']\n",
              "1149                        Look up for a change  ...  ['NASA', 'Planets', 'TED Fellows', 'TEDx', 'ac...\n",
              "323              The balancing act of compassion  ...  ['charter for compassion', 'compassion', 'glob...\n",
              "649                             Why I do theater  ...              ['humanity', 'psychology', 'theater']\n",
              "1192                               I am a pirate  ...  ['Internet', 'TEDx', 'global issues', 'politic...\n",
              "2507               A dance to honor Mother Earth  ...  ['art', 'creativity', 'dance', 'performance', ...\n",
              "292                             The camel's hump  ...  ['animals', 'energy', 'entertainment', 'global...\n",
              "1198          \"Put the financial aid in the bag\"  ...  ['TED-Ed', 'TEDYouth', 'culture', 'entertainme...\n",
              "1093                 My subversive (garden) plot  ...  ['TEDx', 'culture', 'food', 'garden', 'global ...\n",
              "1486                How much does a video weigh?  ...  ['Internet', 'TED-Ed', 'computers', 'humor', '...\n",
              "\n",
              "[30 rows x 5 columns]"
            ]
          },
          "metadata": {
            "tags": []
          },
          "execution_count": 14
        }
      ]
    },
    {
      "cell_type": "markdown",
      "metadata": {
        "id": "Lt_o_QPwMe7S",
        "colab_type": "text"
      },
      "source": [
        "Ken Robinson's talk on Do Schools Kill Creativity? is the most popular TED Talk of all time with about 47.2 million views."
      ]
    },
    {
      "cell_type": "markdown",
      "metadata": {
        "id": "Wo9nBeG6M5GD",
        "colab_type": "text"
      },
      "source": [
        "# Let's use Seaborn to draw a barchart\n"
      ]
    },
    {
      "cell_type": "code",
      "metadata": {
        "id": "Icrwm_TpMVyL",
        "colab_type": "code",
        "colab": {
          "base_uri": "https://localhost:8080/",
          "height": 416
        },
        "outputId": "9ce57d98-53af-466f-baf8-a6166c5cc119"
      },
      "source": [
        "# Take abbreviation version of main speaker\n",
        "pop_talks['abbr'] = pop_talks['main_speaker'].apply(lambda x : x[:3])\n",
        "sns.set_style('whitegrid')\n",
        "plt.figure(figsize=(10,6))\n",
        "sns.barplot(x = 'abbr', y = 'views', data = pop_talks)"
      ],
      "execution_count": null,
      "outputs": [
        {
          "output_type": "execute_result",
          "data": {
            "text/plain": [
              "<matplotlib.axes._subplots.AxesSubplot at 0x7f56e8d34d30>"
            ]
          },
          "metadata": {
            "tags": []
          },
          "execution_count": 15
        },
        {
          "output_type": "display_data",
          "data": {
            "image/png": "[encoded data removed]",
            "text/plain": [
              "<Figure size 720x432 with 1 Axes>"
            ]
          },
          "metadata": {
            "tags": []
          }
        }
      ]
    },
    {
      "cell_type": "markdown",
      "metadata": {
        "id": "Z3KneXj4TEdd",
        "colab_type": "text"
      },
      "source": [
        "Review the distribution of views in ted talks"
      ]
    },
    {
      "cell_type": "code",
      "metadata": {
        "id": "AplosJ8aQcLu",
        "colab_type": "code",
        "colab": {
          "base_uri": "https://localhost:8080/",
          "height": 307
        },
        "outputId": "4b3d3d96-177e-478f-e88b-9cdd22e2710e"
      },
      "source": [
        "#Review the distribution of views in ted talks\n",
        "sns.distplot(ted_data[ted_data['views'] < 4000000]['views'])\n"
      ],
      "execution_count": null,
      "outputs": [
        {
          "output_type": "execute_result",
          "data": {
            "text/plain": [
              "<matplotlib.axes._subplots.AxesSubplot at 0x7f56e87dd320>"
            ]
          },
          "metadata": {
            "tags": []
          },
          "execution_count": 17
        },
        {
          "output_type": "display_data",
          "data": {
            "image/png": "[encoded data removed]",
            "text/plain": [
              "<Figure size 432x288 with 1 Axes>"
            ]
          },
          "metadata": {
            "tags": []
          }
        }
      ]
    },
    {
      "cell_type": "code",
      "metadata": {
        "id": "mJNMG9_AVcZD",
        "colab_type": "code",
        "colab": {
          "base_uri": "https://localhost:8080/",
          "height": 167
        },
        "outputId": "51612243-2379-491a-87af-c30127591f10"
      },
      "source": [
        "ted_data['views'].describe()"
      ],
      "execution_count": null,
      "outputs": [
        {
          "output_type": "execute_result",
          "data": {
            "text/plain": [
              "count    2.550000e+03\n",
              "mean     1.698297e+06\n",
              "std      2.498479e+06\n",
              "min      5.044300e+04\n",
              "25%      7.557928e+05\n",
              "50%      1.124524e+06\n",
              "75%      1.700760e+06\n",
              "max      4.722711e+07\n",
              "Name: views, dtype: float64"
            ]
          },
          "metadata": {
            "tags": []
          },
          "execution_count": 18
        }
      ]
    },
    {
      "cell_type": "markdown",
      "metadata": {
        "id": "N1M1yA5tVs-X",
        "colab_type": "text"
      },
      "source": [
        "We can see that the average number of views on Ted Talks is about 1.6 million"
      ]
    },
    {
      "cell_type": "markdown",
      "metadata": {
        "id": "1Ybg-FCQV6S8",
        "colab_type": "text"
      },
      "source": [
        "# Comments analytics"
      ]
    },
    {
      "cell_type": "code",
      "metadata": {
        "id": "2GXKZpq0V20u",
        "colab_type": "code",
        "colab": {}
      },
      "source": [
        "ted_data['comments'].describe()"
      ],
      "execution_count": null,
      "outputs": []
    },
    {
      "cell_type": "markdown",
      "metadata": {
        "id": "gr7b15meXkWI",
        "colab_type": "text"
      },
      "source": [
        "A video in ted talk has about 192 comments\n"
      ]
    },
    {
      "cell_type": "code",
      "metadata": {
        "id": "klDuzrsJXu3i",
        "colab_type": "code",
        "colab": {}
      },
      "source": [
        "# distribution of comments\n",
        "sns.distplot(ted_data[ted_data['comments'] < 500]['comments'])"
      ],
      "execution_count": null,
      "outputs": []
    },
    {
      "cell_type": "code",
      "metadata": {
        "id": "uo7L6FxqY7_7",
        "colab_type": "code",
        "colab": {}
      },
      "source": [
        "# Correlation between views and comments\n",
        "ted_data[['views', 'comments']].corr()"
      ],
      "execution_count": null,
      "outputs": []
    },
    {
      "cell_type": "markdown",
      "metadata": {
        "id": "2A4EYbSyaiIV",
        "colab_type": "text"
      },
      "source": [
        "We can see that the correlation between views and comments is greater than 0, so most viewed ted talks generally have greater number of comments."
      ]
    },
    {
      "cell_type": "code",
      "metadata": {
        "id": "mSOyagYDZXSY",
        "colab_type": "code",
        "colab": {}
      },
      "source": [
        "#  Plot between views and comments\n",
        "sns.jointplot(x = 'views', y = 'comments', data = ted_data)"
      ],
      "execution_count": null,
      "outputs": []
    },
    {
      "cell_type": "markdown",
      "metadata": {
        "id": "eS45Mh4LcG_R",
        "colab_type": "text"
      },
      "source": [
        "Top 10 Ted Talks having the greatest number of comments"
      ]
    },
    {
      "cell_type": "code",
      "metadata": {
        "id": "hpHktBfvazb1",
        "colab_type": "code",
        "colab": {
          "base_uri": "https://localhost:8080/",
          "height": 0
        },
        "outputId": "ce0d72ca-53be-4f02-fe28-b8637e5f2857"
      },
      "source": [
        "ted_data[['title', 'main_speaker', 'views', 'comments']].sort_values('comments', ascending=False).head(10)"
      ],
      "execution_count": 13,
      "outputs": [
        {
          "output_type": "execute_result",
          "data": {
            "text/html": [
              "<div>\n",
              "<style scoped>\n",
              "    .dataframe tbody tr th:only-of-type {\n",
              "        vertical-align: middle;\n",
              "    }\n",
              "\n",
              "    .dataframe tbody tr th {\n",
              "        vertical-align: top;\n",
              "    }\n",
              "\n",
              "    .dataframe thead th {\n",
              "        text-align: right;\n",
              "    }\n",
              "</style>\n",
              "<table border=\"1\" class=\"dataframe\">\n",
              "  <thead>\n",
              "    <tr style=\"text-align: right;\">\n",
              "      <th></th>\n",
              "      <th>title</th>\n",
              "      <th>main_speaker</th>\n",
              "      <th>views</th>\n",
              "      <th>comments</th>\n",
              "    </tr>\n",
              "  </thead>\n",
              "  <tbody>\n",
              "    <tr>\n",
              "      <th>96</th>\n",
              "      <td>Militant atheism</td>\n",
              "      <td>Richard Dawkins</td>\n",
              "      <td>4374792</td>\n",
              "      <td>6404</td>\n",
              "    </tr>\n",
              "    <tr>\n",
              "      <th>0</th>\n",
              "      <td>Do schools kill creativity?</td>\n",
              "      <td>Ken Robinson</td>\n",
              "      <td>47227110</td>\n",
              "      <td>4553</td>\n",
              "    </tr>\n",
              "    <tr>\n",
              "      <th>644</th>\n",
              "      <td>Science can answer moral questions</td>\n",
              "      <td>Sam Harris</td>\n",
              "      <td>3433437</td>\n",
              "      <td>3356</td>\n",
              "    </tr>\n",
              "    <tr>\n",
              "      <th>201</th>\n",
              "      <td>My stroke of insight</td>\n",
              "      <td>Jill Bolte Taylor</td>\n",
              "      <td>21190883</td>\n",
              "      <td>2877</td>\n",
              "    </tr>\n",
              "    <tr>\n",
              "      <th>1787</th>\n",
              "      <td>How do you explain consciousness?</td>\n",
              "      <td>David Chalmers</td>\n",
              "      <td>2162764</td>\n",
              "      <td>2673</td>\n",
              "    </tr>\n",
              "    <tr>\n",
              "      <th>954</th>\n",
              "      <td>Taking imagination seriously</td>\n",
              "      <td>Janet Echelman</td>\n",
              "      <td>1832930</td>\n",
              "      <td>2492</td>\n",
              "    </tr>\n",
              "    <tr>\n",
              "      <th>840</th>\n",
              "      <td>On reading the Koran</td>\n",
              "      <td>Lesley Hazleton</td>\n",
              "      <td>1847256</td>\n",
              "      <td>2374</td>\n",
              "    </tr>\n",
              "    <tr>\n",
              "      <th>1346</th>\n",
              "      <td>Your body language may shape who you are</td>\n",
              "      <td>Amy Cuddy</td>\n",
              "      <td>43155405</td>\n",
              "      <td>2290</td>\n",
              "    </tr>\n",
              "    <tr>\n",
              "      <th>661</th>\n",
              "      <td>The danger of science denial</td>\n",
              "      <td>Michael Specter</td>\n",
              "      <td>1838628</td>\n",
              "      <td>2272</td>\n",
              "    </tr>\n",
              "    <tr>\n",
              "      <th>677</th>\n",
              "      <td>How great leaders inspire action</td>\n",
              "      <td>Simon Sinek</td>\n",
              "      <td>34309432</td>\n",
              "      <td>1930</td>\n",
              "    </tr>\n",
              "  </tbody>\n",
              "</table>\n",
              "</div>"
            ],
            "text/plain": [
              "                                         title  ... comments\n",
              "96                            Militant atheism  ...     6404\n",
              "0                  Do schools kill creativity?  ...     4553\n",
              "644         Science can answer moral questions  ...     3356\n",
              "201                       My stroke of insight  ...     2877\n",
              "1787         How do you explain consciousness?  ...     2673\n",
              "954               Taking imagination seriously  ...     2492\n",
              "840                       On reading the Koran  ...     2374\n",
              "1346  Your body language may shape who you are  ...     2290\n",
              "661               The danger of science denial  ...     2272\n",
              "677           How great leaders inspire action  ...     1930\n",
              "\n",
              "[10 rows x 4 columns]"
            ]
          },
          "metadata": {
            "tags": []
          },
          "execution_count": 13
        }
      ]
    },
    {
      "cell_type": "markdown",
      "metadata": {
        "id": "l1duQF-9dHzR",
        "colab_type": "text"
      },
      "source": [
        "# Let's find out which talks tend to attract the largest amount of discussion"
      ]
    },
    {
      "cell_type": "code",
      "metadata": {
        "id": "n-cRjkvKdSsU",
        "colab_type": "code",
        "colab": {}
      },
      "source": [
        "ted_data['dis_quo'] = ted_data['comments']/ted_data['views']"
      ],
      "execution_count": 14,
      "outputs": []
    },
    {
      "cell_type": "markdown",
      "metadata": {
        "id": "TSxqtFdqdw4P",
        "colab_type": "text"
      },
      "source": [
        "Top 10 discussion quotient"
      ]
    },
    {
      "cell_type": "code",
      "metadata": {
        "id": "lhnpVt60d39O",
        "colab_type": "code",
        "colab": {
          "base_uri": "https://localhost:8080/",
          "height": 0
        },
        "outputId": "4b7ee086-f0e8-4262-8fe1-3dd7894a53b9"
      },
      "source": [
        "ted_data[['title', 'main_speaker', 'views', 'comments', 'dis_quo', 'film_date']].sort_values('dis_quo', ascending=False).head(10)"
      ],
      "execution_count": 15,
      "outputs": [
        {
          "output_type": "execute_result",
          "data": {
            "text/html": [
              "<div>\n",
              "<style scoped>\n",
              "    .dataframe tbody tr th:only-of-type {\n",
              "        vertical-align: middle;\n",
              "    }\n",
              "\n",
              "    .dataframe tbody tr th {\n",
              "        vertical-align: top;\n",
              "    }\n",
              "\n",
              "    .dataframe thead th {\n",
              "        text-align: right;\n",
              "    }\n",
              "</style>\n",
              "<table border=\"1\" class=\"dataframe\">\n",
              "  <thead>\n",
              "    <tr style=\"text-align: right;\">\n",
              "      <th></th>\n",
              "      <th>title</th>\n",
              "      <th>main_speaker</th>\n",
              "      <th>views</th>\n",
              "      <th>comments</th>\n",
              "      <th>dis_quo</th>\n",
              "      <th>film_date</th>\n",
              "    </tr>\n",
              "  </thead>\n",
              "  <tbody>\n",
              "    <tr>\n",
              "      <th>744</th>\n",
              "      <td>The case for same-sex marriage</td>\n",
              "      <td>Diane J. Savino</td>\n",
              "      <td>292395</td>\n",
              "      <td>649</td>\n",
              "      <td>0.002220</td>\n",
              "      <td>02-12-09</td>\n",
              "    </tr>\n",
              "    <tr>\n",
              "      <th>803</th>\n",
              "      <td>E-voting without fraud</td>\n",
              "      <td>David Bismark</td>\n",
              "      <td>543551</td>\n",
              "      <td>834</td>\n",
              "      <td>0.001534</td>\n",
              "      <td>14-07-10</td>\n",
              "    </tr>\n",
              "    <tr>\n",
              "      <th>96</th>\n",
              "      <td>Militant atheism</td>\n",
              "      <td>Richard Dawkins</td>\n",
              "      <td>4374792</td>\n",
              "      <td>6404</td>\n",
              "      <td>0.001464</td>\n",
              "      <td>02-02-02</td>\n",
              "    </tr>\n",
              "    <tr>\n",
              "      <th>694</th>\n",
              "      <td>Inside a school for suicide bombers</td>\n",
              "      <td>Sharmeen Obaid-Chinoy</td>\n",
              "      <td>1057238</td>\n",
              "      <td>1502</td>\n",
              "      <td>0.001421</td>\n",
              "      <td>10-02-10</td>\n",
              "    </tr>\n",
              "    <tr>\n",
              "      <th>954</th>\n",
              "      <td>Taking imagination seriously</td>\n",
              "      <td>Janet Echelman</td>\n",
              "      <td>1832930</td>\n",
              "      <td>2492</td>\n",
              "      <td>0.001360</td>\n",
              "      <td>03-03-11</td>\n",
              "    </tr>\n",
              "    <tr>\n",
              "      <th>840</th>\n",
              "      <td>On reading the Koran</td>\n",
              "      <td>Lesley Hazleton</td>\n",
              "      <td>1847256</td>\n",
              "      <td>2374</td>\n",
              "      <td>0.001285</td>\n",
              "      <td>10-10-10</td>\n",
              "    </tr>\n",
              "    <tr>\n",
              "      <th>876</th>\n",
              "      <td>Curating humanity's heritage</td>\n",
              "      <td>Elizabeth Lindsey</td>\n",
              "      <td>439180</td>\n",
              "      <td>555</td>\n",
              "      <td>0.001264</td>\n",
              "      <td>08-12-10</td>\n",
              "    </tr>\n",
              "    <tr>\n",
              "      <th>1787</th>\n",
              "      <td>How do you explain consciousness?</td>\n",
              "      <td>David Chalmers</td>\n",
              "      <td>2162764</td>\n",
              "      <td>2673</td>\n",
              "      <td>0.001236</td>\n",
              "      <td>18-03-14</td>\n",
              "    </tr>\n",
              "    <tr>\n",
              "      <th>661</th>\n",
              "      <td>The danger of science denial</td>\n",
              "      <td>Michael Specter</td>\n",
              "      <td>1838628</td>\n",
              "      <td>2272</td>\n",
              "      <td>0.001236</td>\n",
              "      <td>11-02-10</td>\n",
              "    </tr>\n",
              "    <tr>\n",
              "      <th>561</th>\n",
              "      <td>Dance to change the world</td>\n",
              "      <td>Mallika Sarabhai</td>\n",
              "      <td>481834</td>\n",
              "      <td>595</td>\n",
              "      <td>0.001235</td>\n",
              "      <td>04-11-09</td>\n",
              "    </tr>\n",
              "  </tbody>\n",
              "</table>\n",
              "</div>"
            ],
            "text/plain": [
              "                                    title  ... film_date\n",
              "744        The case for same-sex marriage  ...  02-12-09\n",
              "803                E-voting without fraud  ...  14-07-10\n",
              "96                       Militant atheism  ...  02-02-02\n",
              "694   Inside a school for suicide bombers  ...  10-02-10\n",
              "954          Taking imagination seriously  ...  03-03-11\n",
              "840                  On reading the Koran  ...  10-10-10\n",
              "876          Curating humanity's heritage  ...  08-12-10\n",
              "1787    How do you explain consciousness?  ...  18-03-14\n",
              "661          The danger of science denial  ...  11-02-10\n",
              "561             Dance to change the world  ...  04-11-09\n",
              "\n",
              "[10 rows x 6 columns]"
            ]
          },
          "metadata": {
            "tags": []
          },
          "execution_count": 15
        }
      ]
    },
    {
      "cell_type": "markdown",
      "metadata": {
        "id": "INr3XGSXeteo",
        "colab_type": "text"
      },
      "source": [
        "# Analysing Ted Talks by the month of the year"
      ]
    },
    {
      "cell_type": "code",
      "metadata": {
        "id": "_MIURs0oj1PP",
        "colab_type": "code",
        "colab": {}
      },
      "source": [
        "def getday(x):\n",
        "    day, month, year = (int(i) for i in x.split('-'))    \n",
        "    answer = datetime.date(year, month, day).weekday()\n",
        "    return day_order[answer]"
      ],
      "execution_count": 10,
      "outputs": []
    },
    {
      "cell_type": "code",
      "metadata": {
        "id": "0askQcZwfArE",
        "colab_type": "code",
        "colab": {}
      },
      "source": [
        "ted_data['month'] = ted_data['film_date'].apply(lambda x: month_order[int(x.split('-')[1])-1])\n",
        "month_df = pd.DataFrame(ted_data['month'].value_counts()).reset_index()\n",
        "month_df.columns = ['months', 'talks']"
      ],
      "execution_count": 8,
      "outputs": []
    },
    {
      "cell_type": "code",
      "metadata": {
        "id": "vA6LgHWQgcxG",
        "colab_type": "code",
        "colab": {
          "base_uri": "https://localhost:8080/",
          "height": 296
        },
        "outputId": "a52f9edc-afe8-4a38-e661-a8acb3aab9c6"
      },
      "source": [
        "sns.barplot(x='months', y='talks', data=month_df, order=month_order)"
      ],
      "execution_count": null,
      "outputs": [
        {
          "output_type": "execute_result",
          "data": {
            "text/plain": [
              "<matplotlib.axes._subplots.AxesSubplot at 0x7f56e8754f98>"
            ]
          },
          "metadata": {
            "tags": []
          },
          "execution_count": 20
        },
        {
          "output_type": "display_data",
          "data": {
            "image/png": "[encoded data removed]",
            "text/plain": [
              "<Figure size 432x288 with 1 Axes>"
            ]
          },
          "metadata": {
            "tags": []
          }
        }
      ]
    },
    {
      "cell_type": "markdown",
      "metadata": {
        "id": "Kf5T9xMOjO7j",
        "colab_type": "text"
      },
      "source": [
        "February is the most popular month for Ted talks, while January and August are the least popular months\n"
      ]
    },
    {
      "cell_type": "markdown",
      "metadata": {
        "id": "IxV8pVuw0s0V",
        "colab_type": "text"
      },
      "source": [
        "Visualize the number of ted talks through the years"
      ]
    },
    {
      "cell_type": "code",
      "metadata": {
        "id": "l0109WEB0A1Q",
        "colab_type": "code",
        "colab": {}
      },
      "source": [
        "ted_data['year'] = ted_data['film_date'].apply(lambda x: x.split('-')[2])\n",
        "year_df = pd.DataFrame(ted_data['year'].value_counts().reset_index())\n",
        "year_df.columns = ['year', 'talks']"
      ],
      "execution_count": 20,
      "outputs": []
    },
    {
      "cell_type": "markdown",
      "metadata": {
        "id": "enansoi72QnX",
        "colab_type": "text"
      },
      "source": [
        "Draw the plot"
      ]
    },
    {
      "cell_type": "code",
      "metadata": {
        "id": "EK2so0jA2SVs",
        "colab_type": "code",
        "colab": {
          "base_uri": "https://localhost:8080/",
          "height": 0
        },
        "outputId": "c25561e1-191a-4645-a268-f85cb53d6668"
      },
      "source": [
        "plt.figure(figsize=(18,5))\n",
        "sns.pointplot(x='year', y='talks', data = year_df)"
      ],
      "execution_count": 21,
      "outputs": [
        {
          "output_type": "execute_result",
          "data": {
            "text/plain": [
              "<matplotlib.axes._subplots.AxesSubplot at 0x7f2f8df12358>"
            ]
          },
          "metadata": {
            "tags": []
          },
          "execution_count": 21
        },
        {
          "output_type": "display_data",
          "data": {
            "image/png": "[encoded data removed]",
            "text/plain": [
              "<Figure size 1296x360 with 1 Axes>"
            ]
          },
          "metadata": {
            "tags": [],
            "needs_background": "light"
          }
        }
      ]
    },
    {
      "cell_type": "markdown",
      "metadata": {
        "id": "jeA6InFSlJ0T",
        "colab_type": "text"
      },
      "source": [
        "# Working with Ted Ratings"
      ]
    },
    {
      "cell_type": "code",
      "metadata": {
        "id": "bSfM3AwClN4J",
        "colab_type": "code",
        "colab": {
          "base_uri": "https://localhost:8080/",
          "height": 251
        },
        "outputId": "ab4ec6c1-2f18-4811-8c00-44938f9858f7"
      },
      "source": [
        "ted_data.iloc[0]['ratings']"
      ],
      "execution_count": 35,
      "outputs": [
        {
          "output_type": "execute_result",
          "data": {
            "text/plain": [
              "[{'count': 19645, 'id': 7, 'name': 'Funny'},\n",
              " {'count': 4573, 'id': 1, 'name': 'Beautiful'},\n",
              " {'count': 6073, 'id': 9, 'name': 'Ingenious'},\n",
              " {'count': 3253, 'id': 3, 'name': 'Courageous'},\n",
              " {'count': 387, 'id': 11, 'name': 'Longwinded'},\n",
              " {'count': 242, 'id': 2, 'name': 'Confusing'},\n",
              " {'count': 7346, 'id': 8, 'name': 'Informative'},\n",
              " {'count': 10581, 'id': 22, 'name': 'Fascinating'},\n",
              " {'count': 300, 'id': 21, 'name': 'Unconvincing'},\n",
              " {'count': 10704, 'id': 24, 'name': 'Persuasive'},\n",
              " {'count': 4439, 'id': 23, 'name': 'Jaw-dropping'},\n",
              " {'count': 1174, 'id': 25, 'name': 'OK'},\n",
              " {'count': 209, 'id': 26, 'name': 'Obnoxious'},\n",
              " {'count': 24924, 'id': 10, 'name': 'Inspiring'}]"
            ]
          },
          "metadata": {
            "tags": []
          },
          "execution_count": 35
        }
      ]
    },
    {
      "cell_type": "code",
      "metadata": {
        "id": "31s-bcbhouNL",
        "colab_type": "code",
        "colab": {
          "base_uri": "https://localhost:8080/",
          "height": 217
        },
        "outputId": "1889b3fb-c1be-44ea-8ebe-441d1bb19bef"
      },
      "source": [
        "import ast\n",
        "ted_data['ratings'] = ted_data['ratings'].apply(lambda x: ast.literal_eval(x))\n",
        "ted_data['ratings']"
      ],
      "execution_count": 46,
      "outputs": [
        {
          "output_type": "execute_result",
          "data": {
            "text/plain": [
              "0       [{'id': 7, 'name': 'Funny', 'count': 19645}, {...\n",
              "1       [{'id': 7, 'name': 'Funny', 'count': 544}, {'i...\n",
              "2       [{'id': 7, 'name': 'Funny', 'count': 964}, {'i...\n",
              "3       [{'id': 3, 'name': 'Courageous', 'count': 760}...\n",
              "4       [{'id': 9, 'name': 'Ingenious', 'count': 3202}...\n",
              "                              ...                        \n",
              "2545    [{'id': 3, 'name': 'Courageous', 'count': 24},...\n",
              "2546    [{'id': 22, 'name': 'Fascinating', 'count': 32...\n",
              "2547    [{'id': 1, 'name': 'Beautiful', 'count': 14}, ...\n",
              "2548    [{'id': 11, 'name': 'Longwinded', 'count': 3},...\n",
              "2549    [{'id': 21, 'name': 'Unconvincing', 'count': 2...\n",
              "Name: ratings, Length: 2550, dtype: object"
            ]
          },
          "metadata": {
            "tags": []
          },
          "execution_count": 46
        }
      ]
    },
    {
      "cell_type": "code",
      "metadata": {
        "id": "6D33tZP9rVPw",
        "colab_type": "code",
        "colab": {
          "base_uri": "https://localhost:8080/",
          "height": 584
        },
        "outputId": "54d31c9d-ca46-4160-b3a3-23b4dda081f3"
      },
      "source": [
        "ted_data['fascinating'] = ted_data['ratings'].apply(lambda x:x[-4]['count'])\n",
        "ted_data['jawdrop'] = ted_data['ratings'].apply(lambda x: x[-3]['count'])\n",
        "ted_data['beautiful'] = ted_data['ratings'].apply(lambda x: x[3]['count'])\n",
        "ted_data['confusing'] = ted_data['ratings'].apply(lambda x: x[2]['count'])\n",
        "ted_data.head() "
      ],
      "execution_count": 37,
      "outputs": [
        {
          "output_type": "execute_result",
          "data": {
            "text/html": [
              "<div>\n",
              "<style scoped>\n",
              "    .dataframe tbody tr th:only-of-type {\n",
              "        vertical-align: middle;\n",
              "    }\n",
              "\n",
              "    .dataframe tbody tr th {\n",
              "        vertical-align: top;\n",
              "    }\n",
              "\n",
              "    .dataframe thead th {\n",
              "        text-align: right;\n",
              "    }\n",
              "</style>\n",
              "<table border=\"1\" class=\"dataframe\">\n",
              "  <thead>\n",
              "    <tr style=\"text-align: right;\">\n",
              "      <th></th>\n",
              "      <th>comments</th>\n",
              "      <th>description</th>\n",
              "      <th>duration</th>\n",
              "      <th>event</th>\n",
              "      <th>film_date</th>\n",
              "      <th>languages</th>\n",
              "      <th>main_speaker</th>\n",
              "      <th>name</th>\n",
              "      <th>num_speaker</th>\n",
              "      <th>published_date</th>\n",
              "      <th>ratings</th>\n",
              "      <th>related_talks</th>\n",
              "      <th>speaker_occupation</th>\n",
              "      <th>tags</th>\n",
              "      <th>title</th>\n",
              "      <th>url</th>\n",
              "      <th>views</th>\n",
              "      <th>year</th>\n",
              "      <th>fascinating</th>\n",
              "      <th>jawdrop</th>\n",
              "      <th>beautiful</th>\n",
              "      <th>confusing</th>\n",
              "    </tr>\n",
              "  </thead>\n",
              "  <tbody>\n",
              "    <tr>\n",
              "      <th>0</th>\n",
              "      <td>4553</td>\n",
              "      <td>Sir Ken Robinson makes an entertaining and pro...</td>\n",
              "      <td>1164</td>\n",
              "      <td>TED2006</td>\n",
              "      <td>25-02-2006</td>\n",
              "      <td>60</td>\n",
              "      <td>Ken Robinson</td>\n",
              "      <td>Ken Robinson: Do schools kill creativity?</td>\n",
              "      <td>1</td>\n",
              "      <td>27-06-2006</td>\n",
              "      <td>[{'id': 7, 'name': 'Funny', 'count': 19645}, {...</td>\n",
              "      <td>[{'id': 865, 'hero': 'https://pe.tedcdn.com/im...</td>\n",
              "      <td>Author/educator</td>\n",
              "      <td>['children', 'creativity', 'culture', 'dance',...</td>\n",
              "      <td>Do schools kill creativity?</td>\n",
              "      <td>https://www.ted.com/talks/ken_robinson_says_sc...</td>\n",
              "      <td>47227110</td>\n",
              "      <td>2006</td>\n",
              "      <td>4439</td>\n",
              "      <td>1174</td>\n",
              "      <td>3253</td>\n",
              "      <td>6073</td>\n",
              "    </tr>\n",
              "    <tr>\n",
              "      <th>1</th>\n",
              "      <td>265</td>\n",
              "      <td>With the same humor and humanity he exuded in ...</td>\n",
              "      <td>977</td>\n",
              "      <td>TED2006</td>\n",
              "      <td>25-02-2006</td>\n",
              "      <td>43</td>\n",
              "      <td>Al Gore</td>\n",
              "      <td>Al Gore: Averting the climate crisis</td>\n",
              "      <td>1</td>\n",
              "      <td>27-06-2006</td>\n",
              "      <td>[{'id': 7, 'name': 'Funny', 'count': 544}, {'i...</td>\n",
              "      <td>[{'id': 243, 'hero': 'https://pe.tedcdn.com/im...</td>\n",
              "      <td>Climate advocate</td>\n",
              "      <td>['alternative energy', 'cars', 'climate change...</td>\n",
              "      <td>Averting the climate crisis</td>\n",
              "      <td>https://www.ted.com/talks/al_gore_on_averting_...</td>\n",
              "      <td>3200520</td>\n",
              "      <td>2006</td>\n",
              "      <td>268</td>\n",
              "      <td>116</td>\n",
              "      <td>58</td>\n",
              "      <td>62</td>\n",
              "    </tr>\n",
              "    <tr>\n",
              "      <th>2</th>\n",
              "      <td>124</td>\n",
              "      <td>New York Times columnist David Pogue takes aim...</td>\n",
              "      <td>1286</td>\n",
              "      <td>TED2006</td>\n",
              "      <td>24-02-2006</td>\n",
              "      <td>26</td>\n",
              "      <td>David Pogue</td>\n",
              "      <td>David Pogue: Simplicity sells</td>\n",
              "      <td>1</td>\n",
              "      <td>27-06-2006</td>\n",
              "      <td>[{'id': 7, 'name': 'Funny', 'count': 964}, {'i...</td>\n",
              "      <td>[{'id': 1725, 'hero': 'https://pe.tedcdn.com/i...</td>\n",
              "      <td>Technology columnist</td>\n",
              "      <td>['computers', 'entertainment', 'interface desi...</td>\n",
              "      <td>Simplicity sells</td>\n",
              "      <td>https://www.ted.com/talks/david_pogue_says_sim...</td>\n",
              "      <td>1636292</td>\n",
              "      <td>2006</td>\n",
              "      <td>146</td>\n",
              "      <td>230</td>\n",
              "      <td>60</td>\n",
              "      <td>183</td>\n",
              "    </tr>\n",
              "    <tr>\n",
              "      <th>3</th>\n",
              "      <td>200</td>\n",
              "      <td>In an emotionally charged talk, MacArthur-winn...</td>\n",
              "      <td>1116</td>\n",
              "      <td>TED2006</td>\n",
              "      <td>26-02-2006</td>\n",
              "      <td>35</td>\n",
              "      <td>Majora Carter</td>\n",
              "      <td>Majora Carter: Greening the ghetto</td>\n",
              "      <td>1</td>\n",
              "      <td>27-06-2006</td>\n",
              "      <td>[{'id': 3, 'name': 'Courageous', 'count': 760}...</td>\n",
              "      <td>[{'id': 1041, 'hero': 'https://pe.tedcdn.com/i...</td>\n",
              "      <td>Activist for environmental justice</td>\n",
              "      <td>['MacArthur grant', 'activism', 'business', 'c...</td>\n",
              "      <td>Greening the ghetto</td>\n",
              "      <td>https://www.ted.com/talks/majora_carter_s_tale...</td>\n",
              "      <td>1697550</td>\n",
              "      <td>2006</td>\n",
              "      <td>460</td>\n",
              "      <td>230</td>\n",
              "      <td>59</td>\n",
              "      <td>32</td>\n",
              "    </tr>\n",
              "    <tr>\n",
              "      <th>4</th>\n",
              "      <td>593</td>\n",
              "      <td>You've never seen data presented like this. Wi...</td>\n",
              "      <td>1190</td>\n",
              "      <td>TED2006</td>\n",
              "      <td>22-02-2006</td>\n",
              "      <td>48</td>\n",
              "      <td>Hans Rosling</td>\n",
              "      <td>Hans Rosling: The best stats you've ever seen</td>\n",
              "      <td>1</td>\n",
              "      <td>27-06-2006</td>\n",
              "      <td>[{'id': 9, 'name': 'Ingenious', 'count': 3202}...</td>\n",
              "      <td>[{'id': 2056, 'hero': 'https://pe.tedcdn.com/i...</td>\n",
              "      <td>Global health expert; data visionary</td>\n",
              "      <td>['Africa', 'Asia', 'Google', 'demo', 'economic...</td>\n",
              "      <td>The best stats you've ever seen</td>\n",
              "      <td>https://www.ted.com/talks/hans_rosling_shows_t...</td>\n",
              "      <td>12005869</td>\n",
              "      <td>2006</td>\n",
              "      <td>3736</td>\n",
              "      <td>2542</td>\n",
              "      <td>318</td>\n",
              "      <td>942</td>\n",
              "    </tr>\n",
              "  </tbody>\n",
              "</table>\n",
              "</div>"
            ],
            "text/plain": [
              "   comments  ... confusing\n",
              "0      4553  ...      6073\n",
              "1       265  ...        62\n",
              "2       124  ...       183\n",
              "3       200  ...        32\n",
              "4       593  ...       942\n",
              "\n",
              "[5 rows x 22 columns]"
            ]
          },
          "metadata": {
            "tags": []
          },
          "execution_count": 37
        }
      ]
    },
    {
      "cell_type": "markdown",
      "metadata": {
        "id": "TQkQJ5E0sHs9",
        "colab_type": "text"
      },
      "source": [
        "Most Fascinating talks of all time"
      ]
    },
    {
      "cell_type": "code",
      "metadata": {
        "id": "6NXBmn3ssLfk",
        "colab_type": "code",
        "colab": {
          "base_uri": "https://localhost:8080/",
          "height": 494
        },
        "outputId": "c635829a-f49b-4c28-b39a-16c7bab4198e"
      },
      "source": [
        "ted_data[['title', 'main_speaker', 'views', 'published_date', 'fascinating']].sort_values('fascinating', ascending=False)[:15]"
      ],
      "execution_count": 38,
      "outputs": [
        {
          "output_type": "execute_result",
          "data": {
            "text/html": [
              "<div>\n",
              "<style scoped>\n",
              "    .dataframe tbody tr th:only-of-type {\n",
              "        vertical-align: middle;\n",
              "    }\n",
              "\n",
              "    .dataframe tbody tr th {\n",
              "        vertical-align: top;\n",
              "    }\n",
              "\n",
              "    .dataframe thead th {\n",
              "        text-align: right;\n",
              "    }\n",
              "</style>\n",
              "<table border=\"1\" class=\"dataframe\">\n",
              "  <thead>\n",
              "    <tr style=\"text-align: right;\">\n",
              "      <th></th>\n",
              "      <th>title</th>\n",
              "      <th>main_speaker</th>\n",
              "      <th>views</th>\n",
              "      <th>published_date</th>\n",
              "      <th>fascinating</th>\n",
              "    </tr>\n",
              "  </thead>\n",
              "  <tbody>\n",
              "    <tr>\n",
              "      <th>108</th>\n",
              "      <td>How PhotoSynth can connect the world's images</td>\n",
              "      <td>Blaise Agüera y Arcas</td>\n",
              "      <td>4772595</td>\n",
              "      <td>27-05-2007</td>\n",
              "      <td>14728</td>\n",
              "    </tr>\n",
              "    <tr>\n",
              "      <th>168</th>\n",
              "      <td>A performance of \"Mathemagic\"</td>\n",
              "      <td>Arthur Benjamin</td>\n",
              "      <td>8360707</td>\n",
              "      <td>13-12-2007</td>\n",
              "      <td>7196</td>\n",
              "    </tr>\n",
              "    <tr>\n",
              "      <th>117</th>\n",
              "      <td>New insights on poverty</td>\n",
              "      <td>Hans Rosling</td>\n",
              "      <td>3243784</td>\n",
              "      <td>25-06-2007</td>\n",
              "      <td>5137</td>\n",
              "    </tr>\n",
              "    <tr>\n",
              "      <th>13</th>\n",
              "      <td>The radical promise of the multi-touch interface</td>\n",
              "      <td>Jeff Han</td>\n",
              "      <td>4531020</td>\n",
              "      <td>01-08-2006</td>\n",
              "      <td>4643</td>\n",
              "    </tr>\n",
              "    <tr>\n",
              "      <th>0</th>\n",
              "      <td>Do schools kill creativity?</td>\n",
              "      <td>Ken Robinson</td>\n",
              "      <td>47227110</td>\n",
              "      <td>27-06-2006</td>\n",
              "      <td>4439</td>\n",
              "    </tr>\n",
              "    <tr>\n",
              "      <th>1163</th>\n",
              "      <td>The power of introverts</td>\n",
              "      <td>Susan Cain</td>\n",
              "      <td>17629275</td>\n",
              "      <td>02-03-2012</td>\n",
              "      <td>3944</td>\n",
              "    </tr>\n",
              "    <tr>\n",
              "      <th>4</th>\n",
              "      <td>The best stats you've ever seen</td>\n",
              "      <td>Hans Rosling</td>\n",
              "      <td>12005869</td>\n",
              "      <td>27-06-2006</td>\n",
              "      <td>3736</td>\n",
              "    </tr>\n",
              "    <tr>\n",
              "      <th>30</th>\n",
              "      <td>The paradox of choice</td>\n",
              "      <td>Barry Schwartz</td>\n",
              "      <td>10000702</td>\n",
              "      <td>26-09-2006</td>\n",
              "      <td>2478</td>\n",
              "    </tr>\n",
              "    <tr>\n",
              "      <th>96</th>\n",
              "      <td>Militant atheism</td>\n",
              "      <td>Richard Dawkins</td>\n",
              "      <td>4374792</td>\n",
              "      <td>16-04-2007</td>\n",
              "      <td>2475</td>\n",
              "    </tr>\n",
              "    <tr>\n",
              "      <th>5</th>\n",
              "      <td>Why we do what we do</td>\n",
              "      <td>Tony Robbins</td>\n",
              "      <td>20685401</td>\n",
              "      <td>27-06-2006</td>\n",
              "      <td>2423</td>\n",
              "    </tr>\n",
              "    <tr>\n",
              "      <th>29</th>\n",
              "      <td>The surprising science of happiness</td>\n",
              "      <td>Dan Gilbert</td>\n",
              "      <td>14689301</td>\n",
              "      <td>26-09-2006</td>\n",
              "      <td>2355</td>\n",
              "    </tr>\n",
              "    <tr>\n",
              "      <th>140</th>\n",
              "      <td>My creations, a new form of life</td>\n",
              "      <td>Theo Jansen</td>\n",
              "      <td>3982352</td>\n",
              "      <td>06-09-2007</td>\n",
              "      <td>2186</td>\n",
              "    </tr>\n",
              "    <tr>\n",
              "      <th>158</th>\n",
              "      <td>Laws that choke creativity</td>\n",
              "      <td>Lawrence Lessig</td>\n",
              "      <td>1895259</td>\n",
              "      <td>06-11-2007</td>\n",
              "      <td>2163</td>\n",
              "    </tr>\n",
              "    <tr>\n",
              "      <th>137</th>\n",
              "      <td>Luke, a new prosthetic arm for soldiers</td>\n",
              "      <td>Dean Kamen</td>\n",
              "      <td>1575699</td>\n",
              "      <td>28-08-2007</td>\n",
              "      <td>2080</td>\n",
              "    </tr>\n",
              "    <tr>\n",
              "      <th>58</th>\n",
              "      <td>A dance of \"Symbiosis\"</td>\n",
              "      <td>Pilobolus</td>\n",
              "      <td>3051507</td>\n",
              "      <td>09-02-2007</td>\n",
              "      <td>2011</td>\n",
              "    </tr>\n",
              "  </tbody>\n",
              "</table>\n",
              "</div>"
            ],
            "text/plain": [
              "                                                 title  ... fascinating\n",
              "108      How PhotoSynth can connect the world's images  ...       14728\n",
              "168                      A performance of \"Mathemagic\"  ...        7196\n",
              "117                            New insights on poverty  ...        5137\n",
              "13    The radical promise of the multi-touch interface  ...        4643\n",
              "0                          Do schools kill creativity?  ...        4439\n",
              "1163                           The power of introverts  ...        3944\n",
              "4                      The best stats you've ever seen  ...        3736\n",
              "30                               The paradox of choice  ...        2478\n",
              "96                                    Militant atheism  ...        2475\n",
              "5                                 Why we do what we do  ...        2423\n",
              "29                 The surprising science of happiness  ...        2355\n",
              "140                   My creations, a new form of life  ...        2186\n",
              "158                         Laws that choke creativity  ...        2163\n",
              "137            Luke, a new prosthetic arm for soldiers  ...        2080\n",
              "58                              A dance of \"Symbiosis\"  ...        2011\n",
              "\n",
              "[15 rows x 5 columns]"
            ]
          },
          "metadata": {
            "tags": []
          },
          "execution_count": 38
        }
      ]
    },
    {
      "cell_type": "markdown",
      "metadata": {
        "id": "6QT7BhgVv1uB",
        "colab_type": "text"
      },
      "source": [
        "#Ted tags"
      ]
    },
    {
      "cell_type": "code",
      "metadata": {
        "id": "u1Ok4eHWv5b_",
        "colab_type": "code",
        "colab": {}
      },
      "source": [
        "ted_data['tags'] = ted_data['tags'].apply(lambda x: ast.literal_eval(x))"
      ],
      "execution_count": 48,
      "outputs": []
    },
    {
      "cell_type": "code",
      "metadata": {
        "id": "ybs5hJ21xeAy",
        "colab_type": "code",
        "colab": {}
      },
      "source": [
        "theme = ted_data.apply(lambda x: pd.Series(x['tags']), axis=1).stack().reset_index(level=1, drop=True)\n",
        "theme.name = 'theme'"
      ],
      "execution_count": 49,
      "outputs": []
    },
    {
      "cell_type": "code",
      "metadata": {
        "id": "tIqpFUhpyAjg",
        "colab_type": "code",
        "colab": {
          "base_uri": "https://localhost:8080/",
          "height": 1000
        },
        "outputId": "80486c1e-1dc4-43a3-e29c-dcd883aded49"
      },
      "source": [
        "theme_df = ted_data.drop('tags', axis=1).join(theme)\n",
        "theme_df.head(10)\n"
      ],
      "execution_count": 50,
      "outputs": [
        {
          "output_type": "execute_result",
          "data": {
            "text/html": [
              "<div>\n",
              "<style scoped>\n",
              "    .dataframe tbody tr th:only-of-type {\n",
              "        vertical-align: middle;\n",
              "    }\n",
              "\n",
              "    .dataframe tbody tr th {\n",
              "        vertical-align: top;\n",
              "    }\n",
              "\n",
              "    .dataframe thead th {\n",
              "        text-align: right;\n",
              "    }\n",
              "</style>\n",
              "<table border=\"1\" class=\"dataframe\">\n",
              "  <thead>\n",
              "    <tr style=\"text-align: right;\">\n",
              "      <th></th>\n",
              "      <th>comments</th>\n",
              "      <th>description</th>\n",
              "      <th>duration</th>\n",
              "      <th>event</th>\n",
              "      <th>film_date</th>\n",
              "      <th>languages</th>\n",
              "      <th>main_speaker</th>\n",
              "      <th>name</th>\n",
              "      <th>num_speaker</th>\n",
              "      <th>published_date</th>\n",
              "      <th>ratings</th>\n",
              "      <th>related_talks</th>\n",
              "      <th>speaker_occupation</th>\n",
              "      <th>title</th>\n",
              "      <th>url</th>\n",
              "      <th>views</th>\n",
              "      <th>theme</th>\n",
              "    </tr>\n",
              "  </thead>\n",
              "  <tbody>\n",
              "    <tr>\n",
              "      <th>0</th>\n",
              "      <td>4553</td>\n",
              "      <td>Sir Ken Robinson makes an entertaining and pro...</td>\n",
              "      <td>1164</td>\n",
              "      <td>TED2006</td>\n",
              "      <td>25-02-2006</td>\n",
              "      <td>60</td>\n",
              "      <td>Ken Robinson</td>\n",
              "      <td>Ken Robinson: Do schools kill creativity?</td>\n",
              "      <td>1</td>\n",
              "      <td>27-06-2006</td>\n",
              "      <td>[{'id': 7, 'name': 'Funny', 'count': 19645}, {...</td>\n",
              "      <td>[{'id': 865, 'hero': 'https://pe.tedcdn.com/im...</td>\n",
              "      <td>Author/educator</td>\n",
              "      <td>Do schools kill creativity?</td>\n",
              "      <td>https://www.ted.com/talks/ken_robinson_says_sc...</td>\n",
              "      <td>47227110</td>\n",
              "      <td>children</td>\n",
              "    </tr>\n",
              "    <tr>\n",
              "      <th>0</th>\n",
              "      <td>4553</td>\n",
              "      <td>Sir Ken Robinson makes an entertaining and pro...</td>\n",
              "      <td>1164</td>\n",
              "      <td>TED2006</td>\n",
              "      <td>25-02-2006</td>\n",
              "      <td>60</td>\n",
              "      <td>Ken Robinson</td>\n",
              "      <td>Ken Robinson: Do schools kill creativity?</td>\n",
              "      <td>1</td>\n",
              "      <td>27-06-2006</td>\n",
              "      <td>[{'id': 7, 'name': 'Funny', 'count': 19645}, {...</td>\n",
              "      <td>[{'id': 865, 'hero': 'https://pe.tedcdn.com/im...</td>\n",
              "      <td>Author/educator</td>\n",
              "      <td>Do schools kill creativity?</td>\n",
              "      <td>https://www.ted.com/talks/ken_robinson_says_sc...</td>\n",
              "      <td>47227110</td>\n",
              "      <td>creativity</td>\n",
              "    </tr>\n",
              "    <tr>\n",
              "      <th>0</th>\n",
              "      <td>4553</td>\n",
              "      <td>Sir Ken Robinson makes an entertaining and pro...</td>\n",
              "      <td>1164</td>\n",
              "      <td>TED2006</td>\n",
              "      <td>25-02-2006</td>\n",
              "      <td>60</td>\n",
              "      <td>Ken Robinson</td>\n",
              "      <td>Ken Robinson: Do schools kill creativity?</td>\n",
              "      <td>1</td>\n",
              "      <td>27-06-2006</td>\n",
              "      <td>[{'id': 7, 'name': 'Funny', 'count': 19645}, {...</td>\n",
              "      <td>[{'id': 865, 'hero': 'https://pe.tedcdn.com/im...</td>\n",
              "      <td>Author/educator</td>\n",
              "      <td>Do schools kill creativity?</td>\n",
              "      <td>https://www.ted.com/talks/ken_robinson_says_sc...</td>\n",
              "      <td>47227110</td>\n",
              "      <td>culture</td>\n",
              "    </tr>\n",
              "    <tr>\n",
              "      <th>0</th>\n",
              "      <td>4553</td>\n",
              "      <td>Sir Ken Robinson makes an entertaining and pro...</td>\n",
              "      <td>1164</td>\n",
              "      <td>TED2006</td>\n",
              "      <td>25-02-2006</td>\n",
              "      <td>60</td>\n",
              "      <td>Ken Robinson</td>\n",
              "      <td>Ken Robinson: Do schools kill creativity?</td>\n",
              "      <td>1</td>\n",
              "      <td>27-06-2006</td>\n",
              "      <td>[{'id': 7, 'name': 'Funny', 'count': 19645}, {...</td>\n",
              "      <td>[{'id': 865, 'hero': 'https://pe.tedcdn.com/im...</td>\n",
              "      <td>Author/educator</td>\n",
              "      <td>Do schools kill creativity?</td>\n",
              "      <td>https://www.ted.com/talks/ken_robinson_says_sc...</td>\n",
              "      <td>47227110</td>\n",
              "      <td>dance</td>\n",
              "    </tr>\n",
              "    <tr>\n",
              "      <th>0</th>\n",
              "      <td>4553</td>\n",
              "      <td>Sir Ken Robinson makes an entertaining and pro...</td>\n",
              "      <td>1164</td>\n",
              "      <td>TED2006</td>\n",
              "      <td>25-02-2006</td>\n",
              "      <td>60</td>\n",
              "      <td>Ken Robinson</td>\n",
              "      <td>Ken Robinson: Do schools kill creativity?</td>\n",
              "      <td>1</td>\n",
              "      <td>27-06-2006</td>\n",
              "      <td>[{'id': 7, 'name': 'Funny', 'count': 19645}, {...</td>\n",
              "      <td>[{'id': 865, 'hero': 'https://pe.tedcdn.com/im...</td>\n",
              "      <td>Author/educator</td>\n",
              "      <td>Do schools kill creativity?</td>\n",
              "      <td>https://www.ted.com/talks/ken_robinson_says_sc...</td>\n",
              "      <td>47227110</td>\n",
              "      <td>education</td>\n",
              "    </tr>\n",
              "    <tr>\n",
              "      <th>0</th>\n",
              "      <td>4553</td>\n",
              "      <td>Sir Ken Robinson makes an entertaining and pro...</td>\n",
              "      <td>1164</td>\n",
              "      <td>TED2006</td>\n",
              "      <td>25-02-2006</td>\n",
              "      <td>60</td>\n",
              "      <td>Ken Robinson</td>\n",
              "      <td>Ken Robinson: Do schools kill creativity?</td>\n",
              "      <td>1</td>\n",
              "      <td>27-06-2006</td>\n",
              "      <td>[{'id': 7, 'name': 'Funny', 'count': 19645}, {...</td>\n",
              "      <td>[{'id': 865, 'hero': 'https://pe.tedcdn.com/im...</td>\n",
              "      <td>Author/educator</td>\n",
              "      <td>Do schools kill creativity?</td>\n",
              "      <td>https://www.ted.com/talks/ken_robinson_says_sc...</td>\n",
              "      <td>47227110</td>\n",
              "      <td>parenting</td>\n",
              "    </tr>\n",
              "    <tr>\n",
              "      <th>0</th>\n",
              "      <td>4553</td>\n",
              "      <td>Sir Ken Robinson makes an entertaining and pro...</td>\n",
              "      <td>1164</td>\n",
              "      <td>TED2006</td>\n",
              "      <td>25-02-2006</td>\n",
              "      <td>60</td>\n",
              "      <td>Ken Robinson</td>\n",
              "      <td>Ken Robinson: Do schools kill creativity?</td>\n",
              "      <td>1</td>\n",
              "      <td>27-06-2006</td>\n",
              "      <td>[{'id': 7, 'name': 'Funny', 'count': 19645}, {...</td>\n",
              "      <td>[{'id': 865, 'hero': 'https://pe.tedcdn.com/im...</td>\n",
              "      <td>Author/educator</td>\n",
              "      <td>Do schools kill creativity?</td>\n",
              "      <td>https://www.ted.com/talks/ken_robinson_says_sc...</td>\n",
              "      <td>47227110</td>\n",
              "      <td>teaching</td>\n",
              "    </tr>\n",
              "    <tr>\n",
              "      <th>1</th>\n",
              "      <td>265</td>\n",
              "      <td>With the same humor and humanity he exuded in ...</td>\n",
              "      <td>977</td>\n",
              "      <td>TED2006</td>\n",
              "      <td>25-02-2006</td>\n",
              "      <td>43</td>\n",
              "      <td>Al Gore</td>\n",
              "      <td>Al Gore: Averting the climate crisis</td>\n",
              "      <td>1</td>\n",
              "      <td>27-06-2006</td>\n",
              "      <td>[{'id': 7, 'name': 'Funny', 'count': 544}, {'i...</td>\n",
              "      <td>[{'id': 243, 'hero': 'https://pe.tedcdn.com/im...</td>\n",
              "      <td>Climate advocate</td>\n",
              "      <td>Averting the climate crisis</td>\n",
              "      <td>https://www.ted.com/talks/al_gore_on_averting_...</td>\n",
              "      <td>3200520</td>\n",
              "      <td>alternative energy</td>\n",
              "    </tr>\n",
              "    <tr>\n",
              "      <th>1</th>\n",
              "      <td>265</td>\n",
              "      <td>With the same humor and humanity he exuded in ...</td>\n",
              "      <td>977</td>\n",
              "      <td>TED2006</td>\n",
              "      <td>25-02-2006</td>\n",
              "      <td>43</td>\n",
              "      <td>Al Gore</td>\n",
              "      <td>Al Gore: Averting the climate crisis</td>\n",
              "      <td>1</td>\n",
              "      <td>27-06-2006</td>\n",
              "      <td>[{'id': 7, 'name': 'Funny', 'count': 544}, {'i...</td>\n",
              "      <td>[{'id': 243, 'hero': 'https://pe.tedcdn.com/im...</td>\n",
              "      <td>Climate advocate</td>\n",
              "      <td>Averting the climate crisis</td>\n",
              "      <td>https://www.ted.com/talks/al_gore_on_averting_...</td>\n",
              "      <td>3200520</td>\n",
              "      <td>cars</td>\n",
              "    </tr>\n",
              "    <tr>\n",
              "      <th>1</th>\n",
              "      <td>265</td>\n",
              "      <td>With the same humor and humanity he exuded in ...</td>\n",
              "      <td>977</td>\n",
              "      <td>TED2006</td>\n",
              "      <td>25-02-2006</td>\n",
              "      <td>43</td>\n",
              "      <td>Al Gore</td>\n",
              "      <td>Al Gore: Averting the climate crisis</td>\n",
              "      <td>1</td>\n",
              "      <td>27-06-2006</td>\n",
              "      <td>[{'id': 7, 'name': 'Funny', 'count': 544}, {'i...</td>\n",
              "      <td>[{'id': 243, 'hero': 'https://pe.tedcdn.com/im...</td>\n",
              "      <td>Climate advocate</td>\n",
              "      <td>Averting the climate crisis</td>\n",
              "      <td>https://www.ted.com/talks/al_gore_on_averting_...</td>\n",
              "      <td>3200520</td>\n",
              "      <td>climate change</td>\n",
              "    </tr>\n",
              "  </tbody>\n",
              "</table>\n",
              "</div>"
            ],
            "text/plain": [
              "   comments  ...               theme\n",
              "0      4553  ...            children\n",
              "0      4553  ...          creativity\n",
              "0      4553  ...             culture\n",
              "0      4553  ...               dance\n",
              "0      4553  ...           education\n",
              "0      4553  ...           parenting\n",
              "0      4553  ...            teaching\n",
              "1       265  ...  alternative energy\n",
              "1       265  ...                cars\n",
              "1       265  ...      climate change\n",
              "\n",
              "[10 rows x 17 columns]"
            ]
          },
          "metadata": {
            "tags": []
          },
          "execution_count": 50
        }
      ]
    },
    {
      "cell_type": "code",
      "metadata": {
        "id": "slgAHbfeybMO",
        "colab_type": "code",
        "colab": {
          "base_uri": "https://localhost:8080/",
          "height": 345
        },
        "outputId": "47bcfa77-38f7-4516-c371-2aaeef6ac715"
      },
      "source": [
        "# Top 10 most popular theme in Ted talks \n",
        "top_pop_themes = pd.DataFrame(theme_df['theme'].value_counts()).reset_index()\n",
        "top_pop_themes.columns = ['theme', 'talks']\n",
        "top_pop_themes.head(10)"
      ],
      "execution_count": 55,
      "outputs": [
        {
          "output_type": "execute_result",
          "data": {
            "text/html": [
              "<div>\n",
              "<style scoped>\n",
              "    .dataframe tbody tr th:only-of-type {\n",
              "        vertical-align: middle;\n",
              "    }\n",
              "\n",
              "    .dataframe tbody tr th {\n",
              "        vertical-align: top;\n",
              "    }\n",
              "\n",
              "    .dataframe thead th {\n",
              "        text-align: right;\n",
              "    }\n",
              "</style>\n",
              "<table border=\"1\" class=\"dataframe\">\n",
              "  <thead>\n",
              "    <tr style=\"text-align: right;\">\n",
              "      <th></th>\n",
              "      <th>theme</th>\n",
              "      <th>talks</th>\n",
              "    </tr>\n",
              "  </thead>\n",
              "  <tbody>\n",
              "    <tr>\n",
              "      <th>0</th>\n",
              "      <td>technology</td>\n",
              "      <td>727</td>\n",
              "    </tr>\n",
              "    <tr>\n",
              "      <th>1</th>\n",
              "      <td>science</td>\n",
              "      <td>567</td>\n",
              "    </tr>\n",
              "    <tr>\n",
              "      <th>2</th>\n",
              "      <td>global issues</td>\n",
              "      <td>501</td>\n",
              "    </tr>\n",
              "    <tr>\n",
              "      <th>3</th>\n",
              "      <td>culture</td>\n",
              "      <td>486</td>\n",
              "    </tr>\n",
              "    <tr>\n",
              "      <th>4</th>\n",
              "      <td>TEDx</td>\n",
              "      <td>450</td>\n",
              "    </tr>\n",
              "    <tr>\n",
              "      <th>5</th>\n",
              "      <td>design</td>\n",
              "      <td>418</td>\n",
              "    </tr>\n",
              "    <tr>\n",
              "      <th>6</th>\n",
              "      <td>business</td>\n",
              "      <td>348</td>\n",
              "    </tr>\n",
              "    <tr>\n",
              "      <th>7</th>\n",
              "      <td>entertainment</td>\n",
              "      <td>299</td>\n",
              "    </tr>\n",
              "    <tr>\n",
              "      <th>8</th>\n",
              "      <td>health</td>\n",
              "      <td>236</td>\n",
              "    </tr>\n",
              "    <tr>\n",
              "      <th>9</th>\n",
              "      <td>innovation</td>\n",
              "      <td>229</td>\n",
              "    </tr>\n",
              "  </tbody>\n",
              "</table>\n",
              "</div>"
            ],
            "text/plain": [
              "           theme  talks\n",
              "0     technology    727\n",
              "1        science    567\n",
              "2  global issues    501\n",
              "3        culture    486\n",
              "4           TEDx    450\n",
              "5         design    418\n",
              "6       business    348\n",
              "7  entertainment    299\n",
              "8         health    236\n",
              "9     innovation    229"
            ]
          },
          "metadata": {
            "tags": []
          },
          "execution_count": 55
        }
      ]
    },
    {
      "cell_type": "markdown",
      "metadata": {
        "id": "pDbQYwvXzlpJ",
        "colab_type": "text"
      },
      "source": [
        "Let's show the plot of top most popular themes in Ted talks"
      ]
    },
    {
      "cell_type": "code",
      "metadata": {
        "id": "ixlOqzHuzqL3",
        "colab_type": "code",
        "colab": {
          "base_uri": "https://localhost:8080/",
          "height": 334
        },
        "outputId": "31f0c9ce-494f-49b7-ce44-4496325ae1e2"
      },
      "source": [
        "plt.figure(figsize=(16,5))\n",
        "sns.barplot(x='theme', y='talks', data=top_pop_themes.head(10))\n",
        "plt.show()"
      ],
      "execution_count": 57,
      "outputs": [
        {
          "output_type": "display_data",
          "data": {
            "image/png": "[encoded data removed]",
            "text/plain": [
              "<Figure size 1152x360 with 1 Axes>"
            ]
          },
          "metadata": {
            "tags": [],
            "needs_background": "light"
          }
        }
      ]
    }
  ]
}